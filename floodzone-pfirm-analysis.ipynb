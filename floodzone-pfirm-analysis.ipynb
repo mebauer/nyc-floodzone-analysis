{
 "cells": [
  {
   "cell_type": "markdown",
   "metadata": {},
   "source": [
    "# New York City's Flood Zone Exploratory Data Analysis\n",
    "Author: Mark Bauer"
   ]
  },
  {
   "cell_type": "markdown",
   "metadata": {},
   "source": [
    "# 1. Introduction\n",
    "\n",
    "I've wanted to do this project for some time now, and I'm finally happy to share this open source project. This notebook demonstrates how to analyze FEMA's Preliminary Flood Insurance Rate Map (i.e. PFIRM), sometimes known as '*flood zone*.' The flood zone is for New York City (all five boroughs). Let's see what cool things we can discover about this dataset!"
   ]
  },
  {
   "cell_type": "markdown",
   "metadata": {},
   "source": [
    "# Resources Before Getting Started"
   ]
  },
  {
   "cell_type": "markdown",
   "metadata": {},
   "source": [
    "NYC's Preliminary Flood Insurance Rate Map (PFIRM) data can be downloaded here:  \n",
    "http://www.region2coastal.com/view-flood-maps-data/view-preliminary-flood-map-data/\n",
    "\n",
    "![website](imgs/fema-pfirm-website.png)\n",
    "\n",
    "*Figure 1. Screenshot of website of the pfirm data*"
   ]
  },
  {
   "cell_type": "markdown",
   "metadata": {},
   "source": [
    "![image](imgs/data-for-nyc.png)\n",
    "\n",
    "*Figure 2. Screenshot of data section for New York City*"
   ]
  },
  {
   "cell_type": "markdown",
   "metadata": {},
   "source": [
    "About the data: \n",
    ">The Digital Flood Insurance Rate Map (DFIRM) Database depicts flood risk information and supporting data used to develop the risk data. The primary risk classifications used are the 1-percent-annual-chance flood event, the 0.2-percent-annual-chance flood event, and areas of minimal flood risk. The DFIRM Database is derived from Flood Insurance Studies (FISs), previously published Flood Insurance Rate Maps (FIRMs), flood hazard analyses performed in support of the FISs and FIRMs, and new mapping data, where available. The FISs and FIRMs are published by the Federal Emergency Management Agency (FEMA). The file is georeferenced to earth's surface using the State Plane projection and coordinate system. The specifications for the horizontal control of DFIRM data files are consistent with those required for mapping at a scale of 1:12,000."
   ]
  },
  {
   "cell_type": "markdown",
   "metadata": {},
   "source": [
    "General identification information about this dataset\n",
    ">Originator: Federal Emergency Management Agency  \n",
    "Publication_Date: 20150130  \n",
    "Title: DIGITAL FLOOD INSURANCE RATE MAP DATABASE,  CITY OF NEW YORK, NEW YORK  \n",
    "Geospatial_Data_Presentation_Form: FEMA-DFIRM-Preliminary  \n",
    "Publication_Information:\n",
    ">Publication_Place: Washington, DC  \n",
    "Publisher: Federal Emergency Management Agency  \n",
    "Online_Linkage: https://msc.fema.gov    "
   ]
  },
  {
   "cell_type": "markdown",
   "metadata": {},
   "source": [
    "To read the full Preliminary Flood Insurance Study mentioned above:  \n",
    "https://msc.fema.gov/portal/downloadProduct?productID=360497V000B    "
   ]
  },
  {
   "cell_type": "markdown",
   "metadata": {},
   "source": [
    "Unfortunately, there is no data dictionary provided in the download. To learn more about each column, the [metadata](https://github.com/mebauer/nyc-floodzone-analysis/blob/master/pfirm-nyc/360497_PRELIM_metadata.txt) points to **Guidelines and Specifications for Flood Hazard Mapping Partners: Appendix L: Guidance for Preparing Draft Digital Data and DFIRM Database.** You can find this resource at the Homeland Security Digital Library located here: https://www.hsdl.org/?abstract&did=13285. I've also uploaded this resource for you with the title [data_dictionary.pdf](https://github.com/mebauer/nyc-floodzone-analysis/blob/master/data-dictionary.pdf).\n",
    "\n",
    "![data_dictionary_screenshot.png](imgs/data-dictionary-screenshot.png)"
   ]
  },
  {
   "cell_type": "markdown",
   "metadata": {},
   "source": [
    "*Figure 3. Screenshot of data dictionary webpage*"
   ]
  },
  {
   "cell_type": "markdown",
   "metadata": {},
   "source": [
    "# Libraries"
   ]
  },
  {
   "cell_type": "code",
   "execution_count": 320,
   "metadata": {},
   "outputs": [],
   "source": [
    "import numpy as np\n",
    "import pandas as pd\n",
    "import seaborn as sns\n",
    "import matplotlib.pyplot as plt\n",
    "import geopandas as gpd\n",
    "import urllib.request\n",
    "from zipfile import ZipFile\n",
    "import fiona\n",
    "\n",
    "plt.rcParams['savefig.facecolor'] = 'white'\n",
    "%matplotlib inline"
   ]
  },
  {
   "cell_type": "code",
   "execution_count": 321,
   "metadata": {},
   "outputs": [
    {
     "name": "stdout",
     "output_type": "stream",
     "text": [
      "printing packages and versions:\n",
      "\n",
      "CPython 3.7.1\n",
      "IPython 7.20.0\n",
      "\n",
      "numpy 1.19.2\n",
      "pandas 1.2.1\n",
      "seaborn 0.11.1\n",
      "matplotlib.pyplot 3.3.2\n",
      "geopandas 0.8.1\n"
     ]
    }
   ],
   "source": [
    "print('printing packages and versions:\\n')\n",
    "\n",
    "%reload_ext watermark\n",
    "%watermark -v -p numpy,pandas,seaborn,matplotlib.pyplot,geopandas"
   ]
  },
  {
   "cell_type": "markdown",
   "metadata": {},
   "source": [
    "![copy_data_address](imgs/copy-data-address.png)\n",
    "\n",
    "*Figure 4. Screenshot of data path*"
   ]
  },
  {
   "cell_type": "markdown",
   "metadata": {},
   "source": [
    "***Uncomment the code below to download the files from the web.***"
   ]
  },
  {
   "cell_type": "code",
   "execution_count": 322,
   "metadata": {},
   "outputs": [
    {
     "name": "stdout",
     "output_type": "stream",
     "text": [
      "listing the new downloaded file in our directory:\n",
      "CODE_OF_CONDUCT.md              \u001b[34mdata-output\u001b[m\u001b[m/\r\n",
      "CONTRIBUTING.md                 floodzone-pfirm-analysis.ipynb\r\n",
      "LICENSE                         \u001b[34mimgs\u001b[m\u001b[m/\r\n",
      "README.md                       \u001b[34mpfirm-nyc\u001b[m\u001b[m/\r\n",
      "data-dictionary.pdf             pfirm-nyc.zip\r\n"
     ]
    }
   ],
   "source": [
    "# # url path from the web\n",
    "# url = 'https://msc.fema.gov/portal/downloadProduct?productID=360497_PRELIMDB'\n",
    "# print('data url path:', url)\n",
    "\n",
    "# # assigning file name as 'pfirm_nyc.zip'\n",
    "# urllib.request.urlretrieve(url, 'pfirm-nyc.zip')\n",
    "\n",
    "# # listing files in our directory\n",
    "print('listing the new downloaded file in our directory:')\n",
    "%ls"
   ]
  },
  {
   "cell_type": "markdown",
   "metadata": {},
   "source": [
    "***Uncomment the code below to unzip and extract the files from the zip file.***"
   ]
  },
  {
   "cell_type": "code",
   "execution_count": 323,
   "metadata": {},
   "outputs": [
    {
     "name": "stdout",
     "output_type": "stream",
     "text": [
      "listing items after unzipping the file:\n",
      "\n",
      "360497_PRELIM_metadata.txt  s_fld_haz_ar.shx\n",
      "360497_PRELIM_metadata.xml  s_fld_haz_ln.dbf\n",
      "L_PAN_REVIS.dbf             s_fld_haz_ln.shp\n",
      "L_POL_FHBM.dbf              s_fld_haz_ln.shx\n",
      "S_BASE_INDEX.prj            s_gen_struct.dbf\n",
      "S_BFE.prj                   s_gen_struct.shp\n",
      "S_CBRS.prj                  s_gen_struct.shx\n",
      "S_CST_TSCT_LN.dbf           s_label_ld.dbf\n",
      "S_CST_TSCT_LN.prj           s_label_ld.prj\n",
      "S_CST_TSCT_LN.shp           s_label_ld.sbn\n",
      "S_CST_TSCT_LN.shx           s_label_ld.sbx\n",
      "S_FIRM_PAN.prj              s_label_ld.shp\n",
      "S_FLD_HAZ_AR.prj            s_label_ld.shx\n",
      "S_FLD_HAZ_LN.prj            s_label_pt.dbf\n",
      "S_GEN_STRUCT.prj            s_label_pt.prj\n",
      "S_LiMWA.dbf                 s_label_pt.sbn\n",
      "S_LiMWA.prj                 s_label_pt.sbx\n",
      "S_LiMWA.shp                 s_label_pt.shp\n",
      "S_LiMWA.shx                 s_label_pt.shx\n",
      "S_PERM_BMK.prj              s_perm_bmk.dbf\n",
      "S_POL_AR.prj                s_perm_bmk.shp\n",
      "S_POL_LN.prj                s_perm_bmk.shx\n",
      "S_QUAD_INDEX.prj            s_pol_ar.dbf\n",
      "S_WTR_AR.prj                s_pol_ar.shp\n",
      "S_WTR_LN.prj                s_pol_ar.shx\n",
      "S_XS.prj                    s_pol_ln.dbf\n",
      "l_comm_info.dbf             s_pol_ln.shp\n",
      "l_stn_start.dbf             s_pol_ln.shx\n",
      "s_base_index.dbf            s_quad_index.dbf\n",
      "s_base_index.shp            s_quad_index.shp\n",
      "s_base_index.shx            s_quad_index.shx\n",
      "s_bfe.dbf                   s_wtr_ar.dbf\n",
      "s_bfe.shp                   s_wtr_ar.shp\n",
      "s_bfe.shx                   s_wtr_ar.shx\n",
      "s_cbrs.dbf                  s_wtr_ln.dbf\n",
      "s_cbrs.shp                  s_wtr_ln.shp\n",
      "s_cbrs.shx                  s_wtr_ln.shx\n",
      "s_firm_pan.dbf              s_xs.dbf\n",
      "s_firm_pan.shp              s_xs.shp\n",
      "s_firm_pan.shx              s_xs.shx\n",
      "s_fld_haz_ar.dbf            study_info.dbf\n",
      "s_fld_haz_ar.shp\n"
     ]
    }
   ],
   "source": [
    "# path = 'pfirm-nyc.zip'\n",
    "# print('name of zip file:', path)\n",
    "\n",
    "# # opening zip using 'with' keyword in read mode\n",
    "# with zipfile.ZipFile(path, 'r') as file:\n",
    "#     # extracing all items in our zipfile\n",
    "#     # naming our file 'pfirm-nyc'\n",
    "#     file.extractall('pfirm-nyc')\n",
    "\n",
    "print('listing items after unzipping the file:\\n')\n",
    "%ls pfirm-nyc/    "
   ]
  },
  {
   "cell_type": "markdown",
   "metadata": {},
   "source": [
    "# 2. The files\n",
    "\n",
    "For this analysis, we are interested in the special flood hazard area shapefile - `s_fld_haz_ar.shp`. This contains information about the flood zone. A shapefile is geospatial vector data for geographic information system software and stores geometric location and associated attribute information."
   ]
  },
  {
   "cell_type": "markdown",
   "metadata": {},
   "source": [
    "Data description from metadata:\n",
    "\n",
    ">Entity_Type_Label: s_fld_haz_ar  \n",
    "Entity_Type_Definition: Location and attributes for flood insurance risk zones on the DFIRM.\n",
    "\n",
    "\n",
    "For more information about our columns and their descriptions, please find the [metadata files](https://github.com/mebauer/nyc-floodzone-analysis/blob/master/pfirm-nyc/360497_PRELIM_metadata.txt) located in the pfirm_nyc folder."
   ]
  },
  {
   "cell_type": "markdown",
   "metadata": {},
   "source": [
    "## 2.1 Inspecting the data"
   ]
  },
  {
   "cell_type": "code",
   "execution_count": 324,
   "metadata": {},
   "outputs": [
    {
     "data": {
      "text/html": [
       "<div>\n",
       "<style scoped>\n",
       "    .dataframe tbody tr th:only-of-type {\n",
       "        vertical-align: middle;\n",
       "    }\n",
       "\n",
       "    .dataframe tbody tr th {\n",
       "        vertical-align: top;\n",
       "    }\n",
       "\n",
       "    .dataframe thead th {\n",
       "        text-align: right;\n",
       "    }\n",
       "</style>\n",
       "<table border=\"1\" class=\"dataframe\">\n",
       "  <thead>\n",
       "    <tr style=\"text-align: right;\">\n",
       "      <th></th>\n",
       "      <th>FLD_AR_ID</th>\n",
       "      <th>FLD_ZONE</th>\n",
       "      <th>FLOODWAY</th>\n",
       "      <th>SFHA_TF</th>\n",
       "      <th>STATIC_BFE</th>\n",
       "      <th>V_DATUM</th>\n",
       "      <th>DEPTH</th>\n",
       "      <th>LEN_UNIT</th>\n",
       "      <th>VELOCITY</th>\n",
       "      <th>VEL_UNIT</th>\n",
       "      <th>AR_REVERT</th>\n",
       "      <th>BFE_REVERT</th>\n",
       "      <th>DEP_REVERT</th>\n",
       "      <th>SOURCE_CIT</th>\n",
       "      <th>geometry</th>\n",
       "    </tr>\n",
       "  </thead>\n",
       "  <tbody>\n",
       "    <tr>\n",
       "      <th>0</th>\n",
       "      <td>81</td>\n",
       "      <td>AE</td>\n",
       "      <td>None</td>\n",
       "      <td>T</td>\n",
       "      <td>13.0</td>\n",
       "      <td>NAVD88</td>\n",
       "      <td>-9999.0</td>\n",
       "      <td>FEET</td>\n",
       "      <td>-9999.0</td>\n",
       "      <td>None</td>\n",
       "      <td>None</td>\n",
       "      <td>-9999.0</td>\n",
       "      <td>-9999.0</td>\n",
       "      <td>STUDY4</td>\n",
       "      <td>POLYGON ((1032001.691 263867.839, 1032006.047 ...</td>\n",
       "    </tr>\n",
       "    <tr>\n",
       "      <th>1</th>\n",
       "      <td>82</td>\n",
       "      <td>X</td>\n",
       "      <td>None</td>\n",
       "      <td>F</td>\n",
       "      <td>-9999.0</td>\n",
       "      <td>None</td>\n",
       "      <td>-9999.0</td>\n",
       "      <td>None</td>\n",
       "      <td>-9999.0</td>\n",
       "      <td>None</td>\n",
       "      <td>None</td>\n",
       "      <td>-9999.0</td>\n",
       "      <td>-9999.0</td>\n",
       "      <td>STUDY4</td>\n",
       "      <td>POLYGON ((1033748.952 263778.464, 1033752.656 ...</td>\n",
       "    </tr>\n",
       "    <tr>\n",
       "      <th>2</th>\n",
       "      <td>83</td>\n",
       "      <td>0.2 PCT ANNUAL CHANCE FLOOD HAZARD</td>\n",
       "      <td>None</td>\n",
       "      <td>F</td>\n",
       "      <td>-9999.0</td>\n",
       "      <td>None</td>\n",
       "      <td>-9999.0</td>\n",
       "      <td>None</td>\n",
       "      <td>-9999.0</td>\n",
       "      <td>None</td>\n",
       "      <td>None</td>\n",
       "      <td>-9999.0</td>\n",
       "      <td>-9999.0</td>\n",
       "      <td>STUDY4</td>\n",
       "      <td>POLYGON ((1033309.701 263544.181, 1033322.210 ...</td>\n",
       "    </tr>\n",
       "    <tr>\n",
       "      <th>3</th>\n",
       "      <td>84</td>\n",
       "      <td>0.2 PCT ANNUAL CHANCE FLOOD HAZARD</td>\n",
       "      <td>None</td>\n",
       "      <td>F</td>\n",
       "      <td>-9999.0</td>\n",
       "      <td>None</td>\n",
       "      <td>-9999.0</td>\n",
       "      <td>None</td>\n",
       "      <td>-9999.0</td>\n",
       "      <td>None</td>\n",
       "      <td>None</td>\n",
       "      <td>-9999.0</td>\n",
       "      <td>-9999.0</td>\n",
       "      <td>STUDY4</td>\n",
       "      <td>POLYGON ((1033414.148 262658.868, 1033414.934 ...</td>\n",
       "    </tr>\n",
       "    <tr>\n",
       "      <th>4</th>\n",
       "      <td>85</td>\n",
       "      <td>0.2 PCT ANNUAL CHANCE FLOOD HAZARD</td>\n",
       "      <td>None</td>\n",
       "      <td>F</td>\n",
       "      <td>-9999.0</td>\n",
       "      <td>None</td>\n",
       "      <td>-9999.0</td>\n",
       "      <td>None</td>\n",
       "      <td>-9999.0</td>\n",
       "      <td>None</td>\n",
       "      <td>None</td>\n",
       "      <td>-9999.0</td>\n",
       "      <td>-9999.0</td>\n",
       "      <td>STUDY4</td>\n",
       "      <td>POLYGON ((1034089.115 262466.034, 1034089.402 ...</td>\n",
       "    </tr>\n",
       "  </tbody>\n",
       "</table>\n",
       "</div>"
      ],
      "text/plain": [
       "  FLD_AR_ID                            FLD_ZONE FLOODWAY SFHA_TF  STATIC_BFE  \\\n",
       "0        81                                  AE     None       T        13.0   \n",
       "1        82                                   X     None       F     -9999.0   \n",
       "2        83  0.2 PCT ANNUAL CHANCE FLOOD HAZARD     None       F     -9999.0   \n",
       "3        84  0.2 PCT ANNUAL CHANCE FLOOD HAZARD     None       F     -9999.0   \n",
       "4        85  0.2 PCT ANNUAL CHANCE FLOOD HAZARD     None       F     -9999.0   \n",
       "\n",
       "  V_DATUM   DEPTH LEN_UNIT  VELOCITY VEL_UNIT AR_REVERT  BFE_REVERT  \\\n",
       "0  NAVD88 -9999.0     FEET   -9999.0     None      None     -9999.0   \n",
       "1    None -9999.0     None   -9999.0     None      None     -9999.0   \n",
       "2    None -9999.0     None   -9999.0     None      None     -9999.0   \n",
       "3    None -9999.0     None   -9999.0     None      None     -9999.0   \n",
       "4    None -9999.0     None   -9999.0     None      None     -9999.0   \n",
       "\n",
       "   DEP_REVERT SOURCE_CIT                                           geometry  \n",
       "0     -9999.0     STUDY4  POLYGON ((1032001.691 263867.839, 1032006.047 ...  \n",
       "1     -9999.0     STUDY4  POLYGON ((1033748.952 263778.464, 1033752.656 ...  \n",
       "2     -9999.0     STUDY4  POLYGON ((1033309.701 263544.181, 1033322.210 ...  \n",
       "3     -9999.0     STUDY4  POLYGON ((1033414.148 262658.868, 1033414.934 ...  \n",
       "4     -9999.0     STUDY4  POLYGON ((1034089.115 262466.034, 1034089.402 ...  "
      ]
     },
     "execution_count": 324,
     "metadata": {},
     "output_type": "execute_result"
    }
   ],
   "source": [
    "# reading in shape file\n",
    "path = 'pfirm-nyc/s_fld_haz_ar.shp'\n",
    "pfirm_df = gpd.read_file(path)\n",
    "\n",
    "# previewing first five rorws of data\n",
    "pfirm_df.head()"
   ]
  },
  {
   "cell_type": "code",
   "execution_count": 325,
   "metadata": {},
   "outputs": [
    {
     "data": {
      "text/html": [
       "<div>\n",
       "<style scoped>\n",
       "    .dataframe tbody tr th:only-of-type {\n",
       "        vertical-align: middle;\n",
       "    }\n",
       "\n",
       "    .dataframe tbody tr th {\n",
       "        vertical-align: top;\n",
       "    }\n",
       "\n",
       "    .dataframe thead th {\n",
       "        text-align: right;\n",
       "    }\n",
       "</style>\n",
       "<table border=\"1\" class=\"dataframe\">\n",
       "  <thead>\n",
       "    <tr style=\"text-align: right;\">\n",
       "      <th></th>\n",
       "      <th>FLD_AR_ID</th>\n",
       "      <th>FLD_ZONE</th>\n",
       "      <th>FLOODWAY</th>\n",
       "      <th>SFHA_TF</th>\n",
       "      <th>STATIC_BFE</th>\n",
       "      <th>V_DATUM</th>\n",
       "      <th>DEPTH</th>\n",
       "      <th>LEN_UNIT</th>\n",
       "      <th>VELOCITY</th>\n",
       "      <th>VEL_UNIT</th>\n",
       "      <th>AR_REVERT</th>\n",
       "      <th>BFE_REVERT</th>\n",
       "      <th>DEP_REVERT</th>\n",
       "      <th>SOURCE_CIT</th>\n",
       "      <th>geometry</th>\n",
       "    </tr>\n",
       "  </thead>\n",
       "  <tbody>\n",
       "    <tr>\n",
       "      <th>3980</th>\n",
       "      <td>4061</td>\n",
       "      <td>AE</td>\n",
       "      <td>FLOODWAY</td>\n",
       "      <td>T</td>\n",
       "      <td>-9999.0</td>\n",
       "      <td>None</td>\n",
       "      <td>-9999.0</td>\n",
       "      <td>None</td>\n",
       "      <td>-9999.0</td>\n",
       "      <td>None</td>\n",
       "      <td>None</td>\n",
       "      <td>-9999.0</td>\n",
       "      <td>-9999.0</td>\n",
       "      <td>STUDY3</td>\n",
       "      <td>POLYGON ((948012.835 151530.411, 948018.441 15...</td>\n",
       "    </tr>\n",
       "    <tr>\n",
       "      <th>3981</th>\n",
       "      <td>4062</td>\n",
       "      <td>AE</td>\n",
       "      <td>None</td>\n",
       "      <td>T</td>\n",
       "      <td>-9999.0</td>\n",
       "      <td>None</td>\n",
       "      <td>-9999.0</td>\n",
       "      <td>None</td>\n",
       "      <td>-9999.0</td>\n",
       "      <td>None</td>\n",
       "      <td>None</td>\n",
       "      <td>-9999.0</td>\n",
       "      <td>-9999.0</td>\n",
       "      <td>STUDY3</td>\n",
       "      <td>POLYGON ((1019981.024 235220.224, 1019960.066 ...</td>\n",
       "    </tr>\n",
       "    <tr>\n",
       "      <th>3982</th>\n",
       "      <td>4063</td>\n",
       "      <td>AE</td>\n",
       "      <td>None</td>\n",
       "      <td>T</td>\n",
       "      <td>13.0</td>\n",
       "      <td>NAVD88</td>\n",
       "      <td>-9999.0</td>\n",
       "      <td>FEET</td>\n",
       "      <td>-9999.0</td>\n",
       "      <td>None</td>\n",
       "      <td>None</td>\n",
       "      <td>-9999.0</td>\n",
       "      <td>-9999.0</td>\n",
       "      <td>STUDY4</td>\n",
       "      <td>POLYGON ((1019888.296 235113.767, 1019910.519 ...</td>\n",
       "    </tr>\n",
       "    <tr>\n",
       "      <th>3983</th>\n",
       "      <td>4064</td>\n",
       "      <td>AE</td>\n",
       "      <td>None</td>\n",
       "      <td>T</td>\n",
       "      <td>-9999.0</td>\n",
       "      <td>None</td>\n",
       "      <td>-9999.0</td>\n",
       "      <td>None</td>\n",
       "      <td>-9999.0</td>\n",
       "      <td>None</td>\n",
       "      <td>None</td>\n",
       "      <td>-9999.0</td>\n",
       "      <td>-9999.0</td>\n",
       "      <td>STUDY3</td>\n",
       "      <td>POLYGON ((1020681.583 235274.734, 1020618.617 ...</td>\n",
       "    </tr>\n",
       "    <tr>\n",
       "      <th>3984</th>\n",
       "      <td>4065</td>\n",
       "      <td>AE</td>\n",
       "      <td>None</td>\n",
       "      <td>T</td>\n",
       "      <td>13.0</td>\n",
       "      <td>NAVD88</td>\n",
       "      <td>-9999.0</td>\n",
       "      <td>FEET</td>\n",
       "      <td>-9999.0</td>\n",
       "      <td>None</td>\n",
       "      <td>None</td>\n",
       "      <td>-9999.0</td>\n",
       "      <td>-9999.0</td>\n",
       "      <td>STUDY4</td>\n",
       "      <td>POLYGON ((1020681.583 235274.734, 1020700.681 ...</td>\n",
       "    </tr>\n",
       "  </tbody>\n",
       "</table>\n",
       "</div>"
      ],
      "text/plain": [
       "     FLD_AR_ID FLD_ZONE  FLOODWAY SFHA_TF  STATIC_BFE V_DATUM   DEPTH  \\\n",
       "3980      4061       AE  FLOODWAY       T     -9999.0    None -9999.0   \n",
       "3981      4062       AE      None       T     -9999.0    None -9999.0   \n",
       "3982      4063       AE      None       T        13.0  NAVD88 -9999.0   \n",
       "3983      4064       AE      None       T     -9999.0    None -9999.0   \n",
       "3984      4065       AE      None       T        13.0  NAVD88 -9999.0   \n",
       "\n",
       "     LEN_UNIT  VELOCITY VEL_UNIT AR_REVERT  BFE_REVERT  DEP_REVERT SOURCE_CIT  \\\n",
       "3980     None   -9999.0     None      None     -9999.0     -9999.0     STUDY3   \n",
       "3981     None   -9999.0     None      None     -9999.0     -9999.0     STUDY3   \n",
       "3982     FEET   -9999.0     None      None     -9999.0     -9999.0     STUDY4   \n",
       "3983     None   -9999.0     None      None     -9999.0     -9999.0     STUDY3   \n",
       "3984     FEET   -9999.0     None      None     -9999.0     -9999.0     STUDY4   \n",
       "\n",
       "                                               geometry  \n",
       "3980  POLYGON ((948012.835 151530.411, 948018.441 15...  \n",
       "3981  POLYGON ((1019981.024 235220.224, 1019960.066 ...  \n",
       "3982  POLYGON ((1019888.296 235113.767, 1019910.519 ...  \n",
       "3983  POLYGON ((1020681.583 235274.734, 1020618.617 ...  \n",
       "3984  POLYGON ((1020681.583 235274.734, 1020700.681 ...  "
      ]
     },
     "execution_count": 325,
     "metadata": {},
     "output_type": "execute_result"
    }
   ],
   "source": [
    "# previewing last five rorws of data\n",
    "pfirm_df.tail()"
   ]
  },
  {
   "cell_type": "code",
   "execution_count": 326,
   "metadata": {},
   "outputs": [
    {
     "name": "stdout",
     "output_type": "stream",
     "text": [
      "dataframe shape:\n",
      "\n",
      "number of rows: 3,985.\n",
      "number of columns: 15.\n"
     ]
    }
   ],
   "source": [
    "print('dataframe shape:\\n')\n",
    "\n",
    "rows = pfirm_df.shape[0]\n",
    "columns = pfirm_df.shape[1]\n",
    "\n",
    "print('number of rows: {:,}.\\nnumber of columns: {}.'.format(rows, columns))"
   ]
  },
  {
   "cell_type": "markdown",
   "metadata": {},
   "source": [
    "In this dataset, each row is a flood zone geometry. The type of flood zone can be inspected under the `FLD_ZONE` column. Additionally, there are 15 columns that contain information about each flood zone row."
   ]
  },
  {
   "cell_type": "code",
   "execution_count": 327,
   "metadata": {},
   "outputs": [
    {
     "name": "stdout",
     "output_type": "stream",
     "text": [
      "type of python object:\n",
      "\n",
      "<class 'geopandas.geodataframe.GeoDataFrame'>\n"
     ]
    }
   ],
   "source": [
    "print('type of python object:\\n\\n{}'.format(type(pfirm_df)))"
   ]
  },
  {
   "cell_type": "markdown",
   "metadata": {},
   "source": [
    "We read the shapefile into Python as a GeoDataFrame. This type is similar to a pandas dataframe, but incudes additional spatial information - mainly, our `geometry` column. The geometry column contains polygons that represent the physical space of each flood zone."
   ]
  },
  {
   "cell_type": "code",
   "execution_count": 328,
   "metadata": {},
   "outputs": [
    {
     "name": "stdout",
     "output_type": "stream",
     "text": [
      "quickly inspecting our map.\n"
     ]
    },
    {
     "data": {
      "text/plain": [
       "<AxesSubplot:>"
      ]
     },
     "execution_count": 328,
     "metadata": {},
     "output_type": "execute_result"
    },
    {
     "data": {
      "image/png": "[encoded data removed]",
      "text/plain": [
       "<Figure size 432x288 with 1 Axes>"
      ]
     },
     "metadata": {
      "needs_background": "light"
     },
     "output_type": "display_data"
    }
   ],
   "source": [
    "print('quickly inspecting our map.')\n",
    "pfirm_df.plot()"
   ]
  },
  {
   "cell_type": "code",
   "execution_count": 329,
   "metadata": {},
   "outputs": [
    {
     "name": "stdout",
     "output_type": "stream",
     "text": [
      "<class 'geopandas.geodataframe.GeoDataFrame'>\n",
      "RangeIndex: 3985 entries, 0 to 3984\n",
      "Data columns (total 15 columns):\n",
      " #   Column      Non-Null Count  Dtype   \n",
      "---  ------      --------------  -----   \n",
      " 0   FLD_AR_ID   3985 non-null   object  \n",
      " 1   FLD_ZONE    3985 non-null   object  \n",
      " 2   FLOODWAY    47 non-null     object  \n",
      " 3   SFHA_TF     3985 non-null   object  \n",
      " 4   STATIC_BFE  3985 non-null   float64 \n",
      " 5   V_DATUM     1153 non-null   object  \n",
      " 6   DEPTH       3985 non-null   float64 \n",
      " 7   LEN_UNIT    1165 non-null   object  \n",
      " 8   VELOCITY    3985 non-null   float64 \n",
      " 9   VEL_UNIT    0 non-null      object  \n",
      " 10  AR_REVERT   0 non-null      object  \n",
      " 11  BFE_REVERT  3985 non-null   float64 \n",
      " 12  DEP_REVERT  3985 non-null   float64 \n",
      " 13  SOURCE_CIT  3985 non-null   object  \n",
      " 14  geometry    3985 non-null   geometry\n",
      "dtypes: float64(5), geometry(1), object(9)\n",
      "memory usage: 467.1+ KB\n"
     ]
    }
   ],
   "source": [
    "# summary of the data\n",
    "pfirm_df.info()"
   ]
  },
  {
   "cell_type": "markdown",
   "metadata": {},
   "source": [
    "We notice that there are two columns that are completely null - `VEL_UNIT` and `AR_REVERT`. We may be able to safely drop them in the future."
   ]
  },
  {
   "cell_type": "code",
   "execution_count": 330,
   "metadata": {},
   "outputs": [
    {
     "name": "stdout",
     "output_type": "stream",
     "text": [
      "count of data types:\n"
     ]
    },
    {
     "data": {
      "text/plain": [
       "object      9\n",
       "float64     5\n",
       "geometry    1\n",
       "dtype: int64"
      ]
     },
     "execution_count": 330,
     "metadata": {},
     "output_type": "execute_result"
    }
   ],
   "source": [
    "print('count of data types:')\n",
    "pfirm_df.dtypes.value_counts()"
   ]
  },
  {
   "cell_type": "code",
   "execution_count": 331,
   "metadata": {},
   "outputs": [
    {
     "name": "stdout",
     "output_type": "stream",
     "text": [
      "summary statistics for numeric columns:\n"
     ]
    },
    {
     "data": {
      "text/html": [
       "<div>\n",
       "<style scoped>\n",
       "    .dataframe tbody tr th:only-of-type {\n",
       "        vertical-align: middle;\n",
       "    }\n",
       "\n",
       "    .dataframe tbody tr th {\n",
       "        vertical-align: top;\n",
       "    }\n",
       "\n",
       "    .dataframe thead th {\n",
       "        text-align: right;\n",
       "    }\n",
       "</style>\n",
       "<table border=\"1\" class=\"dataframe\">\n",
       "  <thead>\n",
       "    <tr style=\"text-align: right;\">\n",
       "      <th></th>\n",
       "      <th>STATIC_BFE</th>\n",
       "      <th>DEPTH</th>\n",
       "      <th>VELOCITY</th>\n",
       "      <th>BFE_REVERT</th>\n",
       "      <th>DEP_REVERT</th>\n",
       "    </tr>\n",
       "  </thead>\n",
       "  <tbody>\n",
       "    <tr>\n",
       "      <th>count</th>\n",
       "      <td>3985.000000</td>\n",
       "      <td>3985.000000</td>\n",
       "      <td>3985.0</td>\n",
       "      <td>3985.0</td>\n",
       "      <td>3985.0</td>\n",
       "    </tr>\n",
       "    <tr>\n",
       "      <th>mean</th>\n",
       "      <td>-7101.950314</td>\n",
       "      <td>-9968.883061</td>\n",
       "      <td>-9999.0</td>\n",
       "      <td>-9999.0</td>\n",
       "      <td>-9999.0</td>\n",
       "    </tr>\n",
       "    <tr>\n",
       "      <th>std</th>\n",
       "      <td>4540.905248</td>\n",
       "      <td>548.067414</td>\n",
       "      <td>0.0</td>\n",
       "      <td>0.0</td>\n",
       "      <td>0.0</td>\n",
       "    </tr>\n",
       "    <tr>\n",
       "      <th>min</th>\n",
       "      <td>-9999.000000</td>\n",
       "      <td>-9999.000000</td>\n",
       "      <td>-9999.0</td>\n",
       "      <td>-9999.0</td>\n",
       "      <td>-9999.0</td>\n",
       "    </tr>\n",
       "    <tr>\n",
       "      <th>25%</th>\n",
       "      <td>-9999.000000</td>\n",
       "      <td>-9999.000000</td>\n",
       "      <td>-9999.0</td>\n",
       "      <td>-9999.0</td>\n",
       "      <td>-9999.0</td>\n",
       "    </tr>\n",
       "    <tr>\n",
       "      <th>50%</th>\n",
       "      <td>-9999.000000</td>\n",
       "      <td>-9999.000000</td>\n",
       "      <td>-9999.0</td>\n",
       "      <td>-9999.0</td>\n",
       "      <td>-9999.0</td>\n",
       "    </tr>\n",
       "    <tr>\n",
       "      <th>75%</th>\n",
       "      <td>11.000000</td>\n",
       "      <td>-9999.000000</td>\n",
       "      <td>-9999.0</td>\n",
       "      <td>-9999.0</td>\n",
       "      <td>-9999.0</td>\n",
       "    </tr>\n",
       "    <tr>\n",
       "      <th>max</th>\n",
       "      <td>34.000000</td>\n",
       "      <td>3.000000</td>\n",
       "      <td>-9999.0</td>\n",
       "      <td>-9999.0</td>\n",
       "      <td>-9999.0</td>\n",
       "    </tr>\n",
       "  </tbody>\n",
       "</table>\n",
       "</div>"
      ],
      "text/plain": [
       "        STATIC_BFE        DEPTH  VELOCITY  BFE_REVERT  DEP_REVERT\n",
       "count  3985.000000  3985.000000    3985.0      3985.0      3985.0\n",
       "mean  -7101.950314 -9968.883061   -9999.0     -9999.0     -9999.0\n",
       "std    4540.905248   548.067414       0.0         0.0         0.0\n",
       "min   -9999.000000 -9999.000000   -9999.0     -9999.0     -9999.0\n",
       "25%   -9999.000000 -9999.000000   -9999.0     -9999.0     -9999.0\n",
       "50%   -9999.000000 -9999.000000   -9999.0     -9999.0     -9999.0\n",
       "75%      11.000000 -9999.000000   -9999.0     -9999.0     -9999.0\n",
       "max      34.000000     3.000000   -9999.0     -9999.0     -9999.0"
      ]
     },
     "execution_count": 331,
     "metadata": {},
     "output_type": "execute_result"
    }
   ],
   "source": [
    "print('summary statistics for numeric columns:')\n",
    "pfirm_df.describe()"
   ]
  },
  {
   "cell_type": "markdown",
   "metadata": {},
   "source": [
    "There seems to be weird values of -9999 in the numeric columns. Possibly placeholders for null values. We will inspect these values later."
   ]
  },
  {
   "cell_type": "code",
   "execution_count": 332,
   "metadata": {},
   "outputs": [
    {
     "name": "stdout",
     "output_type": "stream",
     "text": [
      "summary statistics for string/object columns:\n"
     ]
    },
    {
     "data": {
      "text/html": [
       "<div>\n",
       "<style scoped>\n",
       "    .dataframe tbody tr th:only-of-type {\n",
       "        vertical-align: middle;\n",
       "    }\n",
       "\n",
       "    .dataframe tbody tr th {\n",
       "        vertical-align: top;\n",
       "    }\n",
       "\n",
       "    .dataframe thead th {\n",
       "        text-align: right;\n",
       "    }\n",
       "</style>\n",
       "<table border=\"1\" class=\"dataframe\">\n",
       "  <thead>\n",
       "    <tr style=\"text-align: right;\">\n",
       "      <th></th>\n",
       "      <th>FLD_AR_ID</th>\n",
       "      <th>FLD_ZONE</th>\n",
       "      <th>FLOODWAY</th>\n",
       "      <th>SFHA_TF</th>\n",
       "      <th>V_DATUM</th>\n",
       "      <th>LEN_UNIT</th>\n",
       "      <th>VEL_UNIT</th>\n",
       "      <th>AR_REVERT</th>\n",
       "      <th>SOURCE_CIT</th>\n",
       "    </tr>\n",
       "  </thead>\n",
       "  <tbody>\n",
       "    <tr>\n",
       "      <th>count</th>\n",
       "      <td>3985</td>\n",
       "      <td>3985</td>\n",
       "      <td>47</td>\n",
       "      <td>3985</td>\n",
       "      <td>1153</td>\n",
       "      <td>1165</td>\n",
       "      <td>0</td>\n",
       "      <td>0</td>\n",
       "      <td>3985</td>\n",
       "    </tr>\n",
       "    <tr>\n",
       "      <th>unique</th>\n",
       "      <td>3985</td>\n",
       "      <td>7</td>\n",
       "      <td>1</td>\n",
       "      <td>2</td>\n",
       "      <td>1</td>\n",
       "      <td>1</td>\n",
       "      <td>0</td>\n",
       "      <td>0</td>\n",
       "      <td>3</td>\n",
       "    </tr>\n",
       "    <tr>\n",
       "      <th>top</th>\n",
       "      <td>3764</td>\n",
       "      <td>0.2 PCT ANNUAL CHANCE FLOOD HAZARD</td>\n",
       "      <td>FLOODWAY</td>\n",
       "      <td>F</td>\n",
       "      <td>NAVD88</td>\n",
       "      <td>FEET</td>\n",
       "      <td>NaN</td>\n",
       "      <td>NaN</td>\n",
       "      <td>STUDY4</td>\n",
       "    </tr>\n",
       "    <tr>\n",
       "      <th>freq</th>\n",
       "      <td>1</td>\n",
       "      <td>1726</td>\n",
       "      <td>47</td>\n",
       "      <td>2263</td>\n",
       "      <td>1153</td>\n",
       "      <td>1165</td>\n",
       "      <td>NaN</td>\n",
       "      <td>NaN</td>\n",
       "      <td>2937</td>\n",
       "    </tr>\n",
       "  </tbody>\n",
       "</table>\n",
       "</div>"
      ],
      "text/plain": [
       "       FLD_AR_ID                            FLD_ZONE  FLOODWAY SFHA_TF  \\\n",
       "count       3985                                3985        47    3985   \n",
       "unique      3985                                   7         1       2   \n",
       "top         3764  0.2 PCT ANNUAL CHANCE FLOOD HAZARD  FLOODWAY       F   \n",
       "freq           1                                1726        47    2263   \n",
       "\n",
       "       V_DATUM LEN_UNIT VEL_UNIT AR_REVERT SOURCE_CIT  \n",
       "count     1153     1165        0         0       3985  \n",
       "unique       1        1        0         0          3  \n",
       "top     NAVD88     FEET      NaN       NaN     STUDY4  \n",
       "freq      1153     1165      NaN       NaN       2937  "
      ]
     },
     "execution_count": 332,
     "metadata": {},
     "output_type": "execute_result"
    }
   ],
   "source": [
    "print('summary statistics for string/object columns:')\n",
    "pfirm_df.describe(include='object')"
   ]
  },
  {
   "cell_type": "code",
   "execution_count": 333,
   "metadata": {},
   "outputs": [
    {
     "name": "stdout",
     "output_type": "stream",
     "text": [
      "summary statistics for all column types:\n"
     ]
    },
    {
     "data": {
      "text/html": [
       "<div>\n",
       "<style scoped>\n",
       "    .dataframe tbody tr th:only-of-type {\n",
       "        vertical-align: middle;\n",
       "    }\n",
       "\n",
       "    .dataframe tbody tr th {\n",
       "        vertical-align: top;\n",
       "    }\n",
       "\n",
       "    .dataframe thead th {\n",
       "        text-align: right;\n",
       "    }\n",
       "</style>\n",
       "<table border=\"1\" class=\"dataframe\">\n",
       "  <thead>\n",
       "    <tr style=\"text-align: right;\">\n",
       "      <th></th>\n",
       "      <th>count</th>\n",
       "      <th>unique</th>\n",
       "      <th>top</th>\n",
       "      <th>freq</th>\n",
       "      <th>mean</th>\n",
       "      <th>std</th>\n",
       "      <th>min</th>\n",
       "      <th>25%</th>\n",
       "      <th>50%</th>\n",
       "      <th>75%</th>\n",
       "      <th>max</th>\n",
       "    </tr>\n",
       "  </thead>\n",
       "  <tbody>\n",
       "    <tr>\n",
       "      <th>FLD_AR_ID</th>\n",
       "      <td>3985</td>\n",
       "      <td>3985</td>\n",
       "      <td>3764</td>\n",
       "      <td>1</td>\n",
       "      <td>NaN</td>\n",
       "      <td>NaN</td>\n",
       "      <td>NaN</td>\n",
       "      <td>NaN</td>\n",
       "      <td>NaN</td>\n",
       "      <td>NaN</td>\n",
       "      <td>NaN</td>\n",
       "    </tr>\n",
       "    <tr>\n",
       "      <th>FLD_ZONE</th>\n",
       "      <td>3985</td>\n",
       "      <td>7</td>\n",
       "      <td>0.2 PCT ANNUAL CHANCE FLOOD HAZARD</td>\n",
       "      <td>1726</td>\n",
       "      <td>NaN</td>\n",
       "      <td>NaN</td>\n",
       "      <td>NaN</td>\n",
       "      <td>NaN</td>\n",
       "      <td>NaN</td>\n",
       "      <td>NaN</td>\n",
       "      <td>NaN</td>\n",
       "    </tr>\n",
       "    <tr>\n",
       "      <th>FLOODWAY</th>\n",
       "      <td>47</td>\n",
       "      <td>1</td>\n",
       "      <td>FLOODWAY</td>\n",
       "      <td>47</td>\n",
       "      <td>NaN</td>\n",
       "      <td>NaN</td>\n",
       "      <td>NaN</td>\n",
       "      <td>NaN</td>\n",
       "      <td>NaN</td>\n",
       "      <td>NaN</td>\n",
       "      <td>NaN</td>\n",
       "    </tr>\n",
       "    <tr>\n",
       "      <th>SFHA_TF</th>\n",
       "      <td>3985</td>\n",
       "      <td>2</td>\n",
       "      <td>F</td>\n",
       "      <td>2263</td>\n",
       "      <td>NaN</td>\n",
       "      <td>NaN</td>\n",
       "      <td>NaN</td>\n",
       "      <td>NaN</td>\n",
       "      <td>NaN</td>\n",
       "      <td>NaN</td>\n",
       "      <td>NaN</td>\n",
       "    </tr>\n",
       "    <tr>\n",
       "      <th>STATIC_BFE</th>\n",
       "      <td>3985.0</td>\n",
       "      <td>NaN</td>\n",
       "      <td>NaN</td>\n",
       "      <td>NaN</td>\n",
       "      <td>-7101.950314</td>\n",
       "      <td>4540.905248</td>\n",
       "      <td>-9999.0</td>\n",
       "      <td>-9999.0</td>\n",
       "      <td>-9999.0</td>\n",
       "      <td>11.0</td>\n",
       "      <td>34.0</td>\n",
       "    </tr>\n",
       "    <tr>\n",
       "      <th>V_DATUM</th>\n",
       "      <td>1153</td>\n",
       "      <td>1</td>\n",
       "      <td>NAVD88</td>\n",
       "      <td>1153</td>\n",
       "      <td>NaN</td>\n",
       "      <td>NaN</td>\n",
       "      <td>NaN</td>\n",
       "      <td>NaN</td>\n",
       "      <td>NaN</td>\n",
       "      <td>NaN</td>\n",
       "      <td>NaN</td>\n",
       "    </tr>\n",
       "    <tr>\n",
       "      <th>DEPTH</th>\n",
       "      <td>3985.0</td>\n",
       "      <td>NaN</td>\n",
       "      <td>NaN</td>\n",
       "      <td>NaN</td>\n",
       "      <td>-9968.883061</td>\n",
       "      <td>548.067414</td>\n",
       "      <td>-9999.0</td>\n",
       "      <td>-9999.0</td>\n",
       "      <td>-9999.0</td>\n",
       "      <td>-9999.0</td>\n",
       "      <td>3.0</td>\n",
       "    </tr>\n",
       "    <tr>\n",
       "      <th>LEN_UNIT</th>\n",
       "      <td>1165</td>\n",
       "      <td>1</td>\n",
       "      <td>FEET</td>\n",
       "      <td>1165</td>\n",
       "      <td>NaN</td>\n",
       "      <td>NaN</td>\n",
       "      <td>NaN</td>\n",
       "      <td>NaN</td>\n",
       "      <td>NaN</td>\n",
       "      <td>NaN</td>\n",
       "      <td>NaN</td>\n",
       "    </tr>\n",
       "    <tr>\n",
       "      <th>VELOCITY</th>\n",
       "      <td>3985.0</td>\n",
       "      <td>NaN</td>\n",
       "      <td>NaN</td>\n",
       "      <td>NaN</td>\n",
       "      <td>-9999.0</td>\n",
       "      <td>0.0</td>\n",
       "      <td>-9999.0</td>\n",
       "      <td>-9999.0</td>\n",
       "      <td>-9999.0</td>\n",
       "      <td>-9999.0</td>\n",
       "      <td>-9999.0</td>\n",
       "    </tr>\n",
       "    <tr>\n",
       "      <th>VEL_UNIT</th>\n",
       "      <td>0</td>\n",
       "      <td>0</td>\n",
       "      <td>NaN</td>\n",
       "      <td>NaN</td>\n",
       "      <td>NaN</td>\n",
       "      <td>NaN</td>\n",
       "      <td>NaN</td>\n",
       "      <td>NaN</td>\n",
       "      <td>NaN</td>\n",
       "      <td>NaN</td>\n",
       "      <td>NaN</td>\n",
       "    </tr>\n",
       "    <tr>\n",
       "      <th>AR_REVERT</th>\n",
       "      <td>0</td>\n",
       "      <td>0</td>\n",
       "      <td>NaN</td>\n",
       "      <td>NaN</td>\n",
       "      <td>NaN</td>\n",
       "      <td>NaN</td>\n",
       "      <td>NaN</td>\n",
       "      <td>NaN</td>\n",
       "      <td>NaN</td>\n",
       "      <td>NaN</td>\n",
       "      <td>NaN</td>\n",
       "    </tr>\n",
       "    <tr>\n",
       "      <th>BFE_REVERT</th>\n",
       "      <td>3985.0</td>\n",
       "      <td>NaN</td>\n",
       "      <td>NaN</td>\n",
       "      <td>NaN</td>\n",
       "      <td>-9999.0</td>\n",
       "      <td>0.0</td>\n",
       "      <td>-9999.0</td>\n",
       "      <td>-9999.0</td>\n",
       "      <td>-9999.0</td>\n",
       "      <td>-9999.0</td>\n",
       "      <td>-9999.0</td>\n",
       "    </tr>\n",
       "    <tr>\n",
       "      <th>DEP_REVERT</th>\n",
       "      <td>3985.0</td>\n",
       "      <td>NaN</td>\n",
       "      <td>NaN</td>\n",
       "      <td>NaN</td>\n",
       "      <td>-9999.0</td>\n",
       "      <td>0.0</td>\n",
       "      <td>-9999.0</td>\n",
       "      <td>-9999.0</td>\n",
       "      <td>-9999.0</td>\n",
       "      <td>-9999.0</td>\n",
       "      <td>-9999.0</td>\n",
       "    </tr>\n",
       "    <tr>\n",
       "      <th>SOURCE_CIT</th>\n",
       "      <td>3985</td>\n",
       "      <td>3</td>\n",
       "      <td>STUDY4</td>\n",
       "      <td>2937</td>\n",
       "      <td>NaN</td>\n",
       "      <td>NaN</td>\n",
       "      <td>NaN</td>\n",
       "      <td>NaN</td>\n",
       "      <td>NaN</td>\n",
       "      <td>NaN</td>\n",
       "      <td>NaN</td>\n",
       "    </tr>\n",
       "  </tbody>\n",
       "</table>\n",
       "</div>"
      ],
      "text/plain": [
       "             count unique                                 top  freq  \\\n",
       "FLD_AR_ID     3985   3985                                3764     1   \n",
       "FLD_ZONE      3985      7  0.2 PCT ANNUAL CHANCE FLOOD HAZARD  1726   \n",
       "FLOODWAY        47      1                            FLOODWAY    47   \n",
       "SFHA_TF       3985      2                                   F  2263   \n",
       "STATIC_BFE  3985.0    NaN                                 NaN   NaN   \n",
       "V_DATUM       1153      1                              NAVD88  1153   \n",
       "DEPTH       3985.0    NaN                                 NaN   NaN   \n",
       "LEN_UNIT      1165      1                                FEET  1165   \n",
       "VELOCITY    3985.0    NaN                                 NaN   NaN   \n",
       "VEL_UNIT         0      0                                 NaN   NaN   \n",
       "AR_REVERT        0      0                                 NaN   NaN   \n",
       "BFE_REVERT  3985.0    NaN                                 NaN   NaN   \n",
       "DEP_REVERT  3985.0    NaN                                 NaN   NaN   \n",
       "SOURCE_CIT    3985      3                              STUDY4  2937   \n",
       "\n",
       "                   mean          std     min     25%     50%     75%     max  \n",
       "FLD_AR_ID           NaN          NaN     NaN     NaN     NaN     NaN     NaN  \n",
       "FLD_ZONE            NaN          NaN     NaN     NaN     NaN     NaN     NaN  \n",
       "FLOODWAY            NaN          NaN     NaN     NaN     NaN     NaN     NaN  \n",
       "SFHA_TF             NaN          NaN     NaN     NaN     NaN     NaN     NaN  \n",
       "STATIC_BFE -7101.950314  4540.905248 -9999.0 -9999.0 -9999.0    11.0    34.0  \n",
       "V_DATUM             NaN          NaN     NaN     NaN     NaN     NaN     NaN  \n",
       "DEPTH      -9968.883061   548.067414 -9999.0 -9999.0 -9999.0 -9999.0     3.0  \n",
       "LEN_UNIT            NaN          NaN     NaN     NaN     NaN     NaN     NaN  \n",
       "VELOCITY        -9999.0          0.0 -9999.0 -9999.0 -9999.0 -9999.0 -9999.0  \n",
       "VEL_UNIT            NaN          NaN     NaN     NaN     NaN     NaN     NaN  \n",
       "AR_REVERT           NaN          NaN     NaN     NaN     NaN     NaN     NaN  \n",
       "BFE_REVERT      -9999.0          0.0 -9999.0 -9999.0 -9999.0 -9999.0 -9999.0  \n",
       "DEP_REVERT      -9999.0          0.0 -9999.0 -9999.0 -9999.0 -9999.0 -9999.0  \n",
       "SOURCE_CIT          NaN          NaN     NaN     NaN     NaN     NaN     NaN  "
      ]
     },
     "execution_count": 333,
     "metadata": {},
     "output_type": "execute_result"
    }
   ],
   "source": [
    "print('summary statistics for all column types:')\n",
    "pfirm_df.drop(columns='geometry').describe(include='all').T"
   ]
  },
  {
   "cell_type": "code",
   "execution_count": 334,
   "metadata": {},
   "outputs": [
    {
     "name": "stdout",
     "output_type": "stream",
     "text": [
      "null statistics of each column:\n"
     ]
    },
    {
     "data": {
      "text/html": [
       "<div>\n",
       "<style scoped>\n",
       "    .dataframe tbody tr th:only-of-type {\n",
       "        vertical-align: middle;\n",
       "    }\n",
       "\n",
       "    .dataframe tbody tr th {\n",
       "        vertical-align: top;\n",
       "    }\n",
       "\n",
       "    .dataframe thead th {\n",
       "        text-align: right;\n",
       "    }\n",
       "</style>\n",
       "<table border=\"1\" class=\"dataframe\">\n",
       "  <thead>\n",
       "    <tr style=\"text-align: right;\">\n",
       "      <th></th>\n",
       "      <th>count_null</th>\n",
       "      <th>normalized</th>\n",
       "    </tr>\n",
       "  </thead>\n",
       "  <tbody>\n",
       "    <tr>\n",
       "      <th>VEL_UNIT</th>\n",
       "      <td>3985</td>\n",
       "      <td>1.000</td>\n",
       "    </tr>\n",
       "    <tr>\n",
       "      <th>AR_REVERT</th>\n",
       "      <td>3985</td>\n",
       "      <td>1.000</td>\n",
       "    </tr>\n",
       "    <tr>\n",
       "      <th>FLOODWAY</th>\n",
       "      <td>3938</td>\n",
       "      <td>0.988</td>\n",
       "    </tr>\n",
       "    <tr>\n",
       "      <th>V_DATUM</th>\n",
       "      <td>2832</td>\n",
       "      <td>0.711</td>\n",
       "    </tr>\n",
       "    <tr>\n",
       "      <th>LEN_UNIT</th>\n",
       "      <td>2820</td>\n",
       "      <td>0.708</td>\n",
       "    </tr>\n",
       "    <tr>\n",
       "      <th>FLD_AR_ID</th>\n",
       "      <td>0</td>\n",
       "      <td>0.000</td>\n",
       "    </tr>\n",
       "    <tr>\n",
       "      <th>FLD_ZONE</th>\n",
       "      <td>0</td>\n",
       "      <td>0.000</td>\n",
       "    </tr>\n",
       "    <tr>\n",
       "      <th>SFHA_TF</th>\n",
       "      <td>0</td>\n",
       "      <td>0.000</td>\n",
       "    </tr>\n",
       "    <tr>\n",
       "      <th>STATIC_BFE</th>\n",
       "      <td>0</td>\n",
       "      <td>0.000</td>\n",
       "    </tr>\n",
       "    <tr>\n",
       "      <th>DEPTH</th>\n",
       "      <td>0</td>\n",
       "      <td>0.000</td>\n",
       "    </tr>\n",
       "    <tr>\n",
       "      <th>VELOCITY</th>\n",
       "      <td>0</td>\n",
       "      <td>0.000</td>\n",
       "    </tr>\n",
       "    <tr>\n",
       "      <th>BFE_REVERT</th>\n",
       "      <td>0</td>\n",
       "      <td>0.000</td>\n",
       "    </tr>\n",
       "    <tr>\n",
       "      <th>DEP_REVERT</th>\n",
       "      <td>0</td>\n",
       "      <td>0.000</td>\n",
       "    </tr>\n",
       "    <tr>\n",
       "      <th>SOURCE_CIT</th>\n",
       "      <td>0</td>\n",
       "      <td>0.000</td>\n",
       "    </tr>\n",
       "    <tr>\n",
       "      <th>geometry</th>\n",
       "      <td>0</td>\n",
       "      <td>0.000</td>\n",
       "    </tr>\n",
       "  </tbody>\n",
       "</table>\n",
       "</div>"
      ],
      "text/plain": [
       "            count_null  normalized\n",
       "VEL_UNIT          3985       1.000\n",
       "AR_REVERT         3985       1.000\n",
       "FLOODWAY          3938       0.988\n",
       "V_DATUM           2832       0.711\n",
       "LEN_UNIT          2820       0.708\n",
       "FLD_AR_ID            0       0.000\n",
       "FLD_ZONE             0       0.000\n",
       "SFHA_TF              0       0.000\n",
       "STATIC_BFE           0       0.000\n",
       "DEPTH                0       0.000\n",
       "VELOCITY             0       0.000\n",
       "BFE_REVERT           0       0.000\n",
       "DEP_REVERT           0       0.000\n",
       "SOURCE_CIT           0       0.000\n",
       "geometry             0       0.000"
      ]
     },
     "execution_count": 334,
     "metadata": {},
     "output_type": "execute_result"
    }
   ],
   "source": [
    "s1 = pfirm_df.isnull().sum().sort_values(ascending=False)\n",
    "s2 = round(pfirm_df.isnull().sum().sort_values(ascending=False) / len(pfirm_df), 3)\n",
    "\n",
    "print('null statistics of each column:')\n",
    "pd.concat([s1.rename('count_null'), s2.rename('normalized')], axis=1)"
   ]
  },
  {
   "cell_type": "code",
   "execution_count": 335,
   "metadata": {},
   "outputs": [
    {
     "name": "stdout",
     "output_type": "stream",
     "text": [
      "total number of nulls in data: 17,560.\n"
     ]
    }
   ],
   "source": [
    "print('total number of nulls in data: {:,}.'.format(pfirm_df.isnull().sum().sum()))"
   ]
  },
  {
   "cell_type": "markdown",
   "metadata": {},
   "source": [
    "Now that we have a better understanding of our data, let's come back to those 100% null value columns and see if we can safely drop them"
   ]
  },
  {
   "cell_type": "markdown",
   "metadata": {},
   "source": [
    "## 2.2 Dropping unnecessary columns"
   ]
  },
  {
   "cell_type": "markdown",
   "metadata": {},
   "source": [
    "Definitions from our data dictionary:\n",
    "\n",
    "VEL_UNIT\n",
    ">Velocity Unit Lookup Identification. A code that provides a link to a valid unit of velocity from the D_Vel_Units table. This unit indicates the measurement system for the velocity of the flood hazard area. The value is shown in the legend where alluvial fans are present. This field is only populated if the VELOCITY field is populated.\n",
    "\n",
    "AR_REVERT\n",
    ">If the area is Zone AR, this field would hold the zone that the area would revert to if the AR zone were removed. This field is only populated if the corresponding area is Zone AR. Acceptable values for this field are listed in the D_Zone table."
   ]
  },
  {
   "cell_type": "code",
   "execution_count": 336,
   "metadata": {},
   "outputs": [
    {
     "data": {
      "text/html": [
       "<div>\n",
       "<style scoped>\n",
       "    .dataframe tbody tr th:only-of-type {\n",
       "        vertical-align: middle;\n",
       "    }\n",
       "\n",
       "    .dataframe tbody tr th {\n",
       "        vertical-align: top;\n",
       "    }\n",
       "\n",
       "    .dataframe thead th {\n",
       "        text-align: right;\n",
       "    }\n",
       "</style>\n",
       "<table border=\"1\" class=\"dataframe\">\n",
       "  <thead>\n",
       "    <tr style=\"text-align: right;\">\n",
       "      <th></th>\n",
       "      <th>VEL_UNIT</th>\n",
       "      <th>AR_REVERT</th>\n",
       "    </tr>\n",
       "  </thead>\n",
       "  <tbody>\n",
       "    <tr>\n",
       "      <th>0</th>\n",
       "      <td>None</td>\n",
       "      <td>None</td>\n",
       "    </tr>\n",
       "    <tr>\n",
       "      <th>1</th>\n",
       "      <td>None</td>\n",
       "      <td>None</td>\n",
       "    </tr>\n",
       "    <tr>\n",
       "      <th>2</th>\n",
       "      <td>None</td>\n",
       "      <td>None</td>\n",
       "    </tr>\n",
       "    <tr>\n",
       "      <th>3</th>\n",
       "      <td>None</td>\n",
       "      <td>None</td>\n",
       "    </tr>\n",
       "    <tr>\n",
       "      <th>4</th>\n",
       "      <td>None</td>\n",
       "      <td>None</td>\n",
       "    </tr>\n",
       "  </tbody>\n",
       "</table>\n",
       "</div>"
      ],
      "text/plain": [
       "  VEL_UNIT AR_REVERT\n",
       "0     None      None\n",
       "1     None      None\n",
       "2     None      None\n",
       "3     None      None\n",
       "4     None      None"
      ]
     },
     "execution_count": 336,
     "metadata": {},
     "output_type": "execute_result"
    }
   ],
   "source": [
    "# previewing columns that are 100% null\n",
    "pfirm_df[['VEL_UNIT', 'AR_REVERT']].head()"
   ]
  },
  {
   "cell_type": "code",
   "execution_count": 337,
   "metadata": {},
   "outputs": [
    {
     "name": "stdout",
     "output_type": "stream",
     "text": [
      "Series([], Name: VEL_UNIT, dtype: int64)\n",
      "Series([], Name: AR_REVERT, dtype: int64)\n"
     ]
    }
   ],
   "source": [
    "# inspecting items within these columns\n",
    "for col in ['VEL_UNIT', 'AR_REVERT']:\n",
    "    print(pfirm_df[col].value_counts())"
   ]
  },
  {
   "cell_type": "markdown",
   "metadata": {},
   "source": [
    "There are no values besides `None` in these columns, and we can safely drop these."
   ]
  },
  {
   "cell_type": "code",
   "execution_count": 338,
   "metadata": {},
   "outputs": [
    {
     "name": "stdout",
     "output_type": "stream",
     "text": [
      "number of columns: 15\n",
      "new number of columns: 13\n",
      "\n"
     ]
    },
    {
     "data": {
      "text/html": [
       "<div>\n",
       "<style scoped>\n",
       "    .dataframe tbody tr th:only-of-type {\n",
       "        vertical-align: middle;\n",
       "    }\n",
       "\n",
       "    .dataframe tbody tr th {\n",
       "        vertical-align: top;\n",
       "    }\n",
       "\n",
       "    .dataframe thead th {\n",
       "        text-align: right;\n",
       "    }\n",
       "</style>\n",
       "<table border=\"1\" class=\"dataframe\">\n",
       "  <thead>\n",
       "    <tr style=\"text-align: right;\">\n",
       "      <th></th>\n",
       "      <th>FLD_AR_ID</th>\n",
       "      <th>FLD_ZONE</th>\n",
       "      <th>FLOODWAY</th>\n",
       "      <th>SFHA_TF</th>\n",
       "      <th>STATIC_BFE</th>\n",
       "      <th>V_DATUM</th>\n",
       "      <th>DEPTH</th>\n",
       "      <th>LEN_UNIT</th>\n",
       "      <th>VELOCITY</th>\n",
       "      <th>BFE_REVERT</th>\n",
       "      <th>DEP_REVERT</th>\n",
       "      <th>SOURCE_CIT</th>\n",
       "      <th>geometry</th>\n",
       "    </tr>\n",
       "  </thead>\n",
       "  <tbody>\n",
       "    <tr>\n",
       "      <th>0</th>\n",
       "      <td>81</td>\n",
       "      <td>AE</td>\n",
       "      <td>None</td>\n",
       "      <td>T</td>\n",
       "      <td>13.0</td>\n",
       "      <td>NAVD88</td>\n",
       "      <td>-9999.0</td>\n",
       "      <td>FEET</td>\n",
       "      <td>-9999.0</td>\n",
       "      <td>-9999.0</td>\n",
       "      <td>-9999.0</td>\n",
       "      <td>STUDY4</td>\n",
       "      <td>POLYGON ((1032001.691 263867.839, 1032006.047 ...</td>\n",
       "    </tr>\n",
       "    <tr>\n",
       "      <th>1</th>\n",
       "      <td>82</td>\n",
       "      <td>X</td>\n",
       "      <td>None</td>\n",
       "      <td>F</td>\n",
       "      <td>-9999.0</td>\n",
       "      <td>None</td>\n",
       "      <td>-9999.0</td>\n",
       "      <td>None</td>\n",
       "      <td>-9999.0</td>\n",
       "      <td>-9999.0</td>\n",
       "      <td>-9999.0</td>\n",
       "      <td>STUDY4</td>\n",
       "      <td>POLYGON ((1033748.952 263778.464, 1033752.656 ...</td>\n",
       "    </tr>\n",
       "    <tr>\n",
       "      <th>2</th>\n",
       "      <td>83</td>\n",
       "      <td>0.2 PCT ANNUAL CHANCE FLOOD HAZARD</td>\n",
       "      <td>None</td>\n",
       "      <td>F</td>\n",
       "      <td>-9999.0</td>\n",
       "      <td>None</td>\n",
       "      <td>-9999.0</td>\n",
       "      <td>None</td>\n",
       "      <td>-9999.0</td>\n",
       "      <td>-9999.0</td>\n",
       "      <td>-9999.0</td>\n",
       "      <td>STUDY4</td>\n",
       "      <td>POLYGON ((1033309.701 263544.181, 1033322.210 ...</td>\n",
       "    </tr>\n",
       "    <tr>\n",
       "      <th>3</th>\n",
       "      <td>84</td>\n",
       "      <td>0.2 PCT ANNUAL CHANCE FLOOD HAZARD</td>\n",
       "      <td>None</td>\n",
       "      <td>F</td>\n",
       "      <td>-9999.0</td>\n",
       "      <td>None</td>\n",
       "      <td>-9999.0</td>\n",
       "      <td>None</td>\n",
       "      <td>-9999.0</td>\n",
       "      <td>-9999.0</td>\n",
       "      <td>-9999.0</td>\n",
       "      <td>STUDY4</td>\n",
       "      <td>POLYGON ((1033414.148 262658.868, 1033414.934 ...</td>\n",
       "    </tr>\n",
       "    <tr>\n",
       "      <th>4</th>\n",
       "      <td>85</td>\n",
       "      <td>0.2 PCT ANNUAL CHANCE FLOOD HAZARD</td>\n",
       "      <td>None</td>\n",
       "      <td>F</td>\n",
       "      <td>-9999.0</td>\n",
       "      <td>None</td>\n",
       "      <td>-9999.0</td>\n",
       "      <td>None</td>\n",
       "      <td>-9999.0</td>\n",
       "      <td>-9999.0</td>\n",
       "      <td>-9999.0</td>\n",
       "      <td>STUDY4</td>\n",
       "      <td>POLYGON ((1034089.115 262466.034, 1034089.402 ...</td>\n",
       "    </tr>\n",
       "  </tbody>\n",
       "</table>\n",
       "</div>"
      ],
      "text/plain": [
       "  FLD_AR_ID                            FLD_ZONE FLOODWAY SFHA_TF  STATIC_BFE  \\\n",
       "0        81                                  AE     None       T        13.0   \n",
       "1        82                                   X     None       F     -9999.0   \n",
       "2        83  0.2 PCT ANNUAL CHANCE FLOOD HAZARD     None       F     -9999.0   \n",
       "3        84  0.2 PCT ANNUAL CHANCE FLOOD HAZARD     None       F     -9999.0   \n",
       "4        85  0.2 PCT ANNUAL CHANCE FLOOD HAZARD     None       F     -9999.0   \n",
       "\n",
       "  V_DATUM   DEPTH LEN_UNIT  VELOCITY  BFE_REVERT  DEP_REVERT SOURCE_CIT  \\\n",
       "0  NAVD88 -9999.0     FEET   -9999.0     -9999.0     -9999.0     STUDY4   \n",
       "1    None -9999.0     None   -9999.0     -9999.0     -9999.0     STUDY4   \n",
       "2    None -9999.0     None   -9999.0     -9999.0     -9999.0     STUDY4   \n",
       "3    None -9999.0     None   -9999.0     -9999.0     -9999.0     STUDY4   \n",
       "4    None -9999.0     None   -9999.0     -9999.0     -9999.0     STUDY4   \n",
       "\n",
       "                                            geometry  \n",
       "0  POLYGON ((1032001.691 263867.839, 1032006.047 ...  \n",
       "1  POLYGON ((1033748.952 263778.464, 1033752.656 ...  \n",
       "2  POLYGON ((1033309.701 263544.181, 1033322.210 ...  \n",
       "3  POLYGON ((1033414.148 262658.868, 1033414.934 ...  \n",
       "4  POLYGON ((1034089.115 262466.034, 1034089.402 ...  "
      ]
     },
     "execution_count": 338,
     "metadata": {},
     "output_type": "execute_result"
    }
   ],
   "source": [
    "print('number of columns: {}'.format(pfirm_df.shape[1]))\n",
    "\n",
    "# dropping 100% null columns\n",
    "pfirm_df = pfirm_df.drop(columns=['VEL_UNIT', 'AR_REVERT'])\n",
    "print('new number of columns: {}\\n'.format(pfirm_df.shape[1]))\n",
    "\n",
    "pfirm_df.head()"
   ]
  },
  {
   "cell_type": "code",
   "execution_count": 339,
   "metadata": {},
   "outputs": [
    {
     "name": "stdout",
     "output_type": "stream",
     "text": [
      "null statistics:\n"
     ]
    },
    {
     "data": {
      "text/html": [
       "<div>\n",
       "<style scoped>\n",
       "    .dataframe tbody tr th:only-of-type {\n",
       "        vertical-align: middle;\n",
       "    }\n",
       "\n",
       "    .dataframe tbody tr th {\n",
       "        vertical-align: top;\n",
       "    }\n",
       "\n",
       "    .dataframe thead th {\n",
       "        text-align: right;\n",
       "    }\n",
       "</style>\n",
       "<table border=\"1\" class=\"dataframe\">\n",
       "  <thead>\n",
       "    <tr style=\"text-align: right;\">\n",
       "      <th></th>\n",
       "      <th>count_null</th>\n",
       "      <th>normalized</th>\n",
       "    </tr>\n",
       "  </thead>\n",
       "  <tbody>\n",
       "    <tr>\n",
       "      <th>FLOODWAY</th>\n",
       "      <td>3938</td>\n",
       "      <td>0.99</td>\n",
       "    </tr>\n",
       "    <tr>\n",
       "      <th>V_DATUM</th>\n",
       "      <td>2832</td>\n",
       "      <td>0.71</td>\n",
       "    </tr>\n",
       "    <tr>\n",
       "      <th>LEN_UNIT</th>\n",
       "      <td>2820</td>\n",
       "      <td>0.71</td>\n",
       "    </tr>\n",
       "    <tr>\n",
       "      <th>FLD_AR_ID</th>\n",
       "      <td>0</td>\n",
       "      <td>0.00</td>\n",
       "    </tr>\n",
       "    <tr>\n",
       "      <th>FLD_ZONE</th>\n",
       "      <td>0</td>\n",
       "      <td>0.00</td>\n",
       "    </tr>\n",
       "    <tr>\n",
       "      <th>SFHA_TF</th>\n",
       "      <td>0</td>\n",
       "      <td>0.00</td>\n",
       "    </tr>\n",
       "    <tr>\n",
       "      <th>STATIC_BFE</th>\n",
       "      <td>0</td>\n",
       "      <td>0.00</td>\n",
       "    </tr>\n",
       "    <tr>\n",
       "      <th>DEPTH</th>\n",
       "      <td>0</td>\n",
       "      <td>0.00</td>\n",
       "    </tr>\n",
       "    <tr>\n",
       "      <th>VELOCITY</th>\n",
       "      <td>0</td>\n",
       "      <td>0.00</td>\n",
       "    </tr>\n",
       "    <tr>\n",
       "      <th>BFE_REVERT</th>\n",
       "      <td>0</td>\n",
       "      <td>0.00</td>\n",
       "    </tr>\n",
       "    <tr>\n",
       "      <th>DEP_REVERT</th>\n",
       "      <td>0</td>\n",
       "      <td>0.00</td>\n",
       "    </tr>\n",
       "    <tr>\n",
       "      <th>SOURCE_CIT</th>\n",
       "      <td>0</td>\n",
       "      <td>0.00</td>\n",
       "    </tr>\n",
       "    <tr>\n",
       "      <th>geometry</th>\n",
       "      <td>0</td>\n",
       "      <td>0.00</td>\n",
       "    </tr>\n",
       "  </tbody>\n",
       "</table>\n",
       "</div>"
      ],
      "text/plain": [
       "            count_null  normalized\n",
       "FLOODWAY          3938        0.99\n",
       "V_DATUM           2832        0.71\n",
       "LEN_UNIT          2820        0.71\n",
       "FLD_AR_ID            0        0.00\n",
       "FLD_ZONE             0        0.00\n",
       "SFHA_TF              0        0.00\n",
       "STATIC_BFE           0        0.00\n",
       "DEPTH                0        0.00\n",
       "VELOCITY             0        0.00\n",
       "BFE_REVERT           0        0.00\n",
       "DEP_REVERT           0        0.00\n",
       "SOURCE_CIT           0        0.00\n",
       "geometry             0        0.00"
      ]
     },
     "execution_count": 339,
     "metadata": {},
     "output_type": "execute_result"
    }
   ],
   "source": [
    "# let's preview our null counts after droppping those columns\n",
    "s1 = pfirm_df.isnull().sum().sort_values(ascending=False)\n",
    "s2 = round(pfirm_df.isnull().sum().sort_values(ascending=False) / len(pfirm_df), 2)\n",
    "\n",
    "print('null statistics:')\n",
    "pd.concat([s1.rename('count_null'), s2.rename('normalized')], axis=1)"
   ]
  },
  {
   "cell_type": "code",
   "execution_count": 340,
   "metadata": {},
   "outputs": [
    {
     "name": "stdout",
     "output_type": "stream",
     "text": [
      "reviewing items in FLOODWAY column that is almost 100% null\n"
     ]
    },
    {
     "data": {
      "text/plain": [
       "NaN         3938\n",
       "FLOODWAY      47\n",
       "Name: FLOODWAY, dtype: int64"
      ]
     },
     "execution_count": 340,
     "metadata": {},
     "output_type": "execute_result"
    }
   ],
   "source": [
    "print('reviewing items in FLOODWAY column that is almost 100% null')\n",
    "pfirm_df['FLOODWAY'].value_counts(dropna=False)"
   ]
  },
  {
   "cell_type": "markdown",
   "metadata": {},
   "source": [
    "Although `FLOODWAY` is 99% null, it still has non-null values. Let's keep the column."
   ]
  },
  {
   "cell_type": "code",
   "execution_count": 341,
   "metadata": {},
   "outputs": [
    {
     "data": {
      "image/png": "[encoded data removed]",
      "text/plain": [
       "<Figure size 864x864 with 6 Axes>"
      ]
     },
     "metadata": {
      "needs_background": "light"
     },
     "output_type": "display_data"
    }
   ],
   "source": [
    "# plotting histograms of numeric columns\n",
    "pfirm_df.hist(figsize=(12,12))\n",
    "plt.tight_layout()"
   ]
  },
  {
   "cell_type": "markdown",
   "metadata": {},
   "source": [
    "There seems to be some outliers in these columns. Let's inspect them."
   ]
  },
  {
   "cell_type": "code",
   "execution_count": 342,
   "metadata": {
    "scrolled": false
   },
   "outputs": [
    {
     "name": "stdout",
     "output_type": "stream",
     "text": [
      "previewing items within each column. hopefully we'll find columns that are\n",
      "not 100% null but are still not useful for this analysis.\n",
      "\n",
      "FLD_AR_ID value counts:\n",
      "3764    0.000251\n",
      "3991    0.000251\n",
      "1434    0.000251\n",
      "157     0.000251\n",
      "2895    0.000251\n",
      "Name: FLD_AR_ID, dtype: float64\n",
      "\n",
      "FLD_ZONE value counts:\n",
      "0.2 PCT ANNUAL CHANCE FLOOD HAZARD    0.433124\n",
      "AE                                    0.318444\n",
      "X                                     0.132748\n",
      "VE                                    0.105395\n",
      "A                                     0.005270\n",
      "Name: FLD_ZONE, dtype: float64\n",
      "\n",
      "FLOODWAY value counts:\n",
      "NaN         0.988206\n",
      "FLOODWAY    0.011794\n",
      "Name: FLOODWAY, dtype: float64\n",
      "\n",
      "SFHA_TF value counts:\n",
      "F    0.56788\n",
      "T    0.43212\n",
      "Name: SFHA_TF, dtype: float64\n",
      "\n",
      "STATIC_BFE value counts:\n",
      "-9999.0    0.710665\n",
      " 13.0      0.055458\n",
      " 14.0      0.038896\n",
      " 11.0      0.036888\n",
      " 12.0      0.036136\n",
      "Name: STATIC_BFE, dtype: float64\n",
      "\n",
      "V_DATUM value counts:\n",
      "NaN       0.710665\n",
      "NAVD88    0.289335\n",
      "Name: V_DATUM, dtype: float64\n",
      "\n",
      "DEPTH value counts:\n",
      "-9999.0    0.996989\n",
      " 3.0       0.001757\n",
      " 1.0       0.000753\n",
      " 2.0       0.000502\n",
      "Name: DEPTH, dtype: float64\n",
      "\n",
      "LEN_UNIT value counts:\n",
      "NaN     0.707654\n",
      "FEET    0.292346\n",
      "Name: LEN_UNIT, dtype: float64\n",
      "\n",
      "VELOCITY value counts:\n",
      "-9999.0    1.0\n",
      "Name: VELOCITY, dtype: float64\n",
      "\n",
      "BFE_REVERT value counts:\n",
      "-9999.0    1.0\n",
      "Name: BFE_REVERT, dtype: float64\n",
      "\n",
      "DEP_REVERT value counts:\n",
      "-9999.0    1.0\n",
      "Name: DEP_REVERT, dtype: float64\n",
      "\n",
      "SOURCE_CIT value counts:\n",
      "STUDY4    0.737014\n",
      "STUDY3    0.257716\n",
      "STUDY5    0.005270\n",
      "Name: SOURCE_CIT, dtype: float64\n",
      "\n"
     ]
    }
   ],
   "source": [
    "print(\"previewing items within each column. hopefully we'll \\\n",
    "find columns that are\\n\\\n",
    "not 100% null but are still not useful for this analysis.\\n\")\n",
    "\n",
    "for col in pfirm_df.columns:\n",
    "    # geometry type does not have a .value_counts() method\n",
    "    if col == 'geometry':\n",
    "        continue\n",
    "    print(col, 'value counts:')    \n",
    "    print(pfirm_df[col].value_counts(dropna=False, normalize=True).head())\n",
    "    print()"
   ]
  },
  {
   "cell_type": "markdown",
   "metadata": {},
   "source": [
    "Reviewing possible columns to drop. After reviewing items within each column, there are a few columns that have only one value as well as values that look off (e.g. -9999.0.). Let's continue to inspect these columns."
   ]
  },
  {
   "cell_type": "code",
   "execution_count": 343,
   "metadata": {},
   "outputs": [
    {
     "data": {
      "text/html": [
       "<div>\n",
       "<style scoped>\n",
       "    .dataframe tbody tr th:only-of-type {\n",
       "        vertical-align: middle;\n",
       "    }\n",
       "\n",
       "    .dataframe tbody tr th {\n",
       "        vertical-align: top;\n",
       "    }\n",
       "\n",
       "    .dataframe thead th {\n",
       "        text-align: right;\n",
       "    }\n",
       "</style>\n",
       "<table border=\"1\" class=\"dataframe\">\n",
       "  <thead>\n",
       "    <tr style=\"text-align: right;\">\n",
       "      <th></th>\n",
       "      <th>VELOCITY</th>\n",
       "      <th>BFE_REVERT</th>\n",
       "      <th>DEP_REVERT</th>\n",
       "      <th>SOURCE_CIT</th>\n",
       "    </tr>\n",
       "  </thead>\n",
       "  <tbody>\n",
       "    <tr>\n",
       "      <th>0</th>\n",
       "      <td>-9999.0</td>\n",
       "      <td>-9999.0</td>\n",
       "      <td>-9999.0</td>\n",
       "      <td>STUDY4</td>\n",
       "    </tr>\n",
       "    <tr>\n",
       "      <th>1</th>\n",
       "      <td>-9999.0</td>\n",
       "      <td>-9999.0</td>\n",
       "      <td>-9999.0</td>\n",
       "      <td>STUDY4</td>\n",
       "    </tr>\n",
       "    <tr>\n",
       "      <th>2</th>\n",
       "      <td>-9999.0</td>\n",
       "      <td>-9999.0</td>\n",
       "      <td>-9999.0</td>\n",
       "      <td>STUDY4</td>\n",
       "    </tr>\n",
       "    <tr>\n",
       "      <th>3</th>\n",
       "      <td>-9999.0</td>\n",
       "      <td>-9999.0</td>\n",
       "      <td>-9999.0</td>\n",
       "      <td>STUDY4</td>\n",
       "    </tr>\n",
       "    <tr>\n",
       "      <th>4</th>\n",
       "      <td>-9999.0</td>\n",
       "      <td>-9999.0</td>\n",
       "      <td>-9999.0</td>\n",
       "      <td>STUDY4</td>\n",
       "    </tr>\n",
       "  </tbody>\n",
       "</table>\n",
       "</div>"
      ],
      "text/plain": [
       "   VELOCITY  BFE_REVERT  DEP_REVERT SOURCE_CIT\n",
       "0   -9999.0     -9999.0     -9999.0     STUDY4\n",
       "1   -9999.0     -9999.0     -9999.0     STUDY4\n",
       "2   -9999.0     -9999.0     -9999.0     STUDY4\n",
       "3   -9999.0     -9999.0     -9999.0     STUDY4\n",
       "4   -9999.0     -9999.0     -9999.0     STUDY4"
      ]
     },
     "execution_count": 343,
     "metadata": {},
     "output_type": "execute_result"
    }
   ],
   "source": [
    "pfirm_df.iloc[:, -5:-1].head()"
   ]
  },
  {
   "cell_type": "code",
   "execution_count": 344,
   "metadata": {},
   "outputs": [
    {
     "data": {
      "text/html": [
       "<div>\n",
       "<style scoped>\n",
       "    .dataframe tbody tr th:only-of-type {\n",
       "        vertical-align: middle;\n",
       "    }\n",
       "\n",
       "    .dataframe tbody tr th {\n",
       "        vertical-align: top;\n",
       "    }\n",
       "\n",
       "    .dataframe thead th {\n",
       "        text-align: right;\n",
       "    }\n",
       "</style>\n",
       "<table border=\"1\" class=\"dataframe\">\n",
       "  <thead>\n",
       "    <tr style=\"text-align: right;\">\n",
       "      <th></th>\n",
       "      <th>VELOCITY</th>\n",
       "      <th>BFE_REVERT</th>\n",
       "      <th>DEP_REVERT</th>\n",
       "    </tr>\n",
       "  </thead>\n",
       "  <tbody>\n",
       "    <tr>\n",
       "      <th>count</th>\n",
       "      <td>3985.0</td>\n",
       "      <td>3985.0</td>\n",
       "      <td>3985.0</td>\n",
       "    </tr>\n",
       "    <tr>\n",
       "      <th>mean</th>\n",
       "      <td>-9999.0</td>\n",
       "      <td>-9999.0</td>\n",
       "      <td>-9999.0</td>\n",
       "    </tr>\n",
       "    <tr>\n",
       "      <th>std</th>\n",
       "      <td>0.0</td>\n",
       "      <td>0.0</td>\n",
       "      <td>0.0</td>\n",
       "    </tr>\n",
       "    <tr>\n",
       "      <th>min</th>\n",
       "      <td>-9999.0</td>\n",
       "      <td>-9999.0</td>\n",
       "      <td>-9999.0</td>\n",
       "    </tr>\n",
       "    <tr>\n",
       "      <th>25%</th>\n",
       "      <td>-9999.0</td>\n",
       "      <td>-9999.0</td>\n",
       "      <td>-9999.0</td>\n",
       "    </tr>\n",
       "    <tr>\n",
       "      <th>50%</th>\n",
       "      <td>-9999.0</td>\n",
       "      <td>-9999.0</td>\n",
       "      <td>-9999.0</td>\n",
       "    </tr>\n",
       "    <tr>\n",
       "      <th>75%</th>\n",
       "      <td>-9999.0</td>\n",
       "      <td>-9999.0</td>\n",
       "      <td>-9999.0</td>\n",
       "    </tr>\n",
       "    <tr>\n",
       "      <th>max</th>\n",
       "      <td>-9999.0</td>\n",
       "      <td>-9999.0</td>\n",
       "      <td>-9999.0</td>\n",
       "    </tr>\n",
       "  </tbody>\n",
       "</table>\n",
       "</div>"
      ],
      "text/plain": [
       "       VELOCITY  BFE_REVERT  DEP_REVERT\n",
       "count    3985.0      3985.0      3985.0\n",
       "mean    -9999.0     -9999.0     -9999.0\n",
       "std         0.0         0.0         0.0\n",
       "min     -9999.0     -9999.0     -9999.0\n",
       "25%     -9999.0     -9999.0     -9999.0\n",
       "50%     -9999.0     -9999.0     -9999.0\n",
       "75%     -9999.0     -9999.0     -9999.0\n",
       "max     -9999.0     -9999.0     -9999.0"
      ]
     },
     "execution_count": 344,
     "metadata": {},
     "output_type": "execute_result"
    }
   ],
   "source": [
    "# summary statistics of possible columns to drop\n",
    "pfirm_df.iloc[:, -5:-1].describe()"
   ]
  },
  {
   "cell_type": "markdown",
   "metadata": {},
   "source": [
    "These columns don't appear to be useful in this analysis, so I'll drop them."
   ]
  },
  {
   "cell_type": "code",
   "execution_count": 345,
   "metadata": {},
   "outputs": [
    {
     "name": "stdout",
     "output_type": "stream",
     "text": [
      "number of initial columns: 13\n",
      "columns to drop: ['VELOCITY', 'BFE_REVERT', 'DEP_REVERT', 'SOURCE_CIT']\n",
      "number of new columns: 9\n"
     ]
    },
    {
     "data": {
      "text/html": [
       "<div>\n",
       "<style scoped>\n",
       "    .dataframe tbody tr th:only-of-type {\n",
       "        vertical-align: middle;\n",
       "    }\n",
       "\n",
       "    .dataframe tbody tr th {\n",
       "        vertical-align: top;\n",
       "    }\n",
       "\n",
       "    .dataframe thead th {\n",
       "        text-align: right;\n",
       "    }\n",
       "</style>\n",
       "<table border=\"1\" class=\"dataframe\">\n",
       "  <thead>\n",
       "    <tr style=\"text-align: right;\">\n",
       "      <th></th>\n",
       "      <th>FLD_AR_ID</th>\n",
       "      <th>FLD_ZONE</th>\n",
       "      <th>FLOODWAY</th>\n",
       "      <th>SFHA_TF</th>\n",
       "      <th>STATIC_BFE</th>\n",
       "      <th>V_DATUM</th>\n",
       "      <th>DEPTH</th>\n",
       "      <th>LEN_UNIT</th>\n",
       "      <th>geometry</th>\n",
       "    </tr>\n",
       "  </thead>\n",
       "  <tbody>\n",
       "    <tr>\n",
       "      <th>0</th>\n",
       "      <td>81</td>\n",
       "      <td>AE</td>\n",
       "      <td>None</td>\n",
       "      <td>T</td>\n",
       "      <td>13.0</td>\n",
       "      <td>NAVD88</td>\n",
       "      <td>-9999.0</td>\n",
       "      <td>FEET</td>\n",
       "      <td>POLYGON ((1032001.691 263867.839, 1032006.047 ...</td>\n",
       "    </tr>\n",
       "    <tr>\n",
       "      <th>1</th>\n",
       "      <td>82</td>\n",
       "      <td>X</td>\n",
       "      <td>None</td>\n",
       "      <td>F</td>\n",
       "      <td>-9999.0</td>\n",
       "      <td>None</td>\n",
       "      <td>-9999.0</td>\n",
       "      <td>None</td>\n",
       "      <td>POLYGON ((1033748.952 263778.464, 1033752.656 ...</td>\n",
       "    </tr>\n",
       "    <tr>\n",
       "      <th>2</th>\n",
       "      <td>83</td>\n",
       "      <td>0.2 PCT ANNUAL CHANCE FLOOD HAZARD</td>\n",
       "      <td>None</td>\n",
       "      <td>F</td>\n",
       "      <td>-9999.0</td>\n",
       "      <td>None</td>\n",
       "      <td>-9999.0</td>\n",
       "      <td>None</td>\n",
       "      <td>POLYGON ((1033309.701 263544.181, 1033322.210 ...</td>\n",
       "    </tr>\n",
       "    <tr>\n",
       "      <th>3</th>\n",
       "      <td>84</td>\n",
       "      <td>0.2 PCT ANNUAL CHANCE FLOOD HAZARD</td>\n",
       "      <td>None</td>\n",
       "      <td>F</td>\n",
       "      <td>-9999.0</td>\n",
       "      <td>None</td>\n",
       "      <td>-9999.0</td>\n",
       "      <td>None</td>\n",
       "      <td>POLYGON ((1033414.148 262658.868, 1033414.934 ...</td>\n",
       "    </tr>\n",
       "    <tr>\n",
       "      <th>4</th>\n",
       "      <td>85</td>\n",
       "      <td>0.2 PCT ANNUAL CHANCE FLOOD HAZARD</td>\n",
       "      <td>None</td>\n",
       "      <td>F</td>\n",
       "      <td>-9999.0</td>\n",
       "      <td>None</td>\n",
       "      <td>-9999.0</td>\n",
       "      <td>None</td>\n",
       "      <td>POLYGON ((1034089.115 262466.034, 1034089.402 ...</td>\n",
       "    </tr>\n",
       "  </tbody>\n",
       "</table>\n",
       "</div>"
      ],
      "text/plain": [
       "  FLD_AR_ID                            FLD_ZONE FLOODWAY SFHA_TF  STATIC_BFE  \\\n",
       "0        81                                  AE     None       T        13.0   \n",
       "1        82                                   X     None       F     -9999.0   \n",
       "2        83  0.2 PCT ANNUAL CHANCE FLOOD HAZARD     None       F     -9999.0   \n",
       "3        84  0.2 PCT ANNUAL CHANCE FLOOD HAZARD     None       F     -9999.0   \n",
       "4        85  0.2 PCT ANNUAL CHANCE FLOOD HAZARD     None       F     -9999.0   \n",
       "\n",
       "  V_DATUM   DEPTH LEN_UNIT                                           geometry  \n",
       "0  NAVD88 -9999.0     FEET  POLYGON ((1032001.691 263867.839, 1032006.047 ...  \n",
       "1    None -9999.0     None  POLYGON ((1033748.952 263778.464, 1033752.656 ...  \n",
       "2    None -9999.0     None  POLYGON ((1033309.701 263544.181, 1033322.210 ...  \n",
       "3    None -9999.0     None  POLYGON ((1033414.148 262658.868, 1033414.934 ...  \n",
       "4    None -9999.0     None  POLYGON ((1034089.115 262466.034, 1034089.402 ...  "
      ]
     },
     "execution_count": 345,
     "metadata": {},
     "output_type": "execute_result"
    }
   ],
   "source": [
    "print('number of initial columns: {}'.format(pfirm_df.shape[1]))\n",
    "\n",
    "col_drop = pfirm_df.iloc[:, -5:-1].columns\n",
    "print('columns to drop:', col_drop.to_list())\n",
    "\n",
    "pfirm_df = pfirm_df.drop(columns=col_drop)\n",
    "print('number of new columns: {}'.format(pfirm_df.shape[1]))\n",
    "\n",
    "pfirm_df.head()"
   ]
  },
  {
   "cell_type": "markdown",
   "metadata": {},
   "source": [
    "Let's continue inspecting our data."
   ]
  },
  {
   "cell_type": "code",
   "execution_count": 346,
   "metadata": {},
   "outputs": [
    {
     "name": "stdout",
     "output_type": "stream",
     "text": [
      "<class 'geopandas.geodataframe.GeoDataFrame'>\n",
      "RangeIndex: 3985 entries, 0 to 3984\n",
      "Data columns (total 9 columns):\n",
      " #   Column      Non-Null Count  Dtype   \n",
      "---  ------      --------------  -----   \n",
      " 0   FLD_AR_ID   3985 non-null   object  \n",
      " 1   FLD_ZONE    3985 non-null   object  \n",
      " 2   FLOODWAY    47 non-null     object  \n",
      " 3   SFHA_TF     3985 non-null   object  \n",
      " 4   STATIC_BFE  3985 non-null   float64 \n",
      " 5   V_DATUM     1153 non-null   object  \n",
      " 6   DEPTH       3985 non-null   float64 \n",
      " 7   LEN_UNIT    1165 non-null   object  \n",
      " 8   geometry    3985 non-null   geometry\n",
      "dtypes: float64(2), geometry(1), object(6)\n",
      "memory usage: 280.3+ KB\n"
     ]
    }
   ],
   "source": [
    "# inspecting our data\n",
    "pfirm_df.info()"
   ]
  },
  {
   "cell_type": "code",
   "execution_count": 347,
   "metadata": {},
   "outputs": [
    {
     "name": "stdout",
     "output_type": "stream",
     "text": [
      "null statistics:\n"
     ]
    },
    {
     "data": {
      "text/html": [
       "<div>\n",
       "<style scoped>\n",
       "    .dataframe tbody tr th:only-of-type {\n",
       "        vertical-align: middle;\n",
       "    }\n",
       "\n",
       "    .dataframe tbody tr th {\n",
       "        vertical-align: top;\n",
       "    }\n",
       "\n",
       "    .dataframe thead th {\n",
       "        text-align: right;\n",
       "    }\n",
       "</style>\n",
       "<table border=\"1\" class=\"dataframe\">\n",
       "  <thead>\n",
       "    <tr style=\"text-align: right;\">\n",
       "      <th></th>\n",
       "      <th>count_null</th>\n",
       "      <th>normalized</th>\n",
       "    </tr>\n",
       "  </thead>\n",
       "  <tbody>\n",
       "    <tr>\n",
       "      <th>FLOODWAY</th>\n",
       "      <td>3938</td>\n",
       "      <td>0.99</td>\n",
       "    </tr>\n",
       "    <tr>\n",
       "      <th>V_DATUM</th>\n",
       "      <td>2832</td>\n",
       "      <td>0.71</td>\n",
       "    </tr>\n",
       "    <tr>\n",
       "      <th>LEN_UNIT</th>\n",
       "      <td>2820</td>\n",
       "      <td>0.71</td>\n",
       "    </tr>\n",
       "    <tr>\n",
       "      <th>FLD_AR_ID</th>\n",
       "      <td>0</td>\n",
       "      <td>0.00</td>\n",
       "    </tr>\n",
       "    <tr>\n",
       "      <th>FLD_ZONE</th>\n",
       "      <td>0</td>\n",
       "      <td>0.00</td>\n",
       "    </tr>\n",
       "    <tr>\n",
       "      <th>SFHA_TF</th>\n",
       "      <td>0</td>\n",
       "      <td>0.00</td>\n",
       "    </tr>\n",
       "    <tr>\n",
       "      <th>STATIC_BFE</th>\n",
       "      <td>0</td>\n",
       "      <td>0.00</td>\n",
       "    </tr>\n",
       "    <tr>\n",
       "      <th>DEPTH</th>\n",
       "      <td>0</td>\n",
       "      <td>0.00</td>\n",
       "    </tr>\n",
       "    <tr>\n",
       "      <th>geometry</th>\n",
       "      <td>0</td>\n",
       "      <td>0.00</td>\n",
       "    </tr>\n",
       "  </tbody>\n",
       "</table>\n",
       "</div>"
      ],
      "text/plain": [
       "            count_null  normalized\n",
       "FLOODWAY          3938        0.99\n",
       "V_DATUM           2832        0.71\n",
       "LEN_UNIT          2820        0.71\n",
       "FLD_AR_ID            0        0.00\n",
       "FLD_ZONE             0        0.00\n",
       "SFHA_TF              0        0.00\n",
       "STATIC_BFE           0        0.00\n",
       "DEPTH                0        0.00\n",
       "geometry             0        0.00"
      ]
     },
     "execution_count": 347,
     "metadata": {},
     "output_type": "execute_result"
    }
   ],
   "source": [
    "s1 = pfirm_df.isnull().sum().sort_values(ascending=False)\n",
    "s2 = round(pfirm_df.isnull().sum().sort_values(ascending=False) / len(pfirm_df), 2)\n",
    "\n",
    "print('null statistics:')\n",
    "pd.concat([s1.rename('count_null'), s2.rename('normalized')], axis=1)"
   ]
  },
  {
   "cell_type": "markdown",
   "metadata": {},
   "source": [
    "We've inspecting most of our columns, and even dropped some that didn't have any values stored in them. We did see wierd values such as -9999, but for now, let's turn our attention to our geometry column."
   ]
  },
  {
   "cell_type": "markdown",
   "metadata": {},
   "source": [
    "## 2.3 Inspecting our geometry column"
   ]
  },
  {
   "cell_type": "markdown",
   "metadata": {},
   "source": [
    "Lastly, let's inspect our geometry column, which is a type provided by the shapefile (.shp) format."
   ]
  },
  {
   "cell_type": "code",
   "execution_count": 348,
   "metadata": {},
   "outputs": [
    {
     "name": "stdout",
     "output_type": "stream",
     "text": [
      "reviewing geometry column:\n"
     ]
    },
    {
     "data": {
      "text/html": [
       "<div>\n",
       "<style scoped>\n",
       "    .dataframe tbody tr th:only-of-type {\n",
       "        vertical-align: middle;\n",
       "    }\n",
       "\n",
       "    .dataframe tbody tr th {\n",
       "        vertical-align: top;\n",
       "    }\n",
       "\n",
       "    .dataframe thead th {\n",
       "        text-align: right;\n",
       "    }\n",
       "</style>\n",
       "<table border=\"1\" class=\"dataframe\">\n",
       "  <thead>\n",
       "    <tr style=\"text-align: right;\">\n",
       "      <th></th>\n",
       "      <th>geometry</th>\n",
       "    </tr>\n",
       "  </thead>\n",
       "  <tbody>\n",
       "    <tr>\n",
       "      <th>0</th>\n",
       "      <td>POLYGON ((1032001.691 263867.839, 1032006.047 ...</td>\n",
       "    </tr>\n",
       "    <tr>\n",
       "      <th>1</th>\n",
       "      <td>POLYGON ((1033748.952 263778.464, 1033752.656 ...</td>\n",
       "    </tr>\n",
       "    <tr>\n",
       "      <th>2</th>\n",
       "      <td>POLYGON ((1033309.701 263544.181, 1033322.210 ...</td>\n",
       "    </tr>\n",
       "    <tr>\n",
       "      <th>3</th>\n",
       "      <td>POLYGON ((1033414.148 262658.868, 1033414.934 ...</td>\n",
       "    </tr>\n",
       "    <tr>\n",
       "      <th>4</th>\n",
       "      <td>POLYGON ((1034089.115 262466.034, 1034089.402 ...</td>\n",
       "    </tr>\n",
       "  </tbody>\n",
       "</table>\n",
       "</div>"
      ],
      "text/plain": [
       "                                            geometry\n",
       "0  POLYGON ((1032001.691 263867.839, 1032006.047 ...\n",
       "1  POLYGON ((1033748.952 263778.464, 1033752.656 ...\n",
       "2  POLYGON ((1033309.701 263544.181, 1033322.210 ...\n",
       "3  POLYGON ((1033414.148 262658.868, 1033414.934 ...\n",
       "4  POLYGON ((1034089.115 262466.034, 1034089.402 ..."
      ]
     },
     "execution_count": 348,
     "metadata": {},
     "output_type": "execute_result"
    }
   ],
   "source": [
    "print('reviewing geometry column:')\n",
    "pfirm_df[['geometry']].head()"
   ]
  },
  {
   "cell_type": "code",
   "execution_count": 349,
   "metadata": {},
   "outputs": [
    {
     "name": "stdout",
     "output_type": "stream",
     "text": [
      "<class 'geopandas.geodataframe.GeoDataFrame'>\n",
      "RangeIndex: 3985 entries, 0 to 3984\n",
      "Data columns (total 1 columns):\n",
      " #   Column    Non-Null Count  Dtype   \n",
      "---  ------    --------------  -----   \n",
      " 0   geometry  3985 non-null   geometry\n",
      "dtypes: geometry(1)\n",
      "memory usage: 31.3 KB\n"
     ]
    }
   ],
   "source": [
    "pfirm_df[['geometry']].info()"
   ]
  },
  {
   "cell_type": "code",
   "execution_count": 350,
   "metadata": {},
   "outputs": [
    {
     "name": "stdout",
     "output_type": "stream",
     "text": [
      "reviewing the geometry's coordinate referance system (CRS).\n"
     ]
    },
    {
     "data": {
      "text/plain": [
       "<Projected CRS: EPSG:2263>\n",
       "Name: NAD83 / New York Long Island (ftUS)\n",
       "Axis Info [cartesian]:\n",
       "- X[east]: Easting (US survey foot)\n",
       "- Y[north]: Northing (US survey foot)\n",
       "Area of Use:\n",
       "- name: USA - New York - SPCS - Long Island\n",
       "- bounds: (-74.26, 40.47, -71.8, 41.3)\n",
       "Coordinate Operation:\n",
       "- name: SPCS83 New York Long Island zone (US Survey feet)\n",
       "- method: Lambert Conic Conformal (2SP)\n",
       "Datum: North American Datum 1983\n",
       "- Ellipsoid: GRS 1980\n",
       "- Prime Meridian: Greenwich"
      ]
     },
     "execution_count": 350,
     "metadata": {},
     "output_type": "execute_result"
    }
   ],
   "source": [
    "print(\"reviewing the geometry's coordinate referance system (CRS).\")\n",
    "pfirm_df.crs"
   ]
  },
  {
   "cell_type": "markdown",
   "metadata": {},
   "source": [
    "From the `.crs` attribute above, our geometry's CRS is *NAD83 / New York Long Island (ftUS)* - code 2263.\n",
    "Our units are in feet."
   ]
  },
  {
   "cell_type": "code",
   "execution_count": 351,
   "metadata": {},
   "outputs": [
    {
     "data": {
      "text/plain": [
       "NAVD88    1153\n",
       "Name: V_DATUM, dtype: int64"
      ]
     },
     "execution_count": 351,
     "metadata": {},
     "output_type": "execute_result"
    }
   ],
   "source": [
    "# looking at the values in the V_DATUM column\n",
    "pfirm_df['V_DATUM'].value_counts()"
   ]
  },
  {
   "cell_type": "markdown",
   "metadata": {},
   "source": [
    "We could potentially drop this column and just record the vertical datum on the page, but this does provide useful information. Let's keep it."
   ]
  },
  {
   "cell_type": "code",
   "execution_count": 352,
   "metadata": {},
   "outputs": [
    {
     "name": "stdout",
     "output_type": "stream",
     "text": [
      "the vertical datum for this geometry is: NAVD88.\n"
     ]
    }
   ],
   "source": [
    "v_datum = pfirm_df['V_DATUM'].value_counts().index[0]\n",
    "\n",
    "print('the vertical datum for this geometry is: {}.'.format(v_datum))"
   ]
  },
  {
   "cell_type": "markdown",
   "metadata": {},
   "source": [
    "There's a lot of useful information stored in our geometry column, but for now, let's continue and inspect our flood zone values."
   ]
  },
  {
   "cell_type": "markdown",
   "metadata": {},
   "source": [
    "# 3. Inspecting flood zones and static base flood elevation values"
   ]
  },
  {
   "cell_type": "markdown",
   "metadata": {},
   "source": [
    "Definitions from our [data dictionary](https://github.com/mebauer/nyc-floodzone-analysis/blob/master/data-dictionary.pdf):\n",
    "\n",
    "FLD_ZONE\n",
    ">Flood Zone Lookup Identification. This is a code that provides a link to a valid entry from the D_Zone table. This is the flood zone label/abbreviation for the area.\n",
    "\n",
    "STATIC_BFE\n",
    ">Static Base Flood Elevation. For areas of constant Base Flood Elevation (BFE), the BFE value is shown beneath the zone label rather than on a BFE line. In this situation the same BFE applies to the entire polygon. This is normally occurs in lakes or coastal zones. This field is only populated where a static BFE is shown on the FIRM.\n",
    "\n",
    "DEPTH\n",
    ">Depth Value for Zone AO Areas. This is shown beneath the zone label on the FIRM. This field is only populated if a depth is shown on the FIRM.\n",
    "\n",
    "SFHA_TF\n",
    ">Special Flood Hazard Area. If the area is within SFHA this field would be True. This field will be true for any area that is coded for any A or V zone flood areas. It should be false for any X or D zone flood areas. Enter “T” for true or “F” for false."
   ]
  },
  {
   "cell_type": "markdown",
   "metadata": {},
   "source": [
    "Brief definition of FEMA's flood zones:\n",
    "\n",
    ">Flood hazard areas identified on the Flood Insurance Rate Map are identified as a Special Flood Hazard Area (SFHA). SFHA are defined as the area that will be inundated by the flood event having a 1-percent chance of being equaled or exceeded in any given year. The 1-percent annual chance flood is also referred to as the base flood or 100-year flood. SFHAs are labeled as Zone A, Zone AO, Zone AH, Zones A1-A30, Zone AE, Zone A99, Zone AR, Zone AR/AE, Zone AR/AO, Zone AR/A1-A30, Zone AR/A, Zone V, Zone VE, and Zones V1-V30. Moderate flood hazard areas, labeled Zone B or Zone X (shaded) are also shown on the FIRM, and are the areas between the limits of the base flood and the 0.2-percent-annual-chance (or 500-year) flood. The areas of minimal flood hazard, which are the areas outside the SFHA and higher than the elevation of the 0.2-percent-annual-chance flood, are labeled Zone C or Zone X (unshaded).  \n",
    "\n",
    "Source: https://www.fema.gov/glossary/flood-zones"
   ]
  },
  {
   "cell_type": "code",
   "execution_count": 353,
   "metadata": {},
   "outputs": [
    {
     "name": "stdout",
     "output_type": "stream",
     "text": [
      "reviewing items in the FLD_ZONE column:\n"
     ]
    },
    {
     "data": {
      "text/plain": [
       "0.2 PCT ANNUAL CHANCE FLOOD HAZARD    1726\n",
       "AE                                    1269\n",
       "X                                      529\n",
       "VE                                     420\n",
       "A                                       21\n",
       "AO                                      12\n",
       "OPEN WATER                               8\n",
       "Name: FLD_ZONE, dtype: int64"
      ]
     },
     "execution_count": 353,
     "metadata": {},
     "output_type": "execute_result"
    }
   ],
   "source": [
    "print('reviewing items in the FLD_ZONE column:')\n",
    "\n",
    "pfirm_df['FLD_ZONE'].value_counts()"
   ]
  },
  {
   "cell_type": "code",
   "execution_count": 354,
   "metadata": {},
   "outputs": [
    {
     "name": "stdout",
     "output_type": "stream",
     "text": [
      "the unique values in our flood zone column are:\n",
      "\n",
      "['AE' 'X' '0.2 PCT ANNUAL CHANCE FLOOD HAZARD' 'VE' 'OPEN WATER' 'AO' 'A']\n"
     ]
    }
   ],
   "source": [
    "zone_vals = pfirm_df['FLD_ZONE'].unique()\n",
    "\n",
    "print('the unique values in our flood zone column are:\\n\\n{}'.format(zone_vals))"
   ]
  },
  {
   "cell_type": "markdown",
   "metadata": {},
   "source": [
    "From a quick glance, we can probably drop the `OPEN WATER` value, as this is probably only the outline of a water boundary. Additionally, zone 'X' doesn't tell us any useul information about flood zones."
   ]
  },
  {
   "cell_type": "code",
   "execution_count": 355,
   "metadata": {},
   "outputs": [
    {
     "data": {
      "image/png": "[encoded data removed]",
      "text/plain": [
       "<Figure size 720x720 with 2 Axes>"
      ]
     },
     "metadata": {
      "needs_background": "light"
     },
     "output_type": "display_data"
    }
   ],
   "source": [
    "zone_checks = ['OPEN WATER', 'X']\n",
    "\n",
    "fig, axs = plt.subplots(1, 2, figsize=(10,10))\n",
    "\n",
    "for zone, ax in zip(zone_checks, axs):\n",
    "    pfirm_df[pfirm_df['FLD_ZONE'].isin([zone])].plot(ax=ax)\n",
    "    ax.set_title('FLD_ZONE = {}.'.format(zone))\n",
    "plt.tight_layout()"
   ]
  },
  {
   "cell_type": "markdown",
   "metadata": {},
   "source": [
    "Let's look at some summary statistics."
   ]
  },
  {
   "cell_type": "code",
   "execution_count": 356,
   "metadata": {},
   "outputs": [
    {
     "name": "stdout",
     "output_type": "stream",
     "text": [
      "reviewing summary statistics for base flood elevations by flood zone:\n"
     ]
    },
    {
     "data": {
      "text/html": [
       "<div>\n",
       "<style scoped>\n",
       "    .dataframe tbody tr th:only-of-type {\n",
       "        vertical-align: middle;\n",
       "    }\n",
       "\n",
       "    .dataframe tbody tr th {\n",
       "        vertical-align: top;\n",
       "    }\n",
       "\n",
       "    .dataframe thead th {\n",
       "        text-align: right;\n",
       "    }\n",
       "</style>\n",
       "<table border=\"1\" class=\"dataframe\">\n",
       "  <thead>\n",
       "    <tr style=\"text-align: right;\">\n",
       "      <th></th>\n",
       "      <th>count</th>\n",
       "      <th>mean</th>\n",
       "      <th>std</th>\n",
       "      <th>min</th>\n",
       "      <th>25%</th>\n",
       "      <th>50%</th>\n",
       "      <th>75%</th>\n",
       "      <th>max</th>\n",
       "    </tr>\n",
       "    <tr>\n",
       "      <th>FLD_ZONE</th>\n",
       "      <th></th>\n",
       "      <th></th>\n",
       "      <th></th>\n",
       "      <th></th>\n",
       "      <th></th>\n",
       "      <th></th>\n",
       "      <th></th>\n",
       "      <th></th>\n",
       "    </tr>\n",
       "  </thead>\n",
       "  <tbody>\n",
       "    <tr>\n",
       "      <th>0.2 PCT ANNUAL CHANCE FLOOD HAZARD</th>\n",
       "      <td>1726.0</td>\n",
       "      <td>-9999.000000</td>\n",
       "      <td>0.000000</td>\n",
       "      <td>-9999.0</td>\n",
       "      <td>-9999.0</td>\n",
       "      <td>-9999.0</td>\n",
       "      <td>-9999.0</td>\n",
       "      <td>-9999.0</td>\n",
       "    </tr>\n",
       "    <tr>\n",
       "      <th>A</th>\n",
       "      <td>21.0</td>\n",
       "      <td>-9999.000000</td>\n",
       "      <td>0.000000</td>\n",
       "      <td>-9999.0</td>\n",
       "      <td>-9999.0</td>\n",
       "      <td>-9999.0</td>\n",
       "      <td>-9999.0</td>\n",
       "      <td>-9999.0</td>\n",
       "    </tr>\n",
       "    <tr>\n",
       "      <th>AE</th>\n",
       "      <td>1269.0</td>\n",
       "      <td>-4216.189125</td>\n",
       "      <td>4946.985064</td>\n",
       "      <td>-9999.0</td>\n",
       "      <td>-9999.0</td>\n",
       "      <td>10.0</td>\n",
       "      <td>13.0</td>\n",
       "      <td>23.0</td>\n",
       "    </tr>\n",
       "    <tr>\n",
       "      <th>AO</th>\n",
       "      <td>12.0</td>\n",
       "      <td>-9999.000000</td>\n",
       "      <td>0.000000</td>\n",
       "      <td>-9999.0</td>\n",
       "      <td>-9999.0</td>\n",
       "      <td>-9999.0</td>\n",
       "      <td>-9999.0</td>\n",
       "      <td>-9999.0</td>\n",
       "    </tr>\n",
       "    <tr>\n",
       "      <th>OPEN WATER</th>\n",
       "      <td>8.0</td>\n",
       "      <td>-9999.000000</td>\n",
       "      <td>0.000000</td>\n",
       "      <td>-9999.0</td>\n",
       "      <td>-9999.0</td>\n",
       "      <td>-9999.0</td>\n",
       "      <td>-9999.0</td>\n",
       "      <td>-9999.0</td>\n",
       "    </tr>\n",
       "    <tr>\n",
       "      <th>VE</th>\n",
       "      <td>420.0</td>\n",
       "      <td>16.133333</td>\n",
       "      <td>3.126045</td>\n",
       "      <td>11.0</td>\n",
       "      <td>14.0</td>\n",
       "      <td>16.0</td>\n",
       "      <td>17.0</td>\n",
       "      <td>34.0</td>\n",
       "    </tr>\n",
       "    <tr>\n",
       "      <th>X</th>\n",
       "      <td>529.0</td>\n",
       "      <td>-9999.000000</td>\n",
       "      <td>0.000000</td>\n",
       "      <td>-9999.0</td>\n",
       "      <td>-9999.0</td>\n",
       "      <td>-9999.0</td>\n",
       "      <td>-9999.0</td>\n",
       "      <td>-9999.0</td>\n",
       "    </tr>\n",
       "  </tbody>\n",
       "</table>\n",
       "</div>"
      ],
      "text/plain": [
       "                                     count         mean          std     min  \\\n",
       "FLD_ZONE                                                                       \n",
       "0.2 PCT ANNUAL CHANCE FLOOD HAZARD  1726.0 -9999.000000     0.000000 -9999.0   \n",
       "A                                     21.0 -9999.000000     0.000000 -9999.0   \n",
       "AE                                  1269.0 -4216.189125  4946.985064 -9999.0   \n",
       "AO                                    12.0 -9999.000000     0.000000 -9999.0   \n",
       "OPEN WATER                             8.0 -9999.000000     0.000000 -9999.0   \n",
       "VE                                   420.0    16.133333     3.126045    11.0   \n",
       "X                                    529.0 -9999.000000     0.000000 -9999.0   \n",
       "\n",
       "                                       25%     50%     75%     max  \n",
       "FLD_ZONE                                                            \n",
       "0.2 PCT ANNUAL CHANCE FLOOD HAZARD -9999.0 -9999.0 -9999.0 -9999.0  \n",
       "A                                  -9999.0 -9999.0 -9999.0 -9999.0  \n",
       "AE                                 -9999.0    10.0    13.0    23.0  \n",
       "AO                                 -9999.0 -9999.0 -9999.0 -9999.0  \n",
       "OPEN WATER                         -9999.0 -9999.0 -9999.0 -9999.0  \n",
       "VE                                    14.0    16.0    17.0    34.0  \n",
       "X                                  -9999.0 -9999.0 -9999.0 -9999.0  "
      ]
     },
     "execution_count": 356,
     "metadata": {},
     "output_type": "execute_result"
    }
   ],
   "source": [
    "print('reviewing summary statistics for base flood elevations by flood zone:')\n",
    "\n",
    "pfirm_df.groupby(by=['FLD_ZONE'])['STATIC_BFE'].describe()"
   ]
  },
  {
   "cell_type": "code",
   "execution_count": 357,
   "metadata": {},
   "outputs": [
    {
     "data": {
      "text/html": [
       "<div>\n",
       "<style scoped>\n",
       "    .dataframe tbody tr th:only-of-type {\n",
       "        vertical-align: middle;\n",
       "    }\n",
       "\n",
       "    .dataframe tbody tr th {\n",
       "        vertical-align: top;\n",
       "    }\n",
       "\n",
       "    .dataframe thead th {\n",
       "        text-align: right;\n",
       "    }\n",
       "</style>\n",
       "<table border=\"1\" class=\"dataframe\">\n",
       "  <thead>\n",
       "    <tr style=\"text-align: right;\">\n",
       "      <th></th>\n",
       "      <th>count</th>\n",
       "      <th>mean</th>\n",
       "      <th>std</th>\n",
       "      <th>min</th>\n",
       "      <th>25%</th>\n",
       "      <th>50%</th>\n",
       "      <th>75%</th>\n",
       "      <th>max</th>\n",
       "    </tr>\n",
       "    <tr>\n",
       "      <th>FLD_ZONE</th>\n",
       "      <th></th>\n",
       "      <th></th>\n",
       "      <th></th>\n",
       "      <th></th>\n",
       "      <th></th>\n",
       "      <th></th>\n",
       "      <th></th>\n",
       "      <th></th>\n",
       "    </tr>\n",
       "  </thead>\n",
       "  <tbody>\n",
       "    <tr>\n",
       "      <th>AE</th>\n",
       "      <td>1269.0</td>\n",
       "      <td>-4216.189125</td>\n",
       "      <td>4946.985064</td>\n",
       "      <td>-9999.0</td>\n",
       "      <td>-9999.0</td>\n",
       "      <td>10.0</td>\n",
       "      <td>13.0</td>\n",
       "      <td>23.0</td>\n",
       "    </tr>\n",
       "    <tr>\n",
       "      <th>VE</th>\n",
       "      <td>420.0</td>\n",
       "      <td>16.133333</td>\n",
       "      <td>3.126045</td>\n",
       "      <td>11.0</td>\n",
       "      <td>14.0</td>\n",
       "      <td>16.0</td>\n",
       "      <td>17.0</td>\n",
       "      <td>34.0</td>\n",
       "    </tr>\n",
       "  </tbody>\n",
       "</table>\n",
       "</div>"
      ],
      "text/plain": [
       "           count         mean          std     min     25%   50%   75%   max\n",
       "FLD_ZONE                                                                    \n",
       "AE        1269.0 -4216.189125  4946.985064 -9999.0 -9999.0  10.0  13.0  23.0\n",
       "VE         420.0    16.133333     3.126045    11.0    14.0  16.0  17.0  34.0"
      ]
     },
     "execution_count": 357,
     "metadata": {},
     "output_type": "execute_result"
    }
   ],
   "source": [
    "# zones with base flood elevations\n",
    "bfe_df = pfirm_df.groupby(by=['FLD_ZONE'])['STATIC_BFE'].describe()\n",
    "bfe_df.loc[bfe_df['max'] > 0]"
   ]
  },
  {
   "cell_type": "code",
   "execution_count": 358,
   "metadata": {},
   "outputs": [
    {
     "name": "stdout",
     "output_type": "stream",
     "text": [
      "zones ['AE', 'VE'] are the only zones that have static base flood elevations.\n"
     ]
    }
   ],
   "source": [
    "zones = bfe_df.loc[bfe_df['max'] > 0].index.to_list()\n",
    "\n",
    "print('zones {} are the only zones that have static base flood elevations.'.format(zones))"
   ]
  },
  {
   "cell_type": "markdown",
   "metadata": {},
   "source": [
    "The null placeholder of -9999 will be problematic in the future. We will want to replace these with nulls."
   ]
  },
  {
   "cell_type": "code",
   "execution_count": 359,
   "metadata": {},
   "outputs": [
    {
     "name": "stdout",
     "output_type": "stream",
     "text": [
      "reviewing summary statistics for depth elevations by flood zone:\n"
     ]
    },
    {
     "data": {
      "text/html": [
       "<div>\n",
       "<style scoped>\n",
       "    .dataframe tbody tr th:only-of-type {\n",
       "        vertical-align: middle;\n",
       "    }\n",
       "\n",
       "    .dataframe tbody tr th {\n",
       "        vertical-align: top;\n",
       "    }\n",
       "\n",
       "    .dataframe thead th {\n",
       "        text-align: right;\n",
       "    }\n",
       "</style>\n",
       "<table border=\"1\" class=\"dataframe\">\n",
       "  <thead>\n",
       "    <tr style=\"text-align: right;\">\n",
       "      <th></th>\n",
       "      <th>count</th>\n",
       "      <th>mean</th>\n",
       "      <th>std</th>\n",
       "      <th>min</th>\n",
       "      <th>25%</th>\n",
       "      <th>50%</th>\n",
       "      <th>75%</th>\n",
       "      <th>max</th>\n",
       "    </tr>\n",
       "    <tr>\n",
       "      <th>FLD_ZONE</th>\n",
       "      <th></th>\n",
       "      <th></th>\n",
       "      <th></th>\n",
       "      <th></th>\n",
       "      <th></th>\n",
       "      <th></th>\n",
       "      <th></th>\n",
       "      <th></th>\n",
       "    </tr>\n",
       "  </thead>\n",
       "  <tbody>\n",
       "    <tr>\n",
       "      <th>0.2 PCT ANNUAL CHANCE FLOOD HAZARD</th>\n",
       "      <td>1726.0</td>\n",
       "      <td>-9999.000000</td>\n",
       "      <td>0.000000</td>\n",
       "      <td>-9999.0</td>\n",
       "      <td>-9999.00</td>\n",
       "      <td>-9999.0</td>\n",
       "      <td>-9999.0</td>\n",
       "      <td>-9999.0</td>\n",
       "    </tr>\n",
       "    <tr>\n",
       "      <th>A</th>\n",
       "      <td>21.0</td>\n",
       "      <td>-9999.000000</td>\n",
       "      <td>0.000000</td>\n",
       "      <td>-9999.0</td>\n",
       "      <td>-9999.00</td>\n",
       "      <td>-9999.0</td>\n",
       "      <td>-9999.0</td>\n",
       "      <td>-9999.0</td>\n",
       "    </tr>\n",
       "    <tr>\n",
       "      <th>AE</th>\n",
       "      <td>1269.0</td>\n",
       "      <td>-9999.000000</td>\n",
       "      <td>0.000000</td>\n",
       "      <td>-9999.0</td>\n",
       "      <td>-9999.00</td>\n",
       "      <td>-9999.0</td>\n",
       "      <td>-9999.0</td>\n",
       "      <td>-9999.0</td>\n",
       "    </tr>\n",
       "    <tr>\n",
       "      <th>AO</th>\n",
       "      <td>12.0</td>\n",
       "      <td>2.333333</td>\n",
       "      <td>0.887625</td>\n",
       "      <td>1.0</td>\n",
       "      <td>1.75</td>\n",
       "      <td>3.0</td>\n",
       "      <td>3.0</td>\n",
       "      <td>3.0</td>\n",
       "    </tr>\n",
       "    <tr>\n",
       "      <th>OPEN WATER</th>\n",
       "      <td>8.0</td>\n",
       "      <td>-9999.000000</td>\n",
       "      <td>0.000000</td>\n",
       "      <td>-9999.0</td>\n",
       "      <td>-9999.00</td>\n",
       "      <td>-9999.0</td>\n",
       "      <td>-9999.0</td>\n",
       "      <td>-9999.0</td>\n",
       "    </tr>\n",
       "    <tr>\n",
       "      <th>VE</th>\n",
       "      <td>420.0</td>\n",
       "      <td>-9999.000000</td>\n",
       "      <td>0.000000</td>\n",
       "      <td>-9999.0</td>\n",
       "      <td>-9999.00</td>\n",
       "      <td>-9999.0</td>\n",
       "      <td>-9999.0</td>\n",
       "      <td>-9999.0</td>\n",
       "    </tr>\n",
       "    <tr>\n",
       "      <th>X</th>\n",
       "      <td>529.0</td>\n",
       "      <td>-9999.000000</td>\n",
       "      <td>0.000000</td>\n",
       "      <td>-9999.0</td>\n",
       "      <td>-9999.00</td>\n",
       "      <td>-9999.0</td>\n",
       "      <td>-9999.0</td>\n",
       "      <td>-9999.0</td>\n",
       "    </tr>\n",
       "  </tbody>\n",
       "</table>\n",
       "</div>"
      ],
      "text/plain": [
       "                                     count         mean       std     min  \\\n",
       "FLD_ZONE                                                                    \n",
       "0.2 PCT ANNUAL CHANCE FLOOD HAZARD  1726.0 -9999.000000  0.000000 -9999.0   \n",
       "A                                     21.0 -9999.000000  0.000000 -9999.0   \n",
       "AE                                  1269.0 -9999.000000  0.000000 -9999.0   \n",
       "AO                                    12.0     2.333333  0.887625     1.0   \n",
       "OPEN WATER                             8.0 -9999.000000  0.000000 -9999.0   \n",
       "VE                                   420.0 -9999.000000  0.000000 -9999.0   \n",
       "X                                    529.0 -9999.000000  0.000000 -9999.0   \n",
       "\n",
       "                                        25%     50%     75%     max  \n",
       "FLD_ZONE                                                             \n",
       "0.2 PCT ANNUAL CHANCE FLOOD HAZARD -9999.00 -9999.0 -9999.0 -9999.0  \n",
       "A                                  -9999.00 -9999.0 -9999.0 -9999.0  \n",
       "AE                                 -9999.00 -9999.0 -9999.0 -9999.0  \n",
       "AO                                     1.75     3.0     3.0     3.0  \n",
       "OPEN WATER                         -9999.00 -9999.0 -9999.0 -9999.0  \n",
       "VE                                 -9999.00 -9999.0 -9999.0 -9999.0  \n",
       "X                                  -9999.00 -9999.0 -9999.0 -9999.0  "
      ]
     },
     "execution_count": 359,
     "metadata": {},
     "output_type": "execute_result"
    }
   ],
   "source": [
    "print('reviewing summary statistics for depth elevations by flood zone:')\n",
    "\n",
    "pfirm_df.groupby(by=['FLD_ZONE'])['DEPTH'].describe()"
   ]
  },
  {
   "cell_type": "code",
   "execution_count": 360,
   "metadata": {},
   "outputs": [
    {
     "data": {
      "text/html": [
       "<div>\n",
       "<style scoped>\n",
       "    .dataframe tbody tr th:only-of-type {\n",
       "        vertical-align: middle;\n",
       "    }\n",
       "\n",
       "    .dataframe tbody tr th {\n",
       "        vertical-align: top;\n",
       "    }\n",
       "\n",
       "    .dataframe thead th {\n",
       "        text-align: right;\n",
       "    }\n",
       "</style>\n",
       "<table border=\"1\" class=\"dataframe\">\n",
       "  <thead>\n",
       "    <tr style=\"text-align: right;\">\n",
       "      <th></th>\n",
       "      <th>count</th>\n",
       "      <th>mean</th>\n",
       "      <th>std</th>\n",
       "      <th>min</th>\n",
       "      <th>25%</th>\n",
       "      <th>50%</th>\n",
       "      <th>75%</th>\n",
       "      <th>max</th>\n",
       "    </tr>\n",
       "    <tr>\n",
       "      <th>FLD_ZONE</th>\n",
       "      <th></th>\n",
       "      <th></th>\n",
       "      <th></th>\n",
       "      <th></th>\n",
       "      <th></th>\n",
       "      <th></th>\n",
       "      <th></th>\n",
       "      <th></th>\n",
       "    </tr>\n",
       "  </thead>\n",
       "  <tbody>\n",
       "    <tr>\n",
       "      <th>AO</th>\n",
       "      <td>12.0</td>\n",
       "      <td>2.333333</td>\n",
       "      <td>0.887625</td>\n",
       "      <td>1.0</td>\n",
       "      <td>1.75</td>\n",
       "      <td>3.0</td>\n",
       "      <td>3.0</td>\n",
       "      <td>3.0</td>\n",
       "    </tr>\n",
       "  </tbody>\n",
       "</table>\n",
       "</div>"
      ],
      "text/plain": [
       "          count      mean       std  min   25%  50%  75%  max\n",
       "FLD_ZONE                                                     \n",
       "AO         12.0  2.333333  0.887625  1.0  1.75  3.0  3.0  3.0"
      ]
     },
     "execution_count": 360,
     "metadata": {},
     "output_type": "execute_result"
    }
   ],
   "source": [
    "# zones with base flood elevations\n",
    "depths_df = pfirm_df.groupby(by=['FLD_ZONE'])['DEPTH'].describe()\n",
    "depths_df.loc[depths_df['max'] > 0]"
   ]
  },
  {
   "cell_type": "code",
   "execution_count": 361,
   "metadata": {},
   "outputs": [
    {
     "name": "stdout",
     "output_type": "stream",
     "text": [
      "zone ['AO'] is the only zone that has a depth elevation.\n"
     ]
    }
   ],
   "source": [
    "depths = depths_df.loc[depths_df['max'] > 0].index.to_list()\n",
    "\n",
    "print('zone {} is the only zone that has a depth elevation.'.format(depths))"
   ]
  },
  {
   "cell_type": "code",
   "execution_count": 362,
   "metadata": {},
   "outputs": [
    {
     "data": {
      "text/html": [
       "<div>\n",
       "<style scoped>\n",
       "    .dataframe tbody tr th:only-of-type {\n",
       "        vertical-align: middle;\n",
       "    }\n",
       "\n",
       "    .dataframe tbody tr th {\n",
       "        vertical-align: top;\n",
       "    }\n",
       "\n",
       "    .dataframe thead th {\n",
       "        text-align: right;\n",
       "    }\n",
       "</style>\n",
       "<table border=\"1\" class=\"dataframe\">\n",
       "  <thead>\n",
       "    <tr style=\"text-align: right;\">\n",
       "      <th></th>\n",
       "      <th></th>\n",
       "      <th>count</th>\n",
       "      <th>mean</th>\n",
       "      <th>std</th>\n",
       "      <th>min</th>\n",
       "      <th>25%</th>\n",
       "      <th>50%</th>\n",
       "      <th>75%</th>\n",
       "      <th>max</th>\n",
       "    </tr>\n",
       "    <tr>\n",
       "      <th>SFHA_TF</th>\n",
       "      <th>FLD_ZONE</th>\n",
       "      <th></th>\n",
       "      <th></th>\n",
       "      <th></th>\n",
       "      <th></th>\n",
       "      <th></th>\n",
       "      <th></th>\n",
       "      <th></th>\n",
       "      <th></th>\n",
       "    </tr>\n",
       "  </thead>\n",
       "  <tbody>\n",
       "    <tr>\n",
       "      <th rowspan=\"4\" valign=\"top\">T</th>\n",
       "      <th>A</th>\n",
       "      <td>21.0</td>\n",
       "      <td>-9999.000000</td>\n",
       "      <td>0.000000</td>\n",
       "      <td>-9999.0</td>\n",
       "      <td>-9999.0</td>\n",
       "      <td>-9999.0</td>\n",
       "      <td>-9999.0</td>\n",
       "      <td>-9999.0</td>\n",
       "    </tr>\n",
       "    <tr>\n",
       "      <th>AE</th>\n",
       "      <td>1269.0</td>\n",
       "      <td>-4216.189125</td>\n",
       "      <td>4946.985064</td>\n",
       "      <td>-9999.0</td>\n",
       "      <td>-9999.0</td>\n",
       "      <td>10.0</td>\n",
       "      <td>13.0</td>\n",
       "      <td>23.0</td>\n",
       "    </tr>\n",
       "    <tr>\n",
       "      <th>AO</th>\n",
       "      <td>12.0</td>\n",
       "      <td>-9999.000000</td>\n",
       "      <td>0.000000</td>\n",
       "      <td>-9999.0</td>\n",
       "      <td>-9999.0</td>\n",
       "      <td>-9999.0</td>\n",
       "      <td>-9999.0</td>\n",
       "      <td>-9999.0</td>\n",
       "    </tr>\n",
       "    <tr>\n",
       "      <th>VE</th>\n",
       "      <td>420.0</td>\n",
       "      <td>16.133333</td>\n",
       "      <td>3.126045</td>\n",
       "      <td>11.0</td>\n",
       "      <td>14.0</td>\n",
       "      <td>16.0</td>\n",
       "      <td>17.0</td>\n",
       "      <td>34.0</td>\n",
       "    </tr>\n",
       "    <tr>\n",
       "      <th rowspan=\"3\" valign=\"top\">F</th>\n",
       "      <th>0.2 PCT ANNUAL CHANCE FLOOD HAZARD</th>\n",
       "      <td>1726.0</td>\n",
       "      <td>-9999.000000</td>\n",
       "      <td>0.000000</td>\n",
       "      <td>-9999.0</td>\n",
       "      <td>-9999.0</td>\n",
       "      <td>-9999.0</td>\n",
       "      <td>-9999.0</td>\n",
       "      <td>-9999.0</td>\n",
       "    </tr>\n",
       "    <tr>\n",
       "      <th>OPEN WATER</th>\n",
       "      <td>8.0</td>\n",
       "      <td>-9999.000000</td>\n",
       "      <td>0.000000</td>\n",
       "      <td>-9999.0</td>\n",
       "      <td>-9999.0</td>\n",
       "      <td>-9999.0</td>\n",
       "      <td>-9999.0</td>\n",
       "      <td>-9999.0</td>\n",
       "    </tr>\n",
       "    <tr>\n",
       "      <th>X</th>\n",
       "      <td>529.0</td>\n",
       "      <td>-9999.000000</td>\n",
       "      <td>0.000000</td>\n",
       "      <td>-9999.0</td>\n",
       "      <td>-9999.0</td>\n",
       "      <td>-9999.0</td>\n",
       "      <td>-9999.0</td>\n",
       "      <td>-9999.0</td>\n",
       "    </tr>\n",
       "  </tbody>\n",
       "</table>\n",
       "</div>"
      ],
      "text/plain": [
       "                                             count         mean          std  \\\n",
       "SFHA_TF FLD_ZONE                                                               \n",
       "T       A                                     21.0 -9999.000000     0.000000   \n",
       "        AE                                  1269.0 -4216.189125  4946.985064   \n",
       "        AO                                    12.0 -9999.000000     0.000000   \n",
       "        VE                                   420.0    16.133333     3.126045   \n",
       "F       0.2 PCT ANNUAL CHANCE FLOOD HAZARD  1726.0 -9999.000000     0.000000   \n",
       "        OPEN WATER                             8.0 -9999.000000     0.000000   \n",
       "        X                                    529.0 -9999.000000     0.000000   \n",
       "\n",
       "                                               min     25%     50%     75%  \\\n",
       "SFHA_TF FLD_ZONE                                                             \n",
       "T       A                                  -9999.0 -9999.0 -9999.0 -9999.0   \n",
       "        AE                                 -9999.0 -9999.0    10.0    13.0   \n",
       "        AO                                 -9999.0 -9999.0 -9999.0 -9999.0   \n",
       "        VE                                    11.0    14.0    16.0    17.0   \n",
       "F       0.2 PCT ANNUAL CHANCE FLOOD HAZARD -9999.0 -9999.0 -9999.0 -9999.0   \n",
       "        OPEN WATER                         -9999.0 -9999.0 -9999.0 -9999.0   \n",
       "        X                                  -9999.0 -9999.0 -9999.0 -9999.0   \n",
       "\n",
       "                                               max  \n",
       "SFHA_TF FLD_ZONE                                    \n",
       "T       A                                  -9999.0  \n",
       "        AE                                    23.0  \n",
       "        AO                                 -9999.0  \n",
       "        VE                                    34.0  \n",
       "F       0.2 PCT ANNUAL CHANCE FLOOD HAZARD -9999.0  \n",
       "        OPEN WATER                         -9999.0  \n",
       "        X                                  -9999.0  "
      ]
     },
     "execution_count": 362,
     "metadata": {},
     "output_type": "execute_result"
    }
   ],
   "source": [
    "sfha_df = pfirm_df.groupby(by=['SFHA_TF', 'FLD_ZONE'])['STATIC_BFE'].describe()\n",
    "\n",
    "sfha_df.sort_values(by='SFHA_TF', ascending=False)"
   ]
  },
  {
   "cell_type": "markdown",
   "metadata": {},
   "source": [
    "Although zones A & AO don't have base flood elevations, they are inside the special flood hazard area (SFHA). Thus, we can not drop them. \n",
    "\n",
    "\n",
    "`T` stands for **True** and `F` stands for **False**."
   ]
  },
  {
   "cell_type": "markdown",
   "metadata": {},
   "source": [
    "## 3.1 Replacing -9999 values with null"
   ]
  },
  {
   "cell_type": "markdown",
   "metadata": {},
   "source": [
    "It seems to be that this dataset represents null values for certain numeric columns as -9999 (refer to screenshot below). Let's see what the values are if we exclude these values."
   ]
  },
  {
   "cell_type": "markdown",
   "metadata": {},
   "source": [
    "![null_information](imgs/null-information.png)\n",
    "\n",
    "*Figure 5. Screenshot of null description found in data dictionary*"
   ]
  },
  {
   "cell_type": "code",
   "execution_count": 363,
   "metadata": {},
   "outputs": [
    {
     "data": {
      "text/html": [
       "<div>\n",
       "<style scoped>\n",
       "    .dataframe tbody tr th:only-of-type {\n",
       "        vertical-align: middle;\n",
       "    }\n",
       "\n",
       "    .dataframe tbody tr th {\n",
       "        vertical-align: top;\n",
       "    }\n",
       "\n",
       "    .dataframe thead th {\n",
       "        text-align: right;\n",
       "    }\n",
       "</style>\n",
       "<table border=\"1\" class=\"dataframe\">\n",
       "  <thead>\n",
       "    <tr style=\"text-align: right;\">\n",
       "      <th></th>\n",
       "      <th>STATIC_BFE</th>\n",
       "    </tr>\n",
       "  </thead>\n",
       "  <tbody>\n",
       "    <tr>\n",
       "      <th>count</th>\n",
       "      <td>1153.000000</td>\n",
       "    </tr>\n",
       "    <tr>\n",
       "      <th>mean</th>\n",
       "      <td>13.786644</td>\n",
       "    </tr>\n",
       "    <tr>\n",
       "      <th>std</th>\n",
       "      <td>2.996455</td>\n",
       "    </tr>\n",
       "    <tr>\n",
       "      <th>min</th>\n",
       "      <td>8.000000</td>\n",
       "    </tr>\n",
       "    <tr>\n",
       "      <th>25%</th>\n",
       "      <td>12.000000</td>\n",
       "    </tr>\n",
       "    <tr>\n",
       "      <th>50%</th>\n",
       "      <td>13.000000</td>\n",
       "    </tr>\n",
       "    <tr>\n",
       "      <th>75%</th>\n",
       "      <td>15.000000</td>\n",
       "    </tr>\n",
       "    <tr>\n",
       "      <th>max</th>\n",
       "      <td>34.000000</td>\n",
       "    </tr>\n",
       "  </tbody>\n",
       "</table>\n",
       "</div>"
      ],
      "text/plain": [
       "        STATIC_BFE\n",
       "count  1153.000000\n",
       "mean     13.786644\n",
       "std       2.996455\n",
       "min       8.000000\n",
       "25%      12.000000\n",
       "50%      13.000000\n",
       "75%      15.000000\n",
       "max      34.000000"
      ]
     },
     "execution_count": 363,
     "metadata": {},
     "output_type": "execute_result"
    }
   ],
   "source": [
    "pfirm_df.loc[pfirm_df['STATIC_BFE'] > -9999][['STATIC_BFE']].describe()"
   ]
  },
  {
   "cell_type": "markdown",
   "metadata": {},
   "source": [
    "Those values look much better and are probably the real statistics of our static base flood elevation column. For this analysis, we can safely replace the -9999.0 values with nulls. Let's first track our replacement process."
   ]
  },
  {
   "cell_type": "code",
   "execution_count": 364,
   "metadata": {},
   "outputs": [
    {
     "name": "stdout",
     "output_type": "stream",
     "text": [
      "there are 2,832 values with null placeholders of -9999 for STATIC_BFE that need to be replaced with nulls.\n"
     ]
    }
   ],
   "source": [
    "null_length = len(pfirm_df.loc[pfirm_df['STATIC_BFE'] <= -9999])\n",
    "\n",
    "print('there are {:,} values with null placeholders of -9999 for STATIC_BFE that \\\n",
    "need to be replaced with nulls.'.format(null_length))"
   ]
  },
  {
   "cell_type": "code",
   "execution_count": 365,
   "metadata": {},
   "outputs": [
    {
     "name": "stdout",
     "output_type": "stream",
     "text": [
      "null statistics:\n",
      "total nulls in dataframe: 9,590.\n"
     ]
    },
    {
     "data": {
      "text/html": [
       "<div>\n",
       "<style scoped>\n",
       "    .dataframe tbody tr th:only-of-type {\n",
       "        vertical-align: middle;\n",
       "    }\n",
       "\n",
       "    .dataframe tbody tr th {\n",
       "        vertical-align: top;\n",
       "    }\n",
       "\n",
       "    .dataframe thead th {\n",
       "        text-align: right;\n",
       "    }\n",
       "</style>\n",
       "<table border=\"1\" class=\"dataframe\">\n",
       "  <thead>\n",
       "    <tr style=\"text-align: right;\">\n",
       "      <th></th>\n",
       "      <th>count_null</th>\n",
       "      <th>normalized</th>\n",
       "    </tr>\n",
       "  </thead>\n",
       "  <tbody>\n",
       "    <tr>\n",
       "      <th>FLOODWAY</th>\n",
       "      <td>3938</td>\n",
       "      <td>0.988</td>\n",
       "    </tr>\n",
       "    <tr>\n",
       "      <th>V_DATUM</th>\n",
       "      <td>2832</td>\n",
       "      <td>0.711</td>\n",
       "    </tr>\n",
       "    <tr>\n",
       "      <th>LEN_UNIT</th>\n",
       "      <td>2820</td>\n",
       "      <td>0.708</td>\n",
       "    </tr>\n",
       "    <tr>\n",
       "      <th>FLD_AR_ID</th>\n",
       "      <td>0</td>\n",
       "      <td>0.000</td>\n",
       "    </tr>\n",
       "    <tr>\n",
       "      <th>FLD_ZONE</th>\n",
       "      <td>0</td>\n",
       "      <td>0.000</td>\n",
       "    </tr>\n",
       "    <tr>\n",
       "      <th>SFHA_TF</th>\n",
       "      <td>0</td>\n",
       "      <td>0.000</td>\n",
       "    </tr>\n",
       "    <tr>\n",
       "      <th>STATIC_BFE</th>\n",
       "      <td>0</td>\n",
       "      <td>0.000</td>\n",
       "    </tr>\n",
       "    <tr>\n",
       "      <th>DEPTH</th>\n",
       "      <td>0</td>\n",
       "      <td>0.000</td>\n",
       "    </tr>\n",
       "    <tr>\n",
       "      <th>geometry</th>\n",
       "      <td>0</td>\n",
       "      <td>0.000</td>\n",
       "    </tr>\n",
       "  </tbody>\n",
       "</table>\n",
       "</div>"
      ],
      "text/plain": [
       "            count_null  normalized\n",
       "FLOODWAY          3938       0.988\n",
       "V_DATUM           2832       0.711\n",
       "LEN_UNIT          2820       0.708\n",
       "FLD_AR_ID            0       0.000\n",
       "FLD_ZONE             0       0.000\n",
       "SFHA_TF              0       0.000\n",
       "STATIC_BFE           0       0.000\n",
       "DEPTH                0       0.000\n",
       "geometry             0       0.000"
      ]
     },
     "execution_count": 365,
     "metadata": {},
     "output_type": "execute_result"
    }
   ],
   "source": [
    "s1 = pfirm_df.isnull().sum().sort_values(ascending=False)\n",
    "s2 = round(pfirm_df.isnull().sum().sort_values(ascending=False) / len(pfirm_df), 3)\n",
    "\n",
    "print('null statistics:')\n",
    "print('total nulls in dataframe: {:,}.'.format(s1.sum()))\n",
    "\n",
    "before_replace_df = pd.concat([s1.rename('count_null'), s2.rename('normalized')], axis=1)\n",
    "before_replace_df.head(len(before_replace_df))"
   ]
  },
  {
   "cell_type": "code",
   "execution_count": 366,
   "metadata": {},
   "outputs": [
    {
     "name": "stdout",
     "output_type": "stream",
     "text": [
      "replacing incorrectly inserted values (e.g. -9999) with nans.\n"
     ]
    },
    {
     "data": {
      "text/html": [
       "<div>\n",
       "<style scoped>\n",
       "    .dataframe tbody tr th:only-of-type {\n",
       "        vertical-align: middle;\n",
       "    }\n",
       "\n",
       "    .dataframe tbody tr th {\n",
       "        vertical-align: top;\n",
       "    }\n",
       "\n",
       "    .dataframe thead th {\n",
       "        text-align: right;\n",
       "    }\n",
       "</style>\n",
       "<table border=\"1\" class=\"dataframe\">\n",
       "  <thead>\n",
       "    <tr style=\"text-align: right;\">\n",
       "      <th></th>\n",
       "      <th>STATIC_BFE</th>\n",
       "      <th>DEPTH</th>\n",
       "    </tr>\n",
       "  </thead>\n",
       "  <tbody>\n",
       "    <tr>\n",
       "      <th>count</th>\n",
       "      <td>1153.000000</td>\n",
       "      <td>12.000000</td>\n",
       "    </tr>\n",
       "    <tr>\n",
       "      <th>mean</th>\n",
       "      <td>13.786644</td>\n",
       "      <td>2.333333</td>\n",
       "    </tr>\n",
       "    <tr>\n",
       "      <th>std</th>\n",
       "      <td>2.996455</td>\n",
       "      <td>0.887625</td>\n",
       "    </tr>\n",
       "    <tr>\n",
       "      <th>min</th>\n",
       "      <td>8.000000</td>\n",
       "      <td>1.000000</td>\n",
       "    </tr>\n",
       "    <tr>\n",
       "      <th>25%</th>\n",
       "      <td>12.000000</td>\n",
       "      <td>1.750000</td>\n",
       "    </tr>\n",
       "    <tr>\n",
       "      <th>50%</th>\n",
       "      <td>13.000000</td>\n",
       "      <td>3.000000</td>\n",
       "    </tr>\n",
       "    <tr>\n",
       "      <th>75%</th>\n",
       "      <td>15.000000</td>\n",
       "      <td>3.000000</td>\n",
       "    </tr>\n",
       "    <tr>\n",
       "      <th>max</th>\n",
       "      <td>34.000000</td>\n",
       "      <td>3.000000</td>\n",
       "    </tr>\n",
       "  </tbody>\n",
       "</table>\n",
       "</div>"
      ],
      "text/plain": [
       "        STATIC_BFE      DEPTH\n",
       "count  1153.000000  12.000000\n",
       "mean     13.786644   2.333333\n",
       "std       2.996455   0.887625\n",
       "min       8.000000   1.000000\n",
       "25%      12.000000   1.750000\n",
       "50%      13.000000   3.000000\n",
       "75%      15.000000   3.000000\n",
       "max      34.000000   3.000000"
      ]
     },
     "execution_count": 366,
     "metadata": {},
     "output_type": "execute_result"
    }
   ],
   "source": [
    "print('replacing incorrectly inserted values (e.g. -9999) with nans.')\n",
    "\n",
    "for col in ['STATIC_BFE', 'DEPTH']:\n",
    "    # if our column value is less than -1, replace with nan, else keep column value\n",
    "    pfirm_df[col] = np.where(pfirm_df[col] < -1, np.nan, pfirm_df[col])\n",
    "    \n",
    "pfirm_df.describe()    "
   ]
  },
  {
   "cell_type": "code",
   "execution_count": 367,
   "metadata": {},
   "outputs": [
    {
     "name": "stdout",
     "output_type": "stream",
     "text": [
      "null statistics:\n",
      "total nulls in dataframe: 16,395.\n"
     ]
    },
    {
     "data": {
      "text/html": [
       "<div>\n",
       "<style scoped>\n",
       "    .dataframe tbody tr th:only-of-type {\n",
       "        vertical-align: middle;\n",
       "    }\n",
       "\n",
       "    .dataframe tbody tr th {\n",
       "        vertical-align: top;\n",
       "    }\n",
       "\n",
       "    .dataframe thead th {\n",
       "        text-align: right;\n",
       "    }\n",
       "</style>\n",
       "<table border=\"1\" class=\"dataframe\">\n",
       "  <thead>\n",
       "    <tr style=\"text-align: right;\">\n",
       "      <th></th>\n",
       "      <th>count_null</th>\n",
       "      <th>normalized</th>\n",
       "    </tr>\n",
       "  </thead>\n",
       "  <tbody>\n",
       "    <tr>\n",
       "      <th>DEPTH</th>\n",
       "      <td>3973</td>\n",
       "      <td>0.997</td>\n",
       "    </tr>\n",
       "    <tr>\n",
       "      <th>FLOODWAY</th>\n",
       "      <td>3938</td>\n",
       "      <td>0.988</td>\n",
       "    </tr>\n",
       "    <tr>\n",
       "      <th>STATIC_BFE</th>\n",
       "      <td>2832</td>\n",
       "      <td>0.711</td>\n",
       "    </tr>\n",
       "    <tr>\n",
       "      <th>V_DATUM</th>\n",
       "      <td>2832</td>\n",
       "      <td>0.711</td>\n",
       "    </tr>\n",
       "    <tr>\n",
       "      <th>LEN_UNIT</th>\n",
       "      <td>2820</td>\n",
       "      <td>0.708</td>\n",
       "    </tr>\n",
       "    <tr>\n",
       "      <th>FLD_AR_ID</th>\n",
       "      <td>0</td>\n",
       "      <td>0.000</td>\n",
       "    </tr>\n",
       "    <tr>\n",
       "      <th>FLD_ZONE</th>\n",
       "      <td>0</td>\n",
       "      <td>0.000</td>\n",
       "    </tr>\n",
       "    <tr>\n",
       "      <th>SFHA_TF</th>\n",
       "      <td>0</td>\n",
       "      <td>0.000</td>\n",
       "    </tr>\n",
       "    <tr>\n",
       "      <th>geometry</th>\n",
       "      <td>0</td>\n",
       "      <td>0.000</td>\n",
       "    </tr>\n",
       "  </tbody>\n",
       "</table>\n",
       "</div>"
      ],
      "text/plain": [
       "            count_null  normalized\n",
       "DEPTH             3973       0.997\n",
       "FLOODWAY          3938       0.988\n",
       "STATIC_BFE        2832       0.711\n",
       "V_DATUM           2832       0.711\n",
       "LEN_UNIT          2820       0.708\n",
       "FLD_AR_ID            0       0.000\n",
       "FLD_ZONE             0       0.000\n",
       "SFHA_TF              0       0.000\n",
       "geometry             0       0.000"
      ]
     },
     "execution_count": 367,
     "metadata": {},
     "output_type": "execute_result"
    }
   ],
   "source": [
    "s1 = pfirm_df.isnull().sum().sort_values(ascending=False)\n",
    "s2 = round(pfirm_df.isnull().sum().sort_values(ascending=False) / len(pfirm_df), 3)\n",
    "\n",
    "print('null statistics:')\n",
    "print('total nulls in dataframe: {:,}.'.format(s1.sum()))\n",
    "\n",
    "after_replace_df = pd.concat([s1.rename('count_null'), s2.rename('normalized')], axis=1)\n",
    "after_replace_df.head(len(after_replace_df))"
   ]
  },
  {
   "cell_type": "code",
   "execution_count": 368,
   "metadata": {},
   "outputs": [
    {
     "data": {
      "text/html": [
       "<div>\n",
       "<style scoped>\n",
       "    .dataframe tbody tr th:only-of-type {\n",
       "        vertical-align: middle;\n",
       "    }\n",
       "\n",
       "    .dataframe tbody tr th {\n",
       "        vertical-align: top;\n",
       "    }\n",
       "\n",
       "    .dataframe thead th {\n",
       "        text-align: right;\n",
       "    }\n",
       "</style>\n",
       "<table border=\"1\" class=\"dataframe\">\n",
       "  <thead>\n",
       "    <tr style=\"text-align: right;\">\n",
       "      <th></th>\n",
       "      <th>count_null</th>\n",
       "      <th>normalized</th>\n",
       "      <th>count_after</th>\n",
       "      <th>normalized_after</th>\n",
       "    </tr>\n",
       "  </thead>\n",
       "  <tbody>\n",
       "    <tr>\n",
       "      <th>FLOODWAY</th>\n",
       "      <td>3938</td>\n",
       "      <td>0.988</td>\n",
       "      <td>3938</td>\n",
       "      <td>0.988</td>\n",
       "    </tr>\n",
       "    <tr>\n",
       "      <th>V_DATUM</th>\n",
       "      <td>2832</td>\n",
       "      <td>0.711</td>\n",
       "      <td>2832</td>\n",
       "      <td>0.711</td>\n",
       "    </tr>\n",
       "    <tr>\n",
       "      <th>LEN_UNIT</th>\n",
       "      <td>2820</td>\n",
       "      <td>0.708</td>\n",
       "      <td>2820</td>\n",
       "      <td>0.708</td>\n",
       "    </tr>\n",
       "    <tr>\n",
       "      <th>FLD_AR_ID</th>\n",
       "      <td>0</td>\n",
       "      <td>0.000</td>\n",
       "      <td>0</td>\n",
       "      <td>0.000</td>\n",
       "    </tr>\n",
       "    <tr>\n",
       "      <th>FLD_ZONE</th>\n",
       "      <td>0</td>\n",
       "      <td>0.000</td>\n",
       "      <td>0</td>\n",
       "      <td>0.000</td>\n",
       "    </tr>\n",
       "    <tr>\n",
       "      <th>SFHA_TF</th>\n",
       "      <td>0</td>\n",
       "      <td>0.000</td>\n",
       "      <td>0</td>\n",
       "      <td>0.000</td>\n",
       "    </tr>\n",
       "    <tr>\n",
       "      <th>STATIC_BFE</th>\n",
       "      <td>0</td>\n",
       "      <td>0.000</td>\n",
       "      <td>2832</td>\n",
       "      <td>0.711</td>\n",
       "    </tr>\n",
       "    <tr>\n",
       "      <th>DEPTH</th>\n",
       "      <td>0</td>\n",
       "      <td>0.000</td>\n",
       "      <td>3973</td>\n",
       "      <td>0.997</td>\n",
       "    </tr>\n",
       "    <tr>\n",
       "      <th>geometry</th>\n",
       "      <td>0</td>\n",
       "      <td>0.000</td>\n",
       "      <td>0</td>\n",
       "      <td>0.000</td>\n",
       "    </tr>\n",
       "  </tbody>\n",
       "</table>\n",
       "</div>"
      ],
      "text/plain": [
       "            count_null  normalized  count_after  normalized_after\n",
       "FLOODWAY          3938       0.988         3938             0.988\n",
       "V_DATUM           2832       0.711         2832             0.711\n",
       "LEN_UNIT          2820       0.708         2820             0.708\n",
       "FLD_AR_ID            0       0.000            0             0.000\n",
       "FLD_ZONE             0       0.000            0             0.000\n",
       "SFHA_TF              0       0.000            0             0.000\n",
       "STATIC_BFE           0       0.000         2832             0.711\n",
       "DEPTH                0       0.000         3973             0.997\n",
       "geometry             0       0.000            0             0.000"
      ]
     },
     "execution_count": 368,
     "metadata": {},
     "output_type": "execute_result"
    }
   ],
   "source": [
    "pd.concat([before_replace_df, \n",
    "           after_replace_df.rename(columns={'count_null':'count_after', \n",
    "                                            'normalized':'normalized_after'})], axis=1)"
   ]
  },
  {
   "cell_type": "markdown",
   "metadata": {},
   "source": [
    "You can see that both columns static_bfe and depth have a significant amount of null values after replacing -9999 with null."
   ]
  },
  {
   "cell_type": "markdown",
   "metadata": {},
   "source": [
    "## 3.2 Reviewing summary statistics by flood zone after filling  in nulls"
   ]
  },
  {
   "cell_type": "code",
   "execution_count": 369,
   "metadata": {},
   "outputs": [
    {
     "name": "stdout",
     "output_type": "stream",
     "text": [
      "reviewing summary statistics for static base flood elevations by flood zone:\n"
     ]
    },
    {
     "data": {
      "text/html": [
       "<div>\n",
       "<style scoped>\n",
       "    .dataframe tbody tr th:only-of-type {\n",
       "        vertical-align: middle;\n",
       "    }\n",
       "\n",
       "    .dataframe tbody tr th {\n",
       "        vertical-align: top;\n",
       "    }\n",
       "\n",
       "    .dataframe thead th {\n",
       "        text-align: right;\n",
       "    }\n",
       "</style>\n",
       "<table border=\"1\" class=\"dataframe\">\n",
       "  <thead>\n",
       "    <tr style=\"text-align: right;\">\n",
       "      <th></th>\n",
       "      <th>count</th>\n",
       "      <th>mean</th>\n",
       "      <th>std</th>\n",
       "      <th>min</th>\n",
       "      <th>25%</th>\n",
       "      <th>50%</th>\n",
       "      <th>75%</th>\n",
       "      <th>max</th>\n",
       "    </tr>\n",
       "    <tr>\n",
       "      <th>FLD_ZONE</th>\n",
       "      <th></th>\n",
       "      <th></th>\n",
       "      <th></th>\n",
       "      <th></th>\n",
       "      <th></th>\n",
       "      <th></th>\n",
       "      <th></th>\n",
       "      <th></th>\n",
       "    </tr>\n",
       "  </thead>\n",
       "  <tbody>\n",
       "    <tr>\n",
       "      <th>0.2 PCT ANNUAL CHANCE FLOOD HAZARD</th>\n",
       "      <td>0.0</td>\n",
       "      <td>NaN</td>\n",
       "      <td>NaN</td>\n",
       "      <td>NaN</td>\n",
       "      <td>NaN</td>\n",
       "      <td>NaN</td>\n",
       "      <td>NaN</td>\n",
       "      <td>NaN</td>\n",
       "    </tr>\n",
       "    <tr>\n",
       "      <th>A</th>\n",
       "      <td>0.0</td>\n",
       "      <td>NaN</td>\n",
       "      <td>NaN</td>\n",
       "      <td>NaN</td>\n",
       "      <td>NaN</td>\n",
       "      <td>NaN</td>\n",
       "      <td>NaN</td>\n",
       "      <td>NaN</td>\n",
       "    </tr>\n",
       "    <tr>\n",
       "      <th>AE</th>\n",
       "      <td>733.0</td>\n",
       "      <td>12.442019</td>\n",
       "      <td>1.888557</td>\n",
       "      <td>8.0</td>\n",
       "      <td>11.0</td>\n",
       "      <td>12.0</td>\n",
       "      <td>14.0</td>\n",
       "      <td>23.0</td>\n",
       "    </tr>\n",
       "    <tr>\n",
       "      <th>AO</th>\n",
       "      <td>0.0</td>\n",
       "      <td>NaN</td>\n",
       "      <td>NaN</td>\n",
       "      <td>NaN</td>\n",
       "      <td>NaN</td>\n",
       "      <td>NaN</td>\n",
       "      <td>NaN</td>\n",
       "      <td>NaN</td>\n",
       "    </tr>\n",
       "    <tr>\n",
       "      <th>OPEN WATER</th>\n",
       "      <td>0.0</td>\n",
       "      <td>NaN</td>\n",
       "      <td>NaN</td>\n",
       "      <td>NaN</td>\n",
       "      <td>NaN</td>\n",
       "      <td>NaN</td>\n",
       "      <td>NaN</td>\n",
       "      <td>NaN</td>\n",
       "    </tr>\n",
       "    <tr>\n",
       "      <th>VE</th>\n",
       "      <td>420.0</td>\n",
       "      <td>16.133333</td>\n",
       "      <td>3.126045</td>\n",
       "      <td>11.0</td>\n",
       "      <td>14.0</td>\n",
       "      <td>16.0</td>\n",
       "      <td>17.0</td>\n",
       "      <td>34.0</td>\n",
       "    </tr>\n",
       "    <tr>\n",
       "      <th>X</th>\n",
       "      <td>0.0</td>\n",
       "      <td>NaN</td>\n",
       "      <td>NaN</td>\n",
       "      <td>NaN</td>\n",
       "      <td>NaN</td>\n",
       "      <td>NaN</td>\n",
       "      <td>NaN</td>\n",
       "      <td>NaN</td>\n",
       "    </tr>\n",
       "  </tbody>\n",
       "</table>\n",
       "</div>"
      ],
      "text/plain": [
       "                                    count       mean       std   min   25%  \\\n",
       "FLD_ZONE                                                                     \n",
       "0.2 PCT ANNUAL CHANCE FLOOD HAZARD    0.0        NaN       NaN   NaN   NaN   \n",
       "A                                     0.0        NaN       NaN   NaN   NaN   \n",
       "AE                                  733.0  12.442019  1.888557   8.0  11.0   \n",
       "AO                                    0.0        NaN       NaN   NaN   NaN   \n",
       "OPEN WATER                            0.0        NaN       NaN   NaN   NaN   \n",
       "VE                                  420.0  16.133333  3.126045  11.0  14.0   \n",
       "X                                     0.0        NaN       NaN   NaN   NaN   \n",
       "\n",
       "                                     50%   75%   max  \n",
       "FLD_ZONE                                              \n",
       "0.2 PCT ANNUAL CHANCE FLOOD HAZARD   NaN   NaN   NaN  \n",
       "A                                    NaN   NaN   NaN  \n",
       "AE                                  12.0  14.0  23.0  \n",
       "AO                                   NaN   NaN   NaN  \n",
       "OPEN WATER                           NaN   NaN   NaN  \n",
       "VE                                  16.0  17.0  34.0  \n",
       "X                                    NaN   NaN   NaN  "
      ]
     },
     "execution_count": 369,
     "metadata": {},
     "output_type": "execute_result"
    }
   ],
   "source": [
    "print('reviewing summary statistics for static base flood elevations by flood zone:')\n",
    "\n",
    "pfirm_df.groupby(by=['FLD_ZONE'])['STATIC_BFE'].describe()"
   ]
  },
  {
   "cell_type": "code",
   "execution_count": 370,
   "metadata": {},
   "outputs": [
    {
     "data": {
      "text/html": [
       "<div>\n",
       "<style scoped>\n",
       "    .dataframe tbody tr th:only-of-type {\n",
       "        vertical-align: middle;\n",
       "    }\n",
       "\n",
       "    .dataframe tbody tr th {\n",
       "        vertical-align: top;\n",
       "    }\n",
       "\n",
       "    .dataframe thead th {\n",
       "        text-align: right;\n",
       "    }\n",
       "</style>\n",
       "<table border=\"1\" class=\"dataframe\">\n",
       "  <thead>\n",
       "    <tr style=\"text-align: right;\">\n",
       "      <th></th>\n",
       "      <th></th>\n",
       "      <th>count</th>\n",
       "      <th>mean</th>\n",
       "      <th>std</th>\n",
       "      <th>min</th>\n",
       "      <th>25%</th>\n",
       "      <th>50%</th>\n",
       "      <th>75%</th>\n",
       "      <th>max</th>\n",
       "    </tr>\n",
       "    <tr>\n",
       "      <th>SFHA_TF</th>\n",
       "      <th>FLD_ZONE</th>\n",
       "      <th></th>\n",
       "      <th></th>\n",
       "      <th></th>\n",
       "      <th></th>\n",
       "      <th></th>\n",
       "      <th></th>\n",
       "      <th></th>\n",
       "      <th></th>\n",
       "    </tr>\n",
       "  </thead>\n",
       "  <tbody>\n",
       "    <tr>\n",
       "      <th rowspan=\"4\" valign=\"top\">T</th>\n",
       "      <th>A</th>\n",
       "      <td>0.0</td>\n",
       "      <td>NaN</td>\n",
       "      <td>NaN</td>\n",
       "      <td>NaN</td>\n",
       "      <td>NaN</td>\n",
       "      <td>NaN</td>\n",
       "      <td>NaN</td>\n",
       "      <td>NaN</td>\n",
       "    </tr>\n",
       "    <tr>\n",
       "      <th>AE</th>\n",
       "      <td>733.0</td>\n",
       "      <td>12.442019</td>\n",
       "      <td>1.888557</td>\n",
       "      <td>8.0</td>\n",
       "      <td>11.0</td>\n",
       "      <td>12.0</td>\n",
       "      <td>14.0</td>\n",
       "      <td>23.0</td>\n",
       "    </tr>\n",
       "    <tr>\n",
       "      <th>AO</th>\n",
       "      <td>0.0</td>\n",
       "      <td>NaN</td>\n",
       "      <td>NaN</td>\n",
       "      <td>NaN</td>\n",
       "      <td>NaN</td>\n",
       "      <td>NaN</td>\n",
       "      <td>NaN</td>\n",
       "      <td>NaN</td>\n",
       "    </tr>\n",
       "    <tr>\n",
       "      <th>VE</th>\n",
       "      <td>420.0</td>\n",
       "      <td>16.133333</td>\n",
       "      <td>3.126045</td>\n",
       "      <td>11.0</td>\n",
       "      <td>14.0</td>\n",
       "      <td>16.0</td>\n",
       "      <td>17.0</td>\n",
       "      <td>34.0</td>\n",
       "    </tr>\n",
       "    <tr>\n",
       "      <th rowspan=\"3\" valign=\"top\">F</th>\n",
       "      <th>0.2 PCT ANNUAL CHANCE FLOOD HAZARD</th>\n",
       "      <td>0.0</td>\n",
       "      <td>NaN</td>\n",
       "      <td>NaN</td>\n",
       "      <td>NaN</td>\n",
       "      <td>NaN</td>\n",
       "      <td>NaN</td>\n",
       "      <td>NaN</td>\n",
       "      <td>NaN</td>\n",
       "    </tr>\n",
       "    <tr>\n",
       "      <th>OPEN WATER</th>\n",
       "      <td>0.0</td>\n",
       "      <td>NaN</td>\n",
       "      <td>NaN</td>\n",
       "      <td>NaN</td>\n",
       "      <td>NaN</td>\n",
       "      <td>NaN</td>\n",
       "      <td>NaN</td>\n",
       "      <td>NaN</td>\n",
       "    </tr>\n",
       "    <tr>\n",
       "      <th>X</th>\n",
       "      <td>0.0</td>\n",
       "      <td>NaN</td>\n",
       "      <td>NaN</td>\n",
       "      <td>NaN</td>\n",
       "      <td>NaN</td>\n",
       "      <td>NaN</td>\n",
       "      <td>NaN</td>\n",
       "      <td>NaN</td>\n",
       "    </tr>\n",
       "  </tbody>\n",
       "</table>\n",
       "</div>"
      ],
      "text/plain": [
       "                                            count       mean       std   min  \\\n",
       "SFHA_TF FLD_ZONE                                                               \n",
       "T       A                                     0.0        NaN       NaN   NaN   \n",
       "        AE                                  733.0  12.442019  1.888557   8.0   \n",
       "        AO                                    0.0        NaN       NaN   NaN   \n",
       "        VE                                  420.0  16.133333  3.126045  11.0   \n",
       "F       0.2 PCT ANNUAL CHANCE FLOOD HAZARD    0.0        NaN       NaN   NaN   \n",
       "        OPEN WATER                            0.0        NaN       NaN   NaN   \n",
       "        X                                     0.0        NaN       NaN   NaN   \n",
       "\n",
       "                                             25%   50%   75%   max  \n",
       "SFHA_TF FLD_ZONE                                                    \n",
       "T       A                                    NaN   NaN   NaN   NaN  \n",
       "        AE                                  11.0  12.0  14.0  23.0  \n",
       "        AO                                   NaN   NaN   NaN   NaN  \n",
       "        VE                                  14.0  16.0  17.0  34.0  \n",
       "F       0.2 PCT ANNUAL CHANCE FLOOD HAZARD   NaN   NaN   NaN   NaN  \n",
       "        OPEN WATER                           NaN   NaN   NaN   NaN  \n",
       "        X                                    NaN   NaN   NaN   NaN  "
      ]
     },
     "execution_count": 370,
     "metadata": {},
     "output_type": "execute_result"
    }
   ],
   "source": [
    "sfha_df = pfirm_df.groupby(by=['SFHA_TF', 'FLD_ZONE'])['STATIC_BFE'].describe()\n",
    "\n",
    "sfha_df.sort_values(by='SFHA_TF', ascending=False)"
   ]
  },
  {
   "cell_type": "markdown",
   "metadata": {},
   "source": [
    "Performing summary statistics of static base flood elevations grouped by Special Flood Hazard Area (True/False) and Flood Zone. Zones AE and VE are the only ones with elevation values, and the remaining zones have null values."
   ]
  },
  {
   "cell_type": "code",
   "execution_count": 371,
   "metadata": {},
   "outputs": [
    {
     "name": "stdout",
     "output_type": "stream",
     "text": [
      "distribution of numeric columns. this is perhaps the true distribution of these columns:\n"
     ]
    },
    {
     "data": {
      "image/png": "[encoded data removed]",
      "text/plain": [
       "<Figure size 864x432 with 2 Axes>"
      ]
     },
     "metadata": {
      "needs_background": "light"
     },
     "output_type": "display_data"
    }
   ],
   "source": [
    "hist = pfirm_df.hist(figsize=(12,6), bins=25)\n",
    "\n",
    "for ax in hist.flatten():\n",
    "    ax.set_xlabel(\"feet\", fontsize=12)\n",
    "    ax.set_ylabel(\"Count\", fontsize=12)\n",
    "    \n",
    "plt.tight_layout()    "
   ]
  },
  {
   "cell_type": "code",
   "execution_count": 372,
   "metadata": {},
   "outputs": [
    {
     "name": "stdout",
     "output_type": "stream",
     "text": [
      "inspecting the distribution of numeric columns with box plots:\n"
     ]
    },
    {
     "data": {
      "image/png": "[encoded data removed]",
      "text/plain": [
       "<Figure size 720x864 with 2 Axes>"
      ]
     },
     "metadata": {
      "needs_background": "light"
     },
     "output_type": "display_data"
    }
   ],
   "source": [
    "fig, axs = plt.subplots(2, 1, figsize=(10,12))\n",
    "\n",
    "for ax, col in zip(axs.flat, ['STATIC_BFE', 'DEPTH']):\n",
    "    sns.boxplot(x=col, \n",
    "                y=\"FLD_ZONE\", \n",
    "                data=pfirm_df, \n",
    "                ax=ax)\n",
    "    ax.set_xlabel(col + ' (ft.)')\n",
    "    plt.suptitle('Distribution of static base flood elevations and depths by flood zone', \n",
    "                 y=.94, \n",
    "                 fontsize=20)"
   ]
  },
  {
   "cell_type": "markdown",
   "metadata": {},
   "source": [
    "Flood zones VE and AE are the only zones that have a static base flood elevation (BFE) value. Flood zone AO is the only zone with a depth elevation, although these depths are very small."
   ]
  },
  {
   "cell_type": "markdown",
   "metadata": {},
   "source": [
    "## 3.2 Dropping unnecessary flood zone values"
   ]
  },
  {
   "cell_type": "markdown",
   "metadata": {},
   "source": [
    "There are two flood zones in particular, X and OPEN WATER, that may be good candidates to drop. We don't want to drop any flood zones in the special flood hazard area (AE, VE, A, and AO), and we also don't want to drop the 0.2 % annual chance flood zone (although outside of the special flood hazard area, this information is still quite useful). Let's see if we can safely drop the previously mentioned values safely."
   ]
  },
  {
   "cell_type": "code",
   "execution_count": 373,
   "metadata": {},
   "outputs": [
    {
     "data": {
      "text/plain": [
       "0.2 PCT ANNUAL CHANCE FLOOD HAZARD    1726\n",
       "AE                                    1269\n",
       "X                                      529\n",
       "VE                                     420\n",
       "A                                       21\n",
       "AO                                      12\n",
       "OPEN WATER                               8\n",
       "Name: FLD_ZONE, dtype: int64"
      ]
     },
     "execution_count": 373,
     "metadata": {},
     "output_type": "execute_result"
    }
   ],
   "source": [
    "# number of records in each flood zone\n",
    "pfirm_df['FLD_ZONE'].value_counts()"
   ]
  },
  {
   "cell_type": "code",
   "execution_count": 374,
   "metadata": {},
   "outputs": [
    {
     "data": {
      "text/html": [
       "<div>\n",
       "<style scoped>\n",
       "    .dataframe tbody tr th:only-of-type {\n",
       "        vertical-align: middle;\n",
       "    }\n",
       "\n",
       "    .dataframe tbody tr th {\n",
       "        vertical-align: top;\n",
       "    }\n",
       "\n",
       "    .dataframe thead th {\n",
       "        text-align: right;\n",
       "    }\n",
       "</style>\n",
       "<table border=\"1\" class=\"dataframe\">\n",
       "  <thead>\n",
       "    <tr style=\"text-align: right;\">\n",
       "      <th></th>\n",
       "      <th>FLD_AR_ID</th>\n",
       "      <th>FLD_ZONE</th>\n",
       "      <th>FLOODWAY</th>\n",
       "      <th>SFHA_TF</th>\n",
       "      <th>STATIC_BFE</th>\n",
       "      <th>V_DATUM</th>\n",
       "      <th>DEPTH</th>\n",
       "      <th>LEN_UNIT</th>\n",
       "      <th>geometry</th>\n",
       "    </tr>\n",
       "  </thead>\n",
       "  <tbody>\n",
       "    <tr>\n",
       "      <th>1</th>\n",
       "      <td>82</td>\n",
       "      <td>X</td>\n",
       "      <td>None</td>\n",
       "      <td>F</td>\n",
       "      <td>NaN</td>\n",
       "      <td>None</td>\n",
       "      <td>NaN</td>\n",
       "      <td>None</td>\n",
       "      <td>POLYGON ((1033748.952 263778.464, 1033752.656 ...</td>\n",
       "    </tr>\n",
       "    <tr>\n",
       "      <th>6</th>\n",
       "      <td>87</td>\n",
       "      <td>X</td>\n",
       "      <td>None</td>\n",
       "      <td>F</td>\n",
       "      <td>NaN</td>\n",
       "      <td>None</td>\n",
       "      <td>NaN</td>\n",
       "      <td>None</td>\n",
       "      <td>POLYGON ((1034013.168 257011.473, 1034007.732 ...</td>\n",
       "    </tr>\n",
       "    <tr>\n",
       "      <th>11</th>\n",
       "      <td>92</td>\n",
       "      <td>X</td>\n",
       "      <td>None</td>\n",
       "      <td>F</td>\n",
       "      <td>NaN</td>\n",
       "      <td>None</td>\n",
       "      <td>NaN</td>\n",
       "      <td>None</td>\n",
       "      <td>POLYGON ((1043995.696 257160.314, 1043996.904 ...</td>\n",
       "    </tr>\n",
       "    <tr>\n",
       "      <th>15</th>\n",
       "      <td>96</td>\n",
       "      <td>X</td>\n",
       "      <td>None</td>\n",
       "      <td>F</td>\n",
       "      <td>NaN</td>\n",
       "      <td>None</td>\n",
       "      <td>NaN</td>\n",
       "      <td>None</td>\n",
       "      <td>POLYGON ((1034329.553 253484.038, 1034317.702 ...</td>\n",
       "    </tr>\n",
       "    <tr>\n",
       "      <th>19</th>\n",
       "      <td>100</td>\n",
       "      <td>X</td>\n",
       "      <td>None</td>\n",
       "      <td>F</td>\n",
       "      <td>NaN</td>\n",
       "      <td>None</td>\n",
       "      <td>NaN</td>\n",
       "      <td>None</td>\n",
       "      <td>POLYGON ((1029438.728 251094.008, 1029442.937 ...</td>\n",
       "    </tr>\n",
       "  </tbody>\n",
       "</table>\n",
       "</div>"
      ],
      "text/plain": [
       "   FLD_AR_ID FLD_ZONE FLOODWAY SFHA_TF  STATIC_BFE V_DATUM  DEPTH LEN_UNIT  \\\n",
       "1         82        X     None       F         NaN    None    NaN     None   \n",
       "6         87        X     None       F         NaN    None    NaN     None   \n",
       "11        92        X     None       F         NaN    None    NaN     None   \n",
       "15        96        X     None       F         NaN    None    NaN     None   \n",
       "19       100        X     None       F         NaN    None    NaN     None   \n",
       "\n",
       "                                             geometry  \n",
       "1   POLYGON ((1033748.952 263778.464, 1033752.656 ...  \n",
       "6   POLYGON ((1034013.168 257011.473, 1034007.732 ...  \n",
       "11  POLYGON ((1043995.696 257160.314, 1043996.904 ...  \n",
       "15  POLYGON ((1034329.553 253484.038, 1034317.702 ...  \n",
       "19  POLYGON ((1029438.728 251094.008, 1029442.937 ...  "
      ]
     },
     "execution_count": 374,
     "metadata": {},
     "output_type": "execute_result"
    }
   ],
   "source": [
    "# preview the dataframe where flood zones are open water and x\n",
    "pfirm_df.loc[pfirm_df['FLD_ZONE'].isin(['OPEN WATER', 'X'])].head()"
   ]
  },
  {
   "cell_type": "code",
   "execution_count": 375,
   "metadata": {},
   "outputs": [
    {
     "data": {
      "text/html": [
       "<div>\n",
       "<style scoped>\n",
       "    .dataframe tbody tr th:only-of-type {\n",
       "        vertical-align: middle;\n",
       "    }\n",
       "\n",
       "    .dataframe tbody tr th {\n",
       "        vertical-align: top;\n",
       "    }\n",
       "\n",
       "    .dataframe thead th {\n",
       "        text-align: right;\n",
       "    }\n",
       "</style>\n",
       "<table border=\"1\" class=\"dataframe\">\n",
       "  <thead>\n",
       "    <tr style=\"text-align: right;\">\n",
       "      <th></th>\n",
       "      <th>FLD_AR_ID</th>\n",
       "      <th>FLD_ZONE</th>\n",
       "      <th>FLOODWAY</th>\n",
       "      <th>SFHA_TF</th>\n",
       "      <th>STATIC_BFE</th>\n",
       "      <th>V_DATUM</th>\n",
       "      <th>DEPTH</th>\n",
       "      <th>LEN_UNIT</th>\n",
       "    </tr>\n",
       "  </thead>\n",
       "  <tbody>\n",
       "    <tr>\n",
       "      <th>count</th>\n",
       "      <td>537</td>\n",
       "      <td>537</td>\n",
       "      <td>0</td>\n",
       "      <td>537</td>\n",
       "      <td>0.0</td>\n",
       "      <td>0</td>\n",
       "      <td>0.0</td>\n",
       "      <td>0</td>\n",
       "    </tr>\n",
       "    <tr>\n",
       "      <th>unique</th>\n",
       "      <td>537</td>\n",
       "      <td>2</td>\n",
       "      <td>0</td>\n",
       "      <td>1</td>\n",
       "      <td>NaN</td>\n",
       "      <td>0</td>\n",
       "      <td>NaN</td>\n",
       "      <td>0</td>\n",
       "    </tr>\n",
       "    <tr>\n",
       "      <th>top</th>\n",
       "      <td>1783</td>\n",
       "      <td>X</td>\n",
       "      <td>NaN</td>\n",
       "      <td>F</td>\n",
       "      <td>NaN</td>\n",
       "      <td>NaN</td>\n",
       "      <td>NaN</td>\n",
       "      <td>NaN</td>\n",
       "    </tr>\n",
       "    <tr>\n",
       "      <th>freq</th>\n",
       "      <td>1</td>\n",
       "      <td>529</td>\n",
       "      <td>NaN</td>\n",
       "      <td>537</td>\n",
       "      <td>NaN</td>\n",
       "      <td>NaN</td>\n",
       "      <td>NaN</td>\n",
       "      <td>NaN</td>\n",
       "    </tr>\n",
       "    <tr>\n",
       "      <th>mean</th>\n",
       "      <td>NaN</td>\n",
       "      <td>NaN</td>\n",
       "      <td>NaN</td>\n",
       "      <td>NaN</td>\n",
       "      <td>NaN</td>\n",
       "      <td>NaN</td>\n",
       "      <td>NaN</td>\n",
       "      <td>NaN</td>\n",
       "    </tr>\n",
       "    <tr>\n",
       "      <th>std</th>\n",
       "      <td>NaN</td>\n",
       "      <td>NaN</td>\n",
       "      <td>NaN</td>\n",
       "      <td>NaN</td>\n",
       "      <td>NaN</td>\n",
       "      <td>NaN</td>\n",
       "      <td>NaN</td>\n",
       "      <td>NaN</td>\n",
       "    </tr>\n",
       "    <tr>\n",
       "      <th>min</th>\n",
       "      <td>NaN</td>\n",
       "      <td>NaN</td>\n",
       "      <td>NaN</td>\n",
       "      <td>NaN</td>\n",
       "      <td>NaN</td>\n",
       "      <td>NaN</td>\n",
       "      <td>NaN</td>\n",
       "      <td>NaN</td>\n",
       "    </tr>\n",
       "    <tr>\n",
       "      <th>25%</th>\n",
       "      <td>NaN</td>\n",
       "      <td>NaN</td>\n",
       "      <td>NaN</td>\n",
       "      <td>NaN</td>\n",
       "      <td>NaN</td>\n",
       "      <td>NaN</td>\n",
       "      <td>NaN</td>\n",
       "      <td>NaN</td>\n",
       "    </tr>\n",
       "    <tr>\n",
       "      <th>50%</th>\n",
       "      <td>NaN</td>\n",
       "      <td>NaN</td>\n",
       "      <td>NaN</td>\n",
       "      <td>NaN</td>\n",
       "      <td>NaN</td>\n",
       "      <td>NaN</td>\n",
       "      <td>NaN</td>\n",
       "      <td>NaN</td>\n",
       "    </tr>\n",
       "    <tr>\n",
       "      <th>75%</th>\n",
       "      <td>NaN</td>\n",
       "      <td>NaN</td>\n",
       "      <td>NaN</td>\n",
       "      <td>NaN</td>\n",
       "      <td>NaN</td>\n",
       "      <td>NaN</td>\n",
       "      <td>NaN</td>\n",
       "      <td>NaN</td>\n",
       "    </tr>\n",
       "    <tr>\n",
       "      <th>max</th>\n",
       "      <td>NaN</td>\n",
       "      <td>NaN</td>\n",
       "      <td>NaN</td>\n",
       "      <td>NaN</td>\n",
       "      <td>NaN</td>\n",
       "      <td>NaN</td>\n",
       "      <td>NaN</td>\n",
       "      <td>NaN</td>\n",
       "    </tr>\n",
       "  </tbody>\n",
       "</table>\n",
       "</div>"
      ],
      "text/plain": [
       "       FLD_AR_ID FLD_ZONE FLOODWAY SFHA_TF  STATIC_BFE V_DATUM  DEPTH LEN_UNIT\n",
       "count        537      537        0     537         0.0       0    0.0        0\n",
       "unique       537        2        0       1         NaN       0    NaN        0\n",
       "top         1783        X      NaN       F         NaN     NaN    NaN      NaN\n",
       "freq           1      529      NaN     537         NaN     NaN    NaN      NaN\n",
       "mean         NaN      NaN      NaN     NaN         NaN     NaN    NaN      NaN\n",
       "std          NaN      NaN      NaN     NaN         NaN     NaN    NaN      NaN\n",
       "min          NaN      NaN      NaN     NaN         NaN     NaN    NaN      NaN\n",
       "25%          NaN      NaN      NaN     NaN         NaN     NaN    NaN      NaN\n",
       "50%          NaN      NaN      NaN     NaN         NaN     NaN    NaN      NaN\n",
       "75%          NaN      NaN      NaN     NaN         NaN     NaN    NaN      NaN\n",
       "max          NaN      NaN      NaN     NaN         NaN     NaN    NaN      NaN"
      ]
     },
     "execution_count": 375,
     "metadata": {},
     "output_type": "execute_result"
    }
   ],
   "source": [
    "# summary statistics where flood zones are open water and x\n",
    "pfirm_df.loc[pfirm_df['FLD_ZONE'].isin(['OPEN WATER', 'X'])].iloc[:, :-1].describe(include='all')"
   ]
  },
  {
   "cell_type": "code",
   "execution_count": 376,
   "metadata": {},
   "outputs": [
    {
     "data": {
      "text/html": [
       "<div>\n",
       "<style scoped>\n",
       "    .dataframe tbody tr th:only-of-type {\n",
       "        vertical-align: middle;\n",
       "    }\n",
       "\n",
       "    .dataframe tbody tr th {\n",
       "        vertical-align: top;\n",
       "    }\n",
       "\n",
       "    .dataframe thead th {\n",
       "        text-align: right;\n",
       "    }\n",
       "</style>\n",
       "<table border=\"1\" class=\"dataframe\">\n",
       "  <thead>\n",
       "    <tr style=\"text-align: right;\">\n",
       "      <th></th>\n",
       "      <th></th>\n",
       "      <th>FLD_AR_ID</th>\n",
       "      <th>FLOODWAY</th>\n",
       "      <th>STATIC_BFE</th>\n",
       "      <th>V_DATUM</th>\n",
       "      <th>DEPTH</th>\n",
       "      <th>LEN_UNIT</th>\n",
       "      <th>geometry</th>\n",
       "    </tr>\n",
       "    <tr>\n",
       "      <th>FLD_ZONE</th>\n",
       "      <th>SFHA_TF</th>\n",
       "      <th></th>\n",
       "      <th></th>\n",
       "      <th></th>\n",
       "      <th></th>\n",
       "      <th></th>\n",
       "      <th></th>\n",
       "      <th></th>\n",
       "    </tr>\n",
       "  </thead>\n",
       "  <tbody>\n",
       "    <tr>\n",
       "      <th>OPEN WATER</th>\n",
       "      <th>F</th>\n",
       "      <td>8</td>\n",
       "      <td>0</td>\n",
       "      <td>0</td>\n",
       "      <td>0</td>\n",
       "      <td>0</td>\n",
       "      <td>0</td>\n",
       "      <td>8</td>\n",
       "    </tr>\n",
       "    <tr>\n",
       "      <th>X</th>\n",
       "      <th>F</th>\n",
       "      <td>529</td>\n",
       "      <td>0</td>\n",
       "      <td>0</td>\n",
       "      <td>0</td>\n",
       "      <td>0</td>\n",
       "      <td>0</td>\n",
       "      <td>529</td>\n",
       "    </tr>\n",
       "  </tbody>\n",
       "</table>\n",
       "</div>"
      ],
      "text/plain": [
       "                    FLD_AR_ID  FLOODWAY  STATIC_BFE  V_DATUM  DEPTH  LEN_UNIT  \\\n",
       "FLD_ZONE   SFHA_TF                                                              \n",
       "OPEN WATER F                8         0           0        0      0         0   \n",
       "X          F              529         0           0        0      0         0   \n",
       "\n",
       "                    geometry  \n",
       "FLD_ZONE   SFHA_TF            \n",
       "OPEN WATER F               8  \n",
       "X          F             529  "
      ]
     },
     "execution_count": 376,
     "metadata": {},
     "output_type": "execute_result"
    }
   ],
   "source": [
    "# preview count of records grouped by flood zones are open water and x\n",
    "d1 = pfirm_df.loc[pfirm_df['FLD_ZONE'].isin(['OPEN WATER', 'X'])]\n",
    "\n",
    "d1.groupby(by=['FLD_ZONE', 'SFHA_TF']).count()"
   ]
  },
  {
   "cell_type": "code",
   "execution_count": 377,
   "metadata": {},
   "outputs": [
    {
     "name": "stdout",
     "output_type": "stream",
     "text": [
      "number of records in total data frame: 3,985\n",
      "number of records to drop where flood zone is open water and x: 537\n",
      "number of records in dataframe after dropping open water and x zones: 3,448\n"
     ]
    }
   ],
   "source": [
    "print('number of records in total data frame: {:,}'.format(pfirm_df.shape[0]))\n",
    "\n",
    "length = pfirm_df.loc[pfirm_df['FLD_ZONE'].isin(['OPEN WATER', 'X'])].shape[0]\n",
    "print('number of records to drop where flood zone is open water and x: {:,}'.format(length))\n",
    "\n",
    "pfirm_df = pfirm_df.loc[~pfirm_df['FLD_ZONE'].isin(['OPEN WATER', 'X'])]\n",
    "print('number of records in dataframe after dropping open water and x zones: {:,}'.format(pfirm_df.shape[0]))"
   ]
  },
  {
   "cell_type": "code",
   "execution_count": 378,
   "metadata": {},
   "outputs": [
    {
     "data": {
      "text/html": [
       "<div>\n",
       "<style scoped>\n",
       "    .dataframe tbody tr th:only-of-type {\n",
       "        vertical-align: middle;\n",
       "    }\n",
       "\n",
       "    .dataframe tbody tr th {\n",
       "        vertical-align: top;\n",
       "    }\n",
       "\n",
       "    .dataframe thead th {\n",
       "        text-align: right;\n",
       "    }\n",
       "</style>\n",
       "<table border=\"1\" class=\"dataframe\">\n",
       "  <thead>\n",
       "    <tr style=\"text-align: right;\">\n",
       "      <th></th>\n",
       "      <th></th>\n",
       "      <th>FLD_AR_ID</th>\n",
       "      <th>FLOODWAY</th>\n",
       "      <th>STATIC_BFE</th>\n",
       "      <th>V_DATUM</th>\n",
       "      <th>DEPTH</th>\n",
       "      <th>LEN_UNIT</th>\n",
       "      <th>geometry</th>\n",
       "    </tr>\n",
       "    <tr>\n",
       "      <th>SFHA_TF</th>\n",
       "      <th>FLD_ZONE</th>\n",
       "      <th></th>\n",
       "      <th></th>\n",
       "      <th></th>\n",
       "      <th></th>\n",
       "      <th></th>\n",
       "      <th></th>\n",
       "      <th></th>\n",
       "    </tr>\n",
       "  </thead>\n",
       "  <tbody>\n",
       "    <tr>\n",
       "      <th>F</th>\n",
       "      <th>0.2 PCT ANNUAL CHANCE FLOOD HAZARD</th>\n",
       "      <td>1726</td>\n",
       "      <td>0</td>\n",
       "      <td>0</td>\n",
       "      <td>0</td>\n",
       "      <td>0</td>\n",
       "      <td>0</td>\n",
       "      <td>1726</td>\n",
       "    </tr>\n",
       "    <tr>\n",
       "      <th rowspan=\"4\" valign=\"top\">T</th>\n",
       "      <th>A</th>\n",
       "      <td>21</td>\n",
       "      <td>0</td>\n",
       "      <td>0</td>\n",
       "      <td>0</td>\n",
       "      <td>0</td>\n",
       "      <td>0</td>\n",
       "      <td>21</td>\n",
       "    </tr>\n",
       "    <tr>\n",
       "      <th>AE</th>\n",
       "      <td>1269</td>\n",
       "      <td>47</td>\n",
       "      <td>733</td>\n",
       "      <td>733</td>\n",
       "      <td>0</td>\n",
       "      <td>733</td>\n",
       "      <td>1269</td>\n",
       "    </tr>\n",
       "    <tr>\n",
       "      <th>AO</th>\n",
       "      <td>12</td>\n",
       "      <td>0</td>\n",
       "      <td>0</td>\n",
       "      <td>0</td>\n",
       "      <td>12</td>\n",
       "      <td>12</td>\n",
       "      <td>12</td>\n",
       "    </tr>\n",
       "    <tr>\n",
       "      <th>VE</th>\n",
       "      <td>420</td>\n",
       "      <td>0</td>\n",
       "      <td>420</td>\n",
       "      <td>420</td>\n",
       "      <td>0</td>\n",
       "      <td>420</td>\n",
       "      <td>420</td>\n",
       "    </tr>\n",
       "  </tbody>\n",
       "</table>\n",
       "</div>"
      ],
      "text/plain": [
       "                                            FLD_AR_ID  FLOODWAY  STATIC_BFE  \\\n",
       "SFHA_TF FLD_ZONE                                                              \n",
       "F       0.2 PCT ANNUAL CHANCE FLOOD HAZARD       1726         0           0   \n",
       "T       A                                          21         0           0   \n",
       "        AE                                       1269        47         733   \n",
       "        AO                                         12         0           0   \n",
       "        VE                                        420         0         420   \n",
       "\n",
       "                                            V_DATUM  DEPTH  LEN_UNIT  geometry  \n",
       "SFHA_TF FLD_ZONE                                                                \n",
       "F       0.2 PCT ANNUAL CHANCE FLOOD HAZARD        0      0         0      1726  \n",
       "T       A                                         0      0         0        21  \n",
       "        AE                                      733      0       733      1269  \n",
       "        AO                                        0     12        12        12  \n",
       "        VE                                      420      0       420       420  "
      ]
     },
     "execution_count": 378,
     "metadata": {},
     "output_type": "execute_result"
    }
   ],
   "source": [
    "# our dropped flood zones are no longer included in dataframe\n",
    "pfirm_df.groupby(by=['SFHA_TF', 'FLD_ZONE']).count()"
   ]
  },
  {
   "cell_type": "code",
   "execution_count": 379,
   "metadata": {},
   "outputs": [
    {
     "data": {
      "text/plain": [
       "0.2 PCT ANNUAL CHANCE FLOOD HAZARD    1726\n",
       "AE                                    1269\n",
       "VE                                     420\n",
       "A                                       21\n",
       "AO                                      12\n",
       "Name: FLD_ZONE, dtype: int64"
      ]
     },
     "execution_count": 379,
     "metadata": {},
     "output_type": "execute_result"
    }
   ],
   "source": [
    "# number of records in each flood zone\n",
    "pfirm_df['FLD_ZONE'].value_counts()"
   ]
  },
  {
   "cell_type": "code",
   "execution_count": 380,
   "metadata": {},
   "outputs": [
    {
     "data": {
      "text/plain": [
       "<AxesSubplot:>"
      ]
     },
     "execution_count": 380,
     "metadata": {},
     "output_type": "execute_result"
    },
    {
     "data": {
      "image/png": "[encoded data removed]",
      "text/plain": [
       "<Figure size 432x288 with 1 Axes>"
      ]
     },
     "metadata": {
      "needs_background": "light"
     },
     "output_type": "display_data"
    }
   ],
   "source": [
    "# a quick preview of our map after dropping open water and x flood zones\n",
    "pfirm_df.plot()"
   ]
  },
  {
   "cell_type": "code",
   "execution_count": 381,
   "metadata": {},
   "outputs": [
    {
     "data": {
      "text/html": [
       "<div>\n",
       "<style scoped>\n",
       "    .dataframe tbody tr th:only-of-type {\n",
       "        vertical-align: middle;\n",
       "    }\n",
       "\n",
       "    .dataframe tbody tr th {\n",
       "        vertical-align: top;\n",
       "    }\n",
       "\n",
       "    .dataframe thead th {\n",
       "        text-align: right;\n",
       "    }\n",
       "</style>\n",
       "<table border=\"1\" class=\"dataframe\">\n",
       "  <thead>\n",
       "    <tr style=\"text-align: right;\">\n",
       "      <th></th>\n",
       "      <th>FLD_AR_ID</th>\n",
       "      <th>FLD_ZONE</th>\n",
       "      <th>FLOODWAY</th>\n",
       "      <th>SFHA_TF</th>\n",
       "      <th>STATIC_BFE</th>\n",
       "      <th>V_DATUM</th>\n",
       "      <th>DEPTH</th>\n",
       "      <th>LEN_UNIT</th>\n",
       "    </tr>\n",
       "  </thead>\n",
       "  <tbody>\n",
       "    <tr>\n",
       "      <th>count</th>\n",
       "      <td>3448</td>\n",
       "      <td>3448</td>\n",
       "      <td>47</td>\n",
       "      <td>3448</td>\n",
       "      <td>1153.000000</td>\n",
       "      <td>1153</td>\n",
       "      <td>12.000000</td>\n",
       "      <td>1165</td>\n",
       "    </tr>\n",
       "    <tr>\n",
       "      <th>unique</th>\n",
       "      <td>3448</td>\n",
       "      <td>5</td>\n",
       "      <td>1</td>\n",
       "      <td>2</td>\n",
       "      <td>NaN</td>\n",
       "      <td>1</td>\n",
       "      <td>NaN</td>\n",
       "      <td>1</td>\n",
       "    </tr>\n",
       "    <tr>\n",
       "      <th>top</th>\n",
       "      <td>3764</td>\n",
       "      <td>0.2 PCT ANNUAL CHANCE FLOOD HAZARD</td>\n",
       "      <td>FLOODWAY</td>\n",
       "      <td>F</td>\n",
       "      <td>NaN</td>\n",
       "      <td>NAVD88</td>\n",
       "      <td>NaN</td>\n",
       "      <td>FEET</td>\n",
       "    </tr>\n",
       "    <tr>\n",
       "      <th>freq</th>\n",
       "      <td>1</td>\n",
       "      <td>1726</td>\n",
       "      <td>47</td>\n",
       "      <td>1726</td>\n",
       "      <td>NaN</td>\n",
       "      <td>1153</td>\n",
       "      <td>NaN</td>\n",
       "      <td>1165</td>\n",
       "    </tr>\n",
       "    <tr>\n",
       "      <th>mean</th>\n",
       "      <td>NaN</td>\n",
       "      <td>NaN</td>\n",
       "      <td>NaN</td>\n",
       "      <td>NaN</td>\n",
       "      <td>13.786644</td>\n",
       "      <td>NaN</td>\n",
       "      <td>2.333333</td>\n",
       "      <td>NaN</td>\n",
       "    </tr>\n",
       "    <tr>\n",
       "      <th>std</th>\n",
       "      <td>NaN</td>\n",
       "      <td>NaN</td>\n",
       "      <td>NaN</td>\n",
       "      <td>NaN</td>\n",
       "      <td>2.996455</td>\n",
       "      <td>NaN</td>\n",
       "      <td>0.887625</td>\n",
       "      <td>NaN</td>\n",
       "    </tr>\n",
       "    <tr>\n",
       "      <th>min</th>\n",
       "      <td>NaN</td>\n",
       "      <td>NaN</td>\n",
       "      <td>NaN</td>\n",
       "      <td>NaN</td>\n",
       "      <td>8.000000</td>\n",
       "      <td>NaN</td>\n",
       "      <td>1.000000</td>\n",
       "      <td>NaN</td>\n",
       "    </tr>\n",
       "    <tr>\n",
       "      <th>25%</th>\n",
       "      <td>NaN</td>\n",
       "      <td>NaN</td>\n",
       "      <td>NaN</td>\n",
       "      <td>NaN</td>\n",
       "      <td>12.000000</td>\n",
       "      <td>NaN</td>\n",
       "      <td>1.750000</td>\n",
       "      <td>NaN</td>\n",
       "    </tr>\n",
       "    <tr>\n",
       "      <th>50%</th>\n",
       "      <td>NaN</td>\n",
       "      <td>NaN</td>\n",
       "      <td>NaN</td>\n",
       "      <td>NaN</td>\n",
       "      <td>13.000000</td>\n",
       "      <td>NaN</td>\n",
       "      <td>3.000000</td>\n",
       "      <td>NaN</td>\n",
       "    </tr>\n",
       "    <tr>\n",
       "      <th>75%</th>\n",
       "      <td>NaN</td>\n",
       "      <td>NaN</td>\n",
       "      <td>NaN</td>\n",
       "      <td>NaN</td>\n",
       "      <td>15.000000</td>\n",
       "      <td>NaN</td>\n",
       "      <td>3.000000</td>\n",
       "      <td>NaN</td>\n",
       "    </tr>\n",
       "    <tr>\n",
       "      <th>max</th>\n",
       "      <td>NaN</td>\n",
       "      <td>NaN</td>\n",
       "      <td>NaN</td>\n",
       "      <td>NaN</td>\n",
       "      <td>34.000000</td>\n",
       "      <td>NaN</td>\n",
       "      <td>3.000000</td>\n",
       "      <td>NaN</td>\n",
       "    </tr>\n",
       "  </tbody>\n",
       "</table>\n",
       "</div>"
      ],
      "text/plain": [
       "       FLD_AR_ID                            FLD_ZONE  FLOODWAY SFHA_TF  \\\n",
       "count       3448                                3448        47    3448   \n",
       "unique      3448                                   5         1       2   \n",
       "top         3764  0.2 PCT ANNUAL CHANCE FLOOD HAZARD  FLOODWAY       F   \n",
       "freq           1                                1726        47    1726   \n",
       "mean         NaN                                 NaN       NaN     NaN   \n",
       "std          NaN                                 NaN       NaN     NaN   \n",
       "min          NaN                                 NaN       NaN     NaN   \n",
       "25%          NaN                                 NaN       NaN     NaN   \n",
       "50%          NaN                                 NaN       NaN     NaN   \n",
       "75%          NaN                                 NaN       NaN     NaN   \n",
       "max          NaN                                 NaN       NaN     NaN   \n",
       "\n",
       "         STATIC_BFE V_DATUM      DEPTH LEN_UNIT  \n",
       "count   1153.000000    1153  12.000000     1165  \n",
       "unique          NaN       1        NaN        1  \n",
       "top             NaN  NAVD88        NaN     FEET  \n",
       "freq            NaN    1153        NaN     1165  \n",
       "mean      13.786644     NaN   2.333333      NaN  \n",
       "std        2.996455     NaN   0.887625      NaN  \n",
       "min        8.000000     NaN   1.000000      NaN  \n",
       "25%       12.000000     NaN   1.750000      NaN  \n",
       "50%       13.000000     NaN   3.000000      NaN  \n",
       "75%       15.000000     NaN   3.000000      NaN  \n",
       "max       34.000000     NaN   3.000000      NaN  "
      ]
     },
     "execution_count": 381,
     "metadata": {},
     "output_type": "execute_result"
    }
   ],
   "source": [
    "# summary statistics of data\n",
    "pfirm_df.iloc[:, :-1].describe(include='all')"
   ]
  },
  {
   "cell_type": "code",
   "execution_count": 382,
   "metadata": {},
   "outputs": [
    {
     "name": "stdout",
     "output_type": "stream",
     "text": [
      "<class 'geopandas.geodataframe.GeoDataFrame'>\n",
      "Int64Index: 3448 entries, 0 to 3984\n",
      "Data columns (total 9 columns):\n",
      " #   Column      Non-Null Count  Dtype   \n",
      "---  ------      --------------  -----   \n",
      " 0   FLD_AR_ID   3448 non-null   object  \n",
      " 1   FLD_ZONE    3448 non-null   object  \n",
      " 2   FLOODWAY    47 non-null     object  \n",
      " 3   SFHA_TF     3448 non-null   object  \n",
      " 4   STATIC_BFE  1153 non-null   float64 \n",
      " 5   V_DATUM     1153 non-null   object  \n",
      " 6   DEPTH       12 non-null     float64 \n",
      " 7   LEN_UNIT    1165 non-null   object  \n",
      " 8   geometry    3448 non-null   geometry\n",
      "dtypes: float64(2), geometry(1), object(6)\n",
      "memory usage: 269.4+ KB\n"
     ]
    }
   ],
   "source": [
    "# summary of data\n",
    "pfirm_df.info()"
   ]
  },
  {
   "cell_type": "code",
   "execution_count": 383,
   "metadata": {},
   "outputs": [
    {
     "data": {
      "image/png": "[encoded data removed]",
      "text/plain": [
       "<Figure size 720x432 with 1 Axes>"
      ]
     },
     "metadata": {
      "needs_background": "light"
     },
     "output_type": "display_data"
    }
   ],
   "source": [
    "fig, ax = plt.subplots(figsize=(10, 6))\n",
    "\n",
    "sns.histplot(pfirm_df, \n",
    "             x='STATIC_BFE', \n",
    "             hue='FLD_ZONE', \n",
    "             multiple=\"stack\")\n",
    "\n",
    "plt.tight_layout()"
   ]
  },
  {
   "cell_type": "markdown",
   "metadata": {},
   "source": [
    "Distribution of static base flood elevations (ft.) by flood zone."
   ]
  },
  {
   "cell_type": "code",
   "execution_count": 384,
   "metadata": {},
   "outputs": [
    {
     "data": {
      "text/plain": [
       "<AxesSubplot:xlabel='STATIC_BFE', ylabel='Proportion'>"
      ]
     },
     "execution_count": 384,
     "metadata": {},
     "output_type": "execute_result"
    },
    {
     "data": {
      "image/png": "[encoded data removed]",
      "text/plain": [
       "<Figure size 720x432 with 1 Axes>"
      ]
     },
     "metadata": {
      "needs_background": "light"
     },
     "output_type": "display_data"
    }
   ],
   "source": [
    "fig, ax = plt.subplots(figsize=(10, 6))\n",
    "\n",
    "sns.ecdfplot(data=pfirm_df, \n",
    "             x=\"STATIC_BFE\", \n",
    "             hue=\"FLD_ZONE\")"
   ]
  },
  {
   "cell_type": "markdown",
   "metadata": {},
   "source": [
    "Empirical cumulative distributions of static base flood elevations (ft.) by flood zone."
   ]
  },
  {
   "cell_type": "code",
   "execution_count": 385,
   "metadata": {},
   "outputs": [
    {
     "data": {
      "image/png": "[encoded data removed]",
      "text/plain": [
       "<Figure size 432x288 with 1 Axes>"
      ]
     },
     "metadata": {
      "needs_background": "light"
     },
     "output_type": "display_data"
    },
    {
     "data": {
      "image/png": "[encoded data removed]",
      "text/plain": [
       "<Figure size 432x288 with 1 Axes>"
      ]
     },
     "metadata": {
      "needs_background": "light"
     },
     "output_type": "display_data"
    }
   ],
   "source": [
    "# plotting static base flood elevations distribution by flood zone per plot\n",
    "zones = pfirm_df['FLD_ZONE'].unique()\n",
    "\n",
    "for zone in zones:\n",
    "    plot_df = pfirm_df.loc[pfirm_df['FLD_ZONE'] == zone]\n",
    "    if plot_df['STATIC_BFE'].value_counts().sum() < 1:\n",
    "        continue\n",
    "        \n",
    "    plt.figure()    \n",
    "    sns.histplot(plot_df, x='STATIC_BFE')\n",
    "    plt.title('FLD_ZONE = {}'.format(zone))"
   ]
  },
  {
   "cell_type": "code",
   "execution_count": 386,
   "metadata": {},
   "outputs": [
    {
     "data": {
      "text/plain": [
       "F    1726\n",
       "T    1722\n",
       "Name: SFHA_TF, dtype: int64"
      ]
     },
     "execution_count": 386,
     "metadata": {},
     "output_type": "execute_result"
    }
   ],
   "source": [
    "# previewing count of flood zones by within special flood hazard area\n",
    "pfirm_df['SFHA_TF'].value_counts()"
   ]
  },
  {
   "cell_type": "code",
   "execution_count": 387,
   "metadata": {},
   "outputs": [
    {
     "data": {
      "text/html": [
       "<div>\n",
       "<style scoped>\n",
       "    .dataframe tbody tr th:only-of-type {\n",
       "        vertical-align: middle;\n",
       "    }\n",
       "\n",
       "    .dataframe tbody tr th {\n",
       "        vertical-align: top;\n",
       "    }\n",
       "\n",
       "    .dataframe thead th {\n",
       "        text-align: right;\n",
       "    }\n",
       "</style>\n",
       "<table border=\"1\" class=\"dataframe\">\n",
       "  <thead>\n",
       "    <tr style=\"text-align: right;\">\n",
       "      <th></th>\n",
       "      <th>count</th>\n",
       "      <th>mean</th>\n",
       "      <th>std</th>\n",
       "      <th>min</th>\n",
       "      <th>25%</th>\n",
       "      <th>50%</th>\n",
       "      <th>75%</th>\n",
       "      <th>max</th>\n",
       "    </tr>\n",
       "    <tr>\n",
       "      <th>SFHA_TF</th>\n",
       "      <th></th>\n",
       "      <th></th>\n",
       "      <th></th>\n",
       "      <th></th>\n",
       "      <th></th>\n",
       "      <th></th>\n",
       "      <th></th>\n",
       "      <th></th>\n",
       "    </tr>\n",
       "  </thead>\n",
       "  <tbody>\n",
       "    <tr>\n",
       "      <th>F</th>\n",
       "      <td>0.0</td>\n",
       "      <td>NaN</td>\n",
       "      <td>NaN</td>\n",
       "      <td>NaN</td>\n",
       "      <td>NaN</td>\n",
       "      <td>NaN</td>\n",
       "      <td>NaN</td>\n",
       "      <td>NaN</td>\n",
       "    </tr>\n",
       "    <tr>\n",
       "      <th>T</th>\n",
       "      <td>1153.0</td>\n",
       "      <td>13.786644</td>\n",
       "      <td>2.996455</td>\n",
       "      <td>8.0</td>\n",
       "      <td>12.0</td>\n",
       "      <td>13.0</td>\n",
       "      <td>15.0</td>\n",
       "      <td>34.0</td>\n",
       "    </tr>\n",
       "  </tbody>\n",
       "</table>\n",
       "</div>"
      ],
      "text/plain": [
       "          count       mean       std  min   25%   50%   75%   max\n",
       "SFHA_TF                                                          \n",
       "F           0.0        NaN       NaN  NaN   NaN   NaN   NaN   NaN\n",
       "T        1153.0  13.786644  2.996455  8.0  12.0  13.0  15.0  34.0"
      ]
     },
     "execution_count": 387,
     "metadata": {},
     "output_type": "execute_result"
    }
   ],
   "source": [
    "# summary statistics of static base flood elevations by special flood hazard area\n",
    "pfirm_df.groupby(by=['SFHA_TF'])['STATIC_BFE'].describe()"
   ]
  },
  {
   "cell_type": "markdown",
   "metadata": {},
   "source": [
    "## 3.3 Exporting cleaned dataset"
   ]
  },
  {
   "cell_type": "code",
   "execution_count": 409,
   "metadata": {},
   "outputs": [
    {
     "name": "stdout",
     "output_type": "stream",
     "text": [
      "<class 'geopandas.geodataframe.GeoDataFrame'>\n"
     ]
    },
    {
     "data": {
      "text/plain": [
       "(3448, 10)"
      ]
     },
     "execution_count": 409,
     "metadata": {},
     "output_type": "execute_result"
    }
   ],
   "source": [
    "print(type(pfirm_df))\n",
    "pfirm_df.shape"
   ]
  },
  {
   "cell_type": "code",
   "execution_count": 389,
   "metadata": {},
   "outputs": [],
   "source": [
    "pfirm_df.to_file(\"data-output/pfirm-nyc.shp\")\n",
    "pfirm_df.to_file(\"data-output/pfirm-nyc.geojson\", driver='GeoJSON')\n",
    "\n",
    "df = pd.DataFrame(pfirm_df)\n",
    "df.to_csv(\"data-output/pfirm-nyc.csv\", index=False)"
   ]
  },
  {
   "cell_type": "code",
   "execution_count": 390,
   "metadata": {},
   "outputs": [
    {
     "name": "stdout",
     "output_type": "stream",
     "text": [
      "(3448, 9)\n",
      "(3448, 9)\n"
     ]
    }
   ],
   "source": [
    "# sanity checks\n",
    "print(gpd.read_file('data-output/pfirm-nyc.shp').shape)\n",
    "print(pd.read_csv('data-output/pfirm-nyc.csv').shape)"
   ]
  },
  {
   "cell_type": "code",
   "execution_count": 391,
   "metadata": {},
   "outputs": [
    {
     "data": {
      "text/html": [
       "<div>\n",
       "<style scoped>\n",
       "    .dataframe tbody tr th:only-of-type {\n",
       "        vertical-align: middle;\n",
       "    }\n",
       "\n",
       "    .dataframe tbody tr th {\n",
       "        vertical-align: top;\n",
       "    }\n",
       "\n",
       "    .dataframe thead th {\n",
       "        text-align: right;\n",
       "    }\n",
       "</style>\n",
       "<table border=\"1\" class=\"dataframe\">\n",
       "  <thead>\n",
       "    <tr style=\"text-align: right;\">\n",
       "      <th></th>\n",
       "      <th>FLD_AR_ID</th>\n",
       "      <th>FLD_ZONE</th>\n",
       "      <th>FLOODWAY</th>\n",
       "      <th>SFHA_TF</th>\n",
       "      <th>STATIC_BFE</th>\n",
       "      <th>V_DATUM</th>\n",
       "      <th>DEPTH</th>\n",
       "      <th>LEN_UNIT</th>\n",
       "      <th>geometry</th>\n",
       "    </tr>\n",
       "  </thead>\n",
       "  <tbody>\n",
       "    <tr>\n",
       "      <th>0</th>\n",
       "      <td>81</td>\n",
       "      <td>AE</td>\n",
       "      <td>None</td>\n",
       "      <td>T</td>\n",
       "      <td>13.0</td>\n",
       "      <td>NAVD88</td>\n",
       "      <td>NaN</td>\n",
       "      <td>FEET</td>\n",
       "      <td>POLYGON ((1032001.691 263867.839, 1032006.047 ...</td>\n",
       "    </tr>\n",
       "    <tr>\n",
       "      <th>1</th>\n",
       "      <td>83</td>\n",
       "      <td>0.2 PCT ANNUAL CHANCE FLOOD HAZARD</td>\n",
       "      <td>None</td>\n",
       "      <td>F</td>\n",
       "      <td>NaN</td>\n",
       "      <td>None</td>\n",
       "      <td>NaN</td>\n",
       "      <td>None</td>\n",
       "      <td>POLYGON ((1033309.701 263544.181, 1033322.210 ...</td>\n",
       "    </tr>\n",
       "    <tr>\n",
       "      <th>2</th>\n",
       "      <td>84</td>\n",
       "      <td>0.2 PCT ANNUAL CHANCE FLOOD HAZARD</td>\n",
       "      <td>None</td>\n",
       "      <td>F</td>\n",
       "      <td>NaN</td>\n",
       "      <td>None</td>\n",
       "      <td>NaN</td>\n",
       "      <td>None</td>\n",
       "      <td>POLYGON ((1033414.148 262658.868, 1033414.934 ...</td>\n",
       "    </tr>\n",
       "    <tr>\n",
       "      <th>3</th>\n",
       "      <td>85</td>\n",
       "      <td>0.2 PCT ANNUAL CHANCE FLOOD HAZARD</td>\n",
       "      <td>None</td>\n",
       "      <td>F</td>\n",
       "      <td>NaN</td>\n",
       "      <td>None</td>\n",
       "      <td>NaN</td>\n",
       "      <td>None</td>\n",
       "      <td>POLYGON ((1034089.115 262466.034, 1034089.402 ...</td>\n",
       "    </tr>\n",
       "    <tr>\n",
       "      <th>4</th>\n",
       "      <td>86</td>\n",
       "      <td>0.2 PCT ANNUAL CHANCE FLOOD HAZARD</td>\n",
       "      <td>None</td>\n",
       "      <td>F</td>\n",
       "      <td>NaN</td>\n",
       "      <td>None</td>\n",
       "      <td>NaN</td>\n",
       "      <td>None</td>\n",
       "      <td>POLYGON ((1033316.808 262437.816, 1033316.108 ...</td>\n",
       "    </tr>\n",
       "  </tbody>\n",
       "</table>\n",
       "</div>"
      ],
      "text/plain": [
       "  FLD_AR_ID                            FLD_ZONE FLOODWAY SFHA_TF  STATIC_BFE  \\\n",
       "0        81                                  AE     None       T        13.0   \n",
       "1        83  0.2 PCT ANNUAL CHANCE FLOOD HAZARD     None       F         NaN   \n",
       "2        84  0.2 PCT ANNUAL CHANCE FLOOD HAZARD     None       F         NaN   \n",
       "3        85  0.2 PCT ANNUAL CHANCE FLOOD HAZARD     None       F         NaN   \n",
       "4        86  0.2 PCT ANNUAL CHANCE FLOOD HAZARD     None       F         NaN   \n",
       "\n",
       "  V_DATUM  DEPTH LEN_UNIT                                           geometry  \n",
       "0  NAVD88    NaN     FEET  POLYGON ((1032001.691 263867.839, 1032006.047 ...  \n",
       "1    None    NaN     None  POLYGON ((1033309.701 263544.181, 1033322.210 ...  \n",
       "2    None    NaN     None  POLYGON ((1033414.148 262658.868, 1033414.934 ...  \n",
       "3    None    NaN     None  POLYGON ((1034089.115 262466.034, 1034089.402 ...  \n",
       "4    None    NaN     None  POLYGON ((1033316.808 262437.816, 1033316.108 ...  "
      ]
     },
     "execution_count": 391,
     "metadata": {},
     "output_type": "execute_result"
    }
   ],
   "source": [
    "gpd.read_file('data-output/pfirm-nyc.shp').head()"
   ]
  },
  {
   "cell_type": "markdown",
   "metadata": {},
   "source": [
    "# 4. Inspect the geometry of the data"
   ]
  },
  {
   "cell_type": "markdown",
   "metadata": {},
   "source": [
    "## 4.1 Mapping the flood zone"
   ]
  },
  {
   "cell_type": "markdown",
   "metadata": {},
   "source": [
    "![borough_boundaries](imgs/nyc-borough-screenshot.png)\n",
    "\n",
    "*Figure 6. Screenshot of borough boundaries page on nyc open data*\n",
    "\n",
    "Website link: https://data.cityofnewyork.us/City-Government/Borough-Boundaries/tqmj-j8zm"
   ]
  },
  {
   "cell_type": "code",
   "execution_count": 392,
   "metadata": {},
   "outputs": [
    {
     "data": {
      "text/html": [
       "<div>\n",
       "<style scoped>\n",
       "    .dataframe tbody tr th:only-of-type {\n",
       "        vertical-align: middle;\n",
       "    }\n",
       "\n",
       "    .dataframe tbody tr th {\n",
       "        vertical-align: top;\n",
       "    }\n",
       "\n",
       "    .dataframe thead th {\n",
       "        text-align: right;\n",
       "    }\n",
       "</style>\n",
       "<table border=\"1\" class=\"dataframe\">\n",
       "  <thead>\n",
       "    <tr style=\"text-align: right;\">\n",
       "      <th></th>\n",
       "      <th>boro_code</th>\n",
       "      <th>boro_name</th>\n",
       "      <th>shape_area</th>\n",
       "      <th>shape_leng</th>\n",
       "      <th>geometry</th>\n",
       "    </tr>\n",
       "  </thead>\n",
       "  <tbody>\n",
       "    <tr>\n",
       "      <th>0</th>\n",
       "      <td>2.0</td>\n",
       "      <td>Bronx</td>\n",
       "      <td>1.187194e+09</td>\n",
       "      <td>463868.937681</td>\n",
       "      <td>MULTIPOLYGON (((-73.89681 40.79581, -73.89694 ...</td>\n",
       "    </tr>\n",
       "    <tr>\n",
       "      <th>1</th>\n",
       "      <td>1.0</td>\n",
       "      <td>Manhattan</td>\n",
       "      <td>6.365759e+08</td>\n",
       "      <td>359804.890798</td>\n",
       "      <td>MULTIPOLYGON (((-74.01093 40.68449, -74.01193 ...</td>\n",
       "    </tr>\n",
       "    <tr>\n",
       "      <th>2</th>\n",
       "      <td>5.0</td>\n",
       "      <td>Staten Island</td>\n",
       "      <td>1.623636e+09</td>\n",
       "      <td>325929.794027</td>\n",
       "      <td>MULTIPOLYGON (((-74.05051 40.56642, -74.05047 ...</td>\n",
       "    </tr>\n",
       "    <tr>\n",
       "      <th>3</th>\n",
       "      <td>3.0</td>\n",
       "      <td>Brooklyn</td>\n",
       "      <td>1.934174e+09</td>\n",
       "      <td>728195.197649</td>\n",
       "      <td>MULTIPOLYGON (((-73.86327 40.58388, -73.86381 ...</td>\n",
       "    </tr>\n",
       "    <tr>\n",
       "      <th>4</th>\n",
       "      <td>4.0</td>\n",
       "      <td>Queens</td>\n",
       "      <td>3.040205e+09</td>\n",
       "      <td>900270.512975</td>\n",
       "      <td>MULTIPOLYGON (((-73.82645 40.59053, -73.82642 ...</td>\n",
       "    </tr>\n",
       "  </tbody>\n",
       "</table>\n",
       "</div>"
      ],
      "text/plain": [
       "   boro_code      boro_name    shape_area     shape_leng  \\\n",
       "0        2.0          Bronx  1.187194e+09  463868.937681   \n",
       "1        1.0      Manhattan  6.365759e+08  359804.890798   \n",
       "2        5.0  Staten Island  1.623636e+09  325929.794027   \n",
       "3        3.0       Brooklyn  1.934174e+09  728195.197649   \n",
       "4        4.0         Queens  3.040205e+09  900270.512975   \n",
       "\n",
       "                                            geometry  \n",
       "0  MULTIPOLYGON (((-73.89681 40.79581, -73.89694 ...  \n",
       "1  MULTIPOLYGON (((-74.01093 40.68449, -74.01193 ...  \n",
       "2  MULTIPOLYGON (((-74.05051 40.56642, -74.05047 ...  \n",
       "3  MULTIPOLYGON (((-73.86327 40.58388, -73.86381 ...  \n",
       "4  MULTIPOLYGON (((-73.82645 40.59053, -73.82642 ...  "
      ]
     },
     "execution_count": 392,
     "metadata": {},
     "output_type": "execute_result"
    }
   ],
   "source": [
    "# importing borough boundaries for better aesthetics\n",
    "path = 'https://data.cityofnewyork.us/api/geospatial/tqmj-j8zm?method=export&format=Shapefile'\n",
    "\n",
    "borough_gdf = gpd.read_file(path)\n",
    "borough_gdf.head()"
   ]
  },
  {
   "cell_type": "code",
   "execution_count": 393,
   "metadata": {},
   "outputs": [
    {
     "data": {
      "text/plain": [
       "Text(0.5, 1.0, 'nyc boroughs')"
      ]
     },
     "execution_count": 393,
     "metadata": {},
     "output_type": "execute_result"
    },
    {
     "data": {
      "image/png": "[encoded data removed]",
      "text/plain": [
       "<Figure size 432x288 with 1 Axes>"
      ]
     },
     "metadata": {
      "needs_background": "light"
     },
     "output_type": "display_data"
    }
   ],
   "source": [
    "# quick plot of boroughs\n",
    "borough_gdf.plot()\n",
    "plt.title('nyc boroughs')"
   ]
  },
  {
   "cell_type": "code",
   "execution_count": 394,
   "metadata": {},
   "outputs": [
    {
     "name": "stdout",
     "output_type": "stream",
     "text": [
      "epsg:2263\n"
     ]
    },
    {
     "data": {
      "text/plain": [
       "Text(0.5, 1.0, 'nyc boroughs')"
      ]
     },
     "execution_count": 394,
     "metadata": {},
     "output_type": "execute_result"
    },
    {
     "data": {
      "image/png": "[encoded data removed]",
      "text/plain": [
       "<Figure size 432x288 with 1 Axes>"
      ]
     },
     "metadata": {
      "needs_background": "light"
     },
     "output_type": "display_data"
    }
   ],
   "source": [
    "# converting to the local crs of our floodzone dataframe\n",
    "borough_gdf = borough_gdf.to_crs(epsg=2263)\n",
    "print(borough_gdf.crs)\n",
    "\n",
    "borough_gdf.plot()\n",
    "plt.title('nyc boroughs')"
   ]
  },
  {
   "cell_type": "code",
   "execution_count": 395,
   "metadata": {},
   "outputs": [
    {
     "data": {
      "text/plain": [
       "Text(0.5, 1.0, 'Preliminary Flood Insurance Rate Map of New York City')"
      ]
     },
     "execution_count": 395,
     "metadata": {},
     "output_type": "execute_result"
    },
    {
     "data": {
      "image/png": "[encoded data removed]",
      "text/plain": [
       "<Figure size 720x720 with 1 Axes>"
      ]
     },
     "metadata": {
      "needs_background": "light"
     },
     "output_type": "display_data"
    }
   ],
   "source": [
    "fig, ax = plt.subplots(figsize=(10, 10))\n",
    "\n",
    "pfirm_df.plot(ax=ax)\n",
    "borough_gdf.plot(ax=ax, \n",
    "                 facecolor='none', \n",
    "                 edgecolor='black', \n",
    "                 zorder=1)\n",
    "plt.title('Preliminary Flood Insurance Rate Map of New York City', fontsize=15)"
   ]
  },
  {
   "cell_type": "code",
   "execution_count": 396,
   "metadata": {},
   "outputs": [
    {
     "data": {
      "text/plain": [
       "<Projected CRS: EPSG:2263>\n",
       "Name: NAD83 / New York Long Island (ftUS)\n",
       "Axis Info [cartesian]:\n",
       "- X[east]: Easting (US survey foot)\n",
       "- Y[north]: Northing (US survey foot)\n",
       "Area of Use:\n",
       "- name: USA - New York - SPCS - Long Island\n",
       "- bounds: (-74.26, 40.47, -71.8, 41.3)\n",
       "Coordinate Operation:\n",
       "- name: SPCS83 New York Long Island zone (US Survey feet)\n",
       "- method: Lambert Conic Conformal (2SP)\n",
       "Datum: North American Datum 1983\n",
       "- Ellipsoid: GRS 1980\n",
       "- Prime Meridian: Greenwich"
      ]
     },
     "execution_count": 396,
     "metadata": {},
     "output_type": "execute_result"
    }
   ],
   "source": [
    "# preview active crs\n",
    "pfirm_df.crs"
   ]
  },
  {
   "cell_type": "code",
   "execution_count": 397,
   "metadata": {},
   "outputs": [
    {
     "data": {
      "text/html": [
       "<div>\n",
       "<style scoped>\n",
       "    .dataframe tbody tr th:only-of-type {\n",
       "        vertical-align: middle;\n",
       "    }\n",
       "\n",
       "    .dataframe tbody tr th {\n",
       "        vertical-align: top;\n",
       "    }\n",
       "\n",
       "    .dataframe thead th {\n",
       "        text-align: right;\n",
       "    }\n",
       "</style>\n",
       "<table border=\"1\" class=\"dataframe\">\n",
       "  <thead>\n",
       "    <tr style=\"text-align: right;\">\n",
       "      <th></th>\n",
       "      <th>FLD_AR_ID</th>\n",
       "      <th>FLD_ZONE</th>\n",
       "      <th>FLOODWAY</th>\n",
       "      <th>SFHA_TF</th>\n",
       "      <th>STATIC_BFE</th>\n",
       "      <th>V_DATUM</th>\n",
       "      <th>DEPTH</th>\n",
       "      <th>LEN_UNIT</th>\n",
       "      <th>geometry</th>\n",
       "      <th>wgs84</th>\n",
       "    </tr>\n",
       "  </thead>\n",
       "  <tbody>\n",
       "    <tr>\n",
       "      <th>0</th>\n",
       "      <td>81</td>\n",
       "      <td>AE</td>\n",
       "      <td>None</td>\n",
       "      <td>T</td>\n",
       "      <td>13.0</td>\n",
       "      <td>NAVD88</td>\n",
       "      <td>NaN</td>\n",
       "      <td>FEET</td>\n",
       "      <td>POLYGON ((1032001.691 263867.839, 1032006.047 ...</td>\n",
       "      <td>POLYGON ((-73.82729 40.89080, -73.82728 40.890...</td>\n",
       "    </tr>\n",
       "    <tr>\n",
       "      <th>2</th>\n",
       "      <td>83</td>\n",
       "      <td>0.2 PCT ANNUAL CHANCE FLOOD HAZARD</td>\n",
       "      <td>None</td>\n",
       "      <td>F</td>\n",
       "      <td>NaN</td>\n",
       "      <td>None</td>\n",
       "      <td>NaN</td>\n",
       "      <td>None</td>\n",
       "      <td>POLYGON ((1033309.701 263544.181, 1033322.210 ...</td>\n",
       "      <td>POLYGON ((-73.82256 40.88991, -73.82252 40.889...</td>\n",
       "    </tr>\n",
       "    <tr>\n",
       "      <th>3</th>\n",
       "      <td>84</td>\n",
       "      <td>0.2 PCT ANNUAL CHANCE FLOOD HAZARD</td>\n",
       "      <td>None</td>\n",
       "      <td>F</td>\n",
       "      <td>NaN</td>\n",
       "      <td>None</td>\n",
       "      <td>NaN</td>\n",
       "      <td>None</td>\n",
       "      <td>POLYGON ((1033414.148 262658.868, 1033414.934 ...</td>\n",
       "      <td>POLYGON ((-73.82219 40.88747, -73.82219 40.887...</td>\n",
       "    </tr>\n",
       "    <tr>\n",
       "      <th>4</th>\n",
       "      <td>85</td>\n",
       "      <td>0.2 PCT ANNUAL CHANCE FLOOD HAZARD</td>\n",
       "      <td>None</td>\n",
       "      <td>F</td>\n",
       "      <td>NaN</td>\n",
       "      <td>None</td>\n",
       "      <td>NaN</td>\n",
       "      <td>None</td>\n",
       "      <td>POLYGON ((1034089.115 262466.034, 1034089.402 ...</td>\n",
       "      <td>POLYGON ((-73.81975 40.88694, -73.81975 40.886...</td>\n",
       "    </tr>\n",
       "    <tr>\n",
       "      <th>5</th>\n",
       "      <td>86</td>\n",
       "      <td>0.2 PCT ANNUAL CHANCE FLOOD HAZARD</td>\n",
       "      <td>None</td>\n",
       "      <td>F</td>\n",
       "      <td>NaN</td>\n",
       "      <td>None</td>\n",
       "      <td>NaN</td>\n",
       "      <td>None</td>\n",
       "      <td>POLYGON ((1033316.808 262437.816, 1033316.108 ...</td>\n",
       "      <td>POLYGON ((-73.82255 40.88687, -73.82255 40.886...</td>\n",
       "    </tr>\n",
       "  </tbody>\n",
       "</table>\n",
       "</div>"
      ],
      "text/plain": [
       "  FLD_AR_ID                            FLD_ZONE FLOODWAY SFHA_TF  STATIC_BFE  \\\n",
       "0        81                                  AE     None       T        13.0   \n",
       "2        83  0.2 PCT ANNUAL CHANCE FLOOD HAZARD     None       F         NaN   \n",
       "3        84  0.2 PCT ANNUAL CHANCE FLOOD HAZARD     None       F         NaN   \n",
       "4        85  0.2 PCT ANNUAL CHANCE FLOOD HAZARD     None       F         NaN   \n",
       "5        86  0.2 PCT ANNUAL CHANCE FLOOD HAZARD     None       F         NaN   \n",
       "\n",
       "  V_DATUM  DEPTH LEN_UNIT                                           geometry  \\\n",
       "0  NAVD88    NaN     FEET  POLYGON ((1032001.691 263867.839, 1032006.047 ...   \n",
       "2    None    NaN     None  POLYGON ((1033309.701 263544.181, 1033322.210 ...   \n",
       "3    None    NaN     None  POLYGON ((1033414.148 262658.868, 1033414.934 ...   \n",
       "4    None    NaN     None  POLYGON ((1034089.115 262466.034, 1034089.402 ...   \n",
       "5    None    NaN     None  POLYGON ((1033316.808 262437.816, 1033316.108 ...   \n",
       "\n",
       "                                               wgs84  \n",
       "0  POLYGON ((-73.82729 40.89080, -73.82728 40.890...  \n",
       "2  POLYGON ((-73.82256 40.88991, -73.82252 40.889...  \n",
       "3  POLYGON ((-73.82219 40.88747, -73.82219 40.887...  \n",
       "4  POLYGON ((-73.81975 40.88694, -73.81975 40.886...  \n",
       "5  POLYGON ((-73.82255 40.88687, -73.82255 40.886...  "
      ]
     },
     "execution_count": 397,
     "metadata": {},
     "output_type": "execute_result"
    }
   ],
   "source": [
    "# adding a column for our geometry converted to WGS84\n",
    "pfirm_df['wgs84'] = pfirm_df.to_crs(epsg=4326)['geometry']\n",
    "\n",
    "pfirm_df.head()"
   ]
  },
  {
   "cell_type": "code",
   "execution_count": 398,
   "metadata": {},
   "outputs": [
    {
     "data": {
      "text/plain": [
       "<Projected CRS: EPSG:2263>\n",
       "Name: NAD83 / New York Long Island (ftUS)\n",
       "Axis Info [cartesian]:\n",
       "- X[east]: Easting (US survey foot)\n",
       "- Y[north]: Northing (US survey foot)\n",
       "Area of Use:\n",
       "- name: USA - New York - SPCS - Long Island\n",
       "- bounds: (-74.26, 40.47, -71.8, 41.3)\n",
       "Coordinate Operation:\n",
       "- name: SPCS83 New York Long Island zone (US Survey feet)\n",
       "- method: Lambert Conic Conformal (2SP)\n",
       "Datum: North American Datum 1983\n",
       "- Ellipsoid: GRS 1980\n",
       "- Prime Meridian: Greenwich"
      ]
     },
     "execution_count": 398,
     "metadata": {},
     "output_type": "execute_result"
    }
   ],
   "source": [
    "# make sure 2263 is still our active geometry\n",
    "pfirm_df.crs"
   ]
  },
  {
   "cell_type": "code",
   "execution_count": 399,
   "metadata": {},
   "outputs": [
    {
     "data": {
      "text/plain": [
       "Text(0.5, 1.0, 'Preliminary Flood Insurance Rate Map of New York City')"
      ]
     },
     "execution_count": 399,
     "metadata": {},
     "output_type": "execute_result"
    },
    {
     "data": {
      "image/png": "[encoded data removed]",
      "text/plain": [
       "<Figure size 720x720 with 1 Axes>"
      ]
     },
     "metadata": {
      "needs_background": "light"
     },
     "output_type": "display_data"
    }
   ],
   "source": [
    "fig, ax = plt.subplots(figsize=(10, 10))\n",
    "\n",
    "# plotting our map in WGS84\n",
    "pfirm_df.set_geometry('wgs84').plot(ax=ax)\n",
    "borough_gdf.to_crs(epsg=4326).plot(ax=ax, \n",
    "                                   facecolor='none', \n",
    "                                   edgecolor='black', \n",
    "                                   zorder=1)\n",
    "\n",
    "plt.title('Preliminary Flood Insurance Rate Map of New York City', fontsize=15)"
   ]
  },
  {
   "cell_type": "markdown",
   "metadata": {},
   "source": [
    "## 4.2 Analyzing the flood zone's area"
   ]
  },
  {
   "cell_type": "code",
   "execution_count": 400,
   "metadata": {},
   "outputs": [
    {
     "data": {
      "text/plain": [
       "0    1.414248e+07\n",
       "2    1.004589e+05\n",
       "3    1.935660e+05\n",
       "4    6.573445e+04\n",
       "5    1.275814e+05\n",
       "dtype: float64"
      ]
     },
     "execution_count": 400,
     "metadata": {},
     "output_type": "execute_result"
    }
   ],
   "source": [
    "# previewing geometry's area in square ft.\n",
    "pfirm_df.area.head()"
   ]
  },
  {
   "cell_type": "code",
   "execution_count": 401,
   "metadata": {},
   "outputs": [
    {
     "data": {
      "text/plain": [
       "0    0.507292\n",
       "2    0.003603\n",
       "3    0.006943\n",
       "4    0.002358\n",
       "5    0.004576\n",
       "dtype: float64"
      ]
     },
     "execution_count": 401,
     "metadata": {},
     "output_type": "execute_result"
    }
   ],
   "source": [
    "# converting square feet to square miles\n",
    "sq_mi = pfirm_df.area / 5280**2\n",
    "\n",
    "sq_mi.head()"
   ]
  },
  {
   "cell_type": "code",
   "execution_count": 402,
   "metadata": {},
   "outputs": [
    {
     "data": {
      "text/html": [
       "<div>\n",
       "<style scoped>\n",
       "    .dataframe tbody tr th:only-of-type {\n",
       "        vertical-align: middle;\n",
       "    }\n",
       "\n",
       "    .dataframe tbody tr th {\n",
       "        vertical-align: top;\n",
       "    }\n",
       "\n",
       "    .dataframe thead th {\n",
       "        text-align: right;\n",
       "    }\n",
       "</style>\n",
       "<table border=\"1\" class=\"dataframe\">\n",
       "  <thead>\n",
       "    <tr style=\"text-align: right;\">\n",
       "      <th></th>\n",
       "      <th>area sq mi</th>\n",
       "    </tr>\n",
       "  </thead>\n",
       "  <tbody>\n",
       "    <tr>\n",
       "      <th>count</th>\n",
       "      <td>3448.0000</td>\n",
       "    </tr>\n",
       "    <tr>\n",
       "      <th>mean</th>\n",
       "      <td>0.0292</td>\n",
       "    </tr>\n",
       "    <tr>\n",
       "      <th>std</th>\n",
       "      <td>0.1554</td>\n",
       "    </tr>\n",
       "    <tr>\n",
       "      <th>min</th>\n",
       "      <td>0.0000</td>\n",
       "    </tr>\n",
       "    <tr>\n",
       "      <th>25%</th>\n",
       "      <td>0.0003</td>\n",
       "    </tr>\n",
       "    <tr>\n",
       "      <th>50%</th>\n",
       "      <td>0.0021</td>\n",
       "    </tr>\n",
       "    <tr>\n",
       "      <th>75%</th>\n",
       "      <td>0.0104</td>\n",
       "    </tr>\n",
       "    <tr>\n",
       "      <th>max</th>\n",
       "      <td>4.6913</td>\n",
       "    </tr>\n",
       "  </tbody>\n",
       "</table>\n",
       "</div>"
      ],
      "text/plain": [
       "       area sq mi\n",
       "count   3448.0000\n",
       "mean       0.0292\n",
       "std        0.1554\n",
       "min        0.0000\n",
       "25%        0.0003\n",
       "50%        0.0021\n",
       "75%        0.0104\n",
       "max        4.6913"
      ]
     },
     "execution_count": 402,
     "metadata": {},
     "output_type": "execute_result"
    }
   ],
   "source": [
    "# summary statistics of area in sq mi\n",
    "sq_mi_df = sq_mi.to_frame().rename(columns={0:'area sq mi'})\n",
    "\n",
    "round(sq_mi_df.describe(), 4)"
   ]
  },
  {
   "cell_type": "code",
   "execution_count": 403,
   "metadata": {},
   "outputs": [
    {
     "data": {
      "text/plain": [
       "Text(0, 0.5, 'count')"
      ]
     },
     "execution_count": 403,
     "metadata": {},
     "output_type": "execute_result"
    },
    {
     "data": {
      "image/png": "[encoded data removed]",
      "text/plain": [
       "<Figure size 720x432 with 1 Axes>"
      ]
     },
     "metadata": {
      "needs_background": "light"
     },
     "output_type": "display_data"
    }
   ],
   "source": [
    "sq_mi_df.hist(bins=25, figsize=(10,6))\n",
    "plt.title(\"Distribution of Each Geometry's Area\", fontsize=15)\n",
    "plt.xlabel('sq mi')\n",
    "plt.ylabel('count')"
   ]
  },
  {
   "cell_type": "code",
   "execution_count": 404,
   "metadata": {},
   "outputs": [
    {
     "name": "stdout",
     "output_type": "stream",
     "text": [
      "flood zone area statistics:\n",
      "\n",
      "area in square feet: 2,805,616,808\n",
      "area in square miles: 101\n"
     ]
    }
   ],
   "source": [
    "print('flood zone area statistics:\\n')\n",
    "print('area in square feet: {:,.0f}'.format(pfirm_df.area.sum()))\n",
    "print('area in square miles: {:,.0f}'.format(pfirm_df.area.sum() / 5280**2))"
   ]
  },
  {
   "cell_type": "code",
   "execution_count": 405,
   "metadata": {},
   "outputs": [
    {
     "data": {
      "text/plain": [
       "AE    1269\n",
       "VE     420\n",
       "A       21\n",
       "AO      12\n",
       "Name: FLD_ZONE, dtype: int64"
      ]
     },
     "execution_count": 405,
     "metadata": {},
     "output_type": "execute_result"
    }
   ],
   "source": [
    "# creating a dataframe of only flood zones in the special flood hazard area (sfha)\n",
    "# 0.2 pct chance is excluded from the sfha\n",
    "sfha_df = pfirm_df[~pfirm_df['FLD_ZONE'].isin(['0.2 PCT ANNUAL CHANCE FLOOD HAZARD'])]\n",
    "\n",
    "sfha_df['FLD_ZONE'].value_counts()"
   ]
  },
  {
   "cell_type": "code",
   "execution_count": 406,
   "metadata": {},
   "outputs": [
    {
     "name": "stdout",
     "output_type": "stream",
     "text": [
      "area statistics only of special flood hazard area zones:\n",
      "\n",
      "area in square feet: 2,251,096,443\n",
      "area in square miles: 81\n"
     ]
    }
   ],
   "source": [
    "print('area statistics only of special flood hazard area zones:\\n')\n",
    "print('area in square feet: {:,.0f}'.format(sfha_df.area.sum()))\n",
    "print('area in square miles: {:,.0f}'.format(sfha_df.area.sum() / 5280**2))"
   ]
  },
  {
   "cell_type": "code",
   "execution_count": 407,
   "metadata": {},
   "outputs": [
    {
     "data": {
      "text/plain": [
       "{'AE': 47.14892801490547,\n",
       " '0.2 PCT ANNUAL CHANCE FLOOD HAZARD': 19.890681149361665,\n",
       " 'VE': 33.36574122021985,\n",
       " 'AO': 0.035765507846687306,\n",
       " 'A': 0.1965393640507153}"
      ]
     },
     "execution_count": 407,
     "metadata": {},
     "output_type": "execute_result"
    }
   ],
   "source": [
    "# retrieving area calculations by flood zone\n",
    "zones = pfirm_df['FLD_ZONE'].unique()\n",
    "empty_dict = {}\n",
    "\n",
    "for zone in zones:\n",
    "    zone_df = pfirm_df.loc[pfirm_df['FLD_ZONE'] == zone]\n",
    "    zone_series = zone_df.area.sum() / 5280**2\n",
    "    \n",
    "    empty_dict.update({zone:zone_series})\n",
    "    \n",
    "empty_dict"
   ]
  },
  {
   "cell_type": "code",
   "execution_count": 408,
   "metadata": {},
   "outputs": [
    {
     "data": {
      "text/plain": [
       "Text(0.5, 1.0, 'Area by Flood Zone in NYC')"
      ]
     },
     "execution_count": 408,
     "metadata": {},
     "output_type": "execute_result"
    },
    {
     "data": {
      "image/png": "[encoded data removed]",
      "text/plain": [
       "<Figure size 720x576 with 1 Axes>"
      ]
     },
     "metadata": {
      "needs_background": "light"
     },
     "output_type": "display_data"
    }
   ],
   "source": [
    "s1 = pd.Series(empty_dict).rename('area (sq mi)')\n",
    "s1 = s1.reset_index().rename(columns={'index': 'zone'})\n",
    "s1 = s1.sort_values(by='area (sq mi)', ascending=False)\n",
    "\n",
    "# plot of area by flood zone\n",
    "fig, ax = plt.subplots(figsize=(10, 8))\n",
    "\n",
    "sns.barplot(data=s1, \n",
    "            x='area (sq mi)', \n",
    "            y='zone')\n",
    "\n",
    "plt.title('Area by Flood Zone in NYC', fontsize=15)"
   ]
  },
  {
   "cell_type": "code",
   "execution_count": null,
   "metadata": {},
   "outputs": [],
   "source": []
  }
 ],
 "metadata": {
  "kernelspec": {
   "display_name": "Python 3",
   "language": "python",
   "name": "python3"
  },
  "language_info": {
   "codemirror_mode": {
    "name": "ipython",
    "version": 3
   },
   "file_extension": ".py",
   "mimetype": "text/x-python",
   "name": "python",
   "nbconvert_exporter": "python",
   "pygments_lexer": "ipython3",
   "version": "3.7.1"
  }
 },
 "nbformat": 4,
 "nbformat_minor": 4
}
